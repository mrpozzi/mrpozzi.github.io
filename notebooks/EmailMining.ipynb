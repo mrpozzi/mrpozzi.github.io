{
 "cells": [
  {
   "cell_type": "code",
   "execution_count": null,
   "metadata": {},
   "outputs": [],
   "source": []
  },
  {
   "cell_type": "code",
   "execution_count": 4,
   "metadata": {},
   "outputs": [
    {
     "name": "stderr",
     "output_type": "stream",
     "text": [
      "usage: ipykernel_launcher.py [--auth_host_name AUTH_HOST_NAME]\n",
      "                             [--noauth_local_webserver]\n",
      "                             [--auth_host_port [AUTH_HOST_PORT [AUTH_HOST_PORT ...]]]\n",
      "                             [--logging_level {DEBUG,INFO,WARNING,ERROR,CRITICAL}]\n",
      "ipykernel_launcher.py: error: unrecognized arguments: -f /Users/lpozzi/Library/Jupyter/runtime/kernel-4f8e8150-d06b-473c-b9d0-dddc769ea613.json\n"
     ]
    },
    {
     "ename": "SystemExit",
     "evalue": "2",
     "output_type": "error",
     "traceback": [
      "An exception has occurred, use %tb to see the full traceback.\n",
      "\u001b[0;31mSystemExit\u001b[0m\u001b[0;31m:\u001b[0m 2\n"
     ]
    },
    {
     "name": "stderr",
     "output_type": "stream",
     "text": [
      "/anaconda3/lib/python3.6/site-packages/IPython/core/interactiveshell.py:2918: UserWarning: To exit: use 'exit', 'quit', or Ctrl-D.\n",
      "  warn(\"To exit: use 'exit', 'quit', or Ctrl-D.\", stacklevel=1)\n"
     ]
    }
   ],
   "source": []
  },
  {
   "cell_type": "code",
   "execution_count": null,
   "metadata": {},
   "outputs": [],
   "source": [
    "from oauth2client.client import flow_from_clientsecrets\n",
    "...\n",
    "flow = flow_from_clientsecrets('path_to_directory/client_secrets.json',\n",
    "                               scope='https://www.googleapis.com/auth/calendar',\n",
    "                               redirect_uri='http://example.com/auth_return')"
   ]
  },
  {
   "cell_type": "code",
   "execution_count": null,
   "metadata": {},
   "outputs": [],
   "source": []
  },
  {
   "cell_type": "code",
   "execution_count": null,
   "metadata": {},
   "outputs": [],
   "source": []
  },
  {
   "cell_type": "code",
   "execution_count": null,
   "metadata": {},
   "outputs": [],
   "source": [
    "import argparse\n",
    "from oauth2client import tools\n",
    "\n",
    "parser = argparse.ArgumentParser(parents=[tools.argparser])\n",
    "flags = parser.parse_args()\n",
    "...\n",
    "credentials = tools.run_flow(flow, storage, flags)"
   ]
  },
  {
   "cell_type": "code",
   "execution_count": 12,
   "metadata": {},
   "outputs": [
    {
     "name": "stdout",
     "output_type": "stream",
     "text": [
      "Total unread messages in inbox:  32\n",
      "{'Subject': 'Fwd: You have received a gift certificate for La Biang Thai', 'Date': 'Mon, 25 Dec 2017 20:12:22 +0000', 'Sender': 'Elyse Estrada <elyse.estrada@gmail.com>', 'Snippet': 'In case you lose the printed gift card. Merry Krismas!! 💋❤️💃🏼 ---------- Forwarded message --------- From: Elyse &amp; Ryan &lt;emails@secure-booker.com&gt; Date: Sun, Dec 24, 2017 at 1:01 PM Subject:'}\n"
     ]
    }
   ],
   "source": [
    "!python /Users/lpozzi/Desktop/quickstart.py"
   ]
  },
  {
   "cell_type": "code",
   "execution_count": 15,
   "metadata": {},
   "outputs": [],
   "source": [
    "store = file.Storage('token.json')\n",
    "creds = store.get()\n",
    "service = build('gmail', 'v1', http=creds.authorize(Http()))"
   ]
  },
  {
   "cell_type": "code",
   "execution_count": 16,
   "metadata": {},
   "outputs": [],
   "source": [
    "results = service.users().labels().list(userId='me').execute()\n",
    "#labels = results.get('labels', [])"
   ]
  },
  {
   "cell_type": "code",
   "execution_count": 26,
   "metadata": {},
   "outputs": [
    {
     "data": {
      "text/plain": [
       "{'messages': [{'id': '1665f14009ab2034', 'threadId': '1665f14009ab2034'},\n",
       "  {'id': '1665ef4f595acacf', 'threadId': '1665c2fbdea9dd1c'},\n",
       "  {'id': '1665eee4e80837b5', 'threadId': '1611154f49dac58e'},\n",
       "  {'id': '1665edb27ba9998e', 'threadId': '1665edb27ba9998e'},\n",
       "  {'id': '1665ec051abdd095', 'threadId': '1665ebdb3632e21c'},\n",
       "  {'id': '1665ebdb3632e21c', 'threadId': '1665ebdb3632e21c'},\n",
       "  {'id': '1665ebb15ebf0e30', 'threadId': '1665c2fbdea9dd1c'},\n",
       "  {'id': '1665eb10b8f24b2a', 'threadId': '1665eb10b8f24b2a'},\n",
       "  {'id': '1665eae237f7dc29', 'threadId': '1665d58e5db299c4'},\n",
       "  {'id': '1665d58e5db299c4', 'threadId': '1665d58e5db299c4'},\n",
       "  {'id': '1665ccfdea473d1c', 'threadId': '1665ccfdea473d1c'},\n",
       "  {'id': '1665cb09971aa42c', 'threadId': '1665cb09971aa42c'},\n",
       "  {'id': '1665c3f2fbd2fcc8', 'threadId': '1665c2fbdea9dd1c'},\n",
       "  {'id': '1665c3c2ee25b078', 'threadId': '1665988288fe9600'},\n",
       "  {'id': '1665c2fbdea9dd1c', 'threadId': '1665c2fbdea9dd1c'},\n",
       "  {'id': '1665c1ade8616bae', 'threadId': '1665ae00eec6cd42'},\n",
       "  {'id': '1665c1a6aeb9bb76', 'threadId': '1665bed407d73b19'},\n",
       "  {'id': '1665bed407d73b19', 'threadId': '1665bed407d73b19'},\n",
       "  {'id': '1665b6b3dc0683af', 'threadId': '166452c39e714eb7'},\n",
       "  {'id': '1665ae00eec6cd42', 'threadId': '1665ae00eec6cd42'},\n",
       "  {'id': '1665a13254d54484', 'threadId': '1665952d3b2af0f7'},\n",
       "  {'id': '1665a111736bf6b0', 'threadId': '1665952d3b2af0f7'},\n",
       "  {'id': '16659fd83389ac73', 'threadId': '16659f7bd2820e9b'},\n",
       "  {'id': '16659fd318088828', 'threadId': '16659f7bd2820e9b'},\n",
       "  {'id': '16659fc9aaebc9e2', 'threadId': '16659f7bd2820e9b'},\n",
       "  {'id': '16659fc0d01504db', 'threadId': '16659f7bd2820e9b'},\n",
       "  {'id': '16659fbc84504146', 'threadId': '16659f7bd2820e9b'},\n",
       "  {'id': '16659fb7eba93eee', 'threadId': '16659f7bd2820e9b'},\n",
       "  {'id': '16659fb456a4fc11', 'threadId': '16659f7bd2820e9b'},\n",
       "  {'id': '16659fafb647e845', 'threadId': '16659f7bd2820e9b'},\n",
       "  {'id': '16659fae24811166', 'threadId': '16659f7bd2820e9b'},\n",
       "  {'id': '16659fad2b2d126f', 'threadId': '16659f7bd2820e9b'},\n",
       "  {'id': '16659faca0c63433', 'threadId': '16659f7bd2820e9b'},\n",
       "  {'id': '16659fac24214df1', 'threadId': '16659f7bd2820e9b'},\n",
       "  {'id': '16659fa9cc9df5c5', 'threadId': '16659f7bd2820e9b'},\n",
       "  {'id': '16659f8fce338cdd', 'threadId': '16659f7bd2820e9b'},\n",
       "  {'id': '16659f8d578f30be', 'threadId': '16659f7bd2820e9b'},\n",
       "  {'id': '16659f82396fa771', 'threadId': '16659f7bd2820e9b'},\n",
       "  {'id': '16659f7fd5305422', 'threadId': '16659f7bd2820e9b'},\n",
       "  {'id': '16659f7dafd7b85a', 'threadId': '16659f7bd2820e9b'},\n",
       "  {'id': '16659f7bd2820e9b', 'threadId': '16659f7bd2820e9b'},\n",
       "  {'id': '16659f4f18836baf', 'threadId': '1665952d3b2af0f7'},\n",
       "  {'id': '16659b9bc2ccdcfa', 'threadId': '166452c39e714eb7'},\n",
       "  {'id': '16659b27723ea8a7', 'threadId': '166452c39e714eb7'},\n",
       "  {'id': '16659a51552cd2b3', 'threadId': '1665952d3b2af0f7'},\n",
       "  {'id': '16659a0ece520f5d', 'threadId': '1665952d3b2af0f7'},\n",
       "  {'id': '166599bc6c2b8558', 'threadId': '1665952d3b2af0f7'},\n",
       "  {'id': '166599a2fe0b5c31', 'threadId': '1665952d3b2af0f7'},\n",
       "  {'id': '16659941ae340ced', 'threadId': '1665952d3b2af0f7'},\n",
       "  {'id': '16659940f25263e8', 'threadId': '1665952d3b2af0f7'},\n",
       "  {'id': '1665993b79772c18', 'threadId': '1665952d3b2af0f7'},\n",
       "  {'id': '1665993a5f58cb4f', 'threadId': '1665952d3b2af0f7'},\n",
       "  {'id': '16659938b80ed901', 'threadId': '1665952d3b2af0f7'},\n",
       "  {'id': '166599357146f752', 'threadId': '1665952d3b2af0f7'},\n",
       "  {'id': '166598bbe6ff7a6c', 'threadId': '1665952d3b2af0f7'},\n",
       "  {'id': '1665988288fe9600', 'threadId': '1665988288fe9600'},\n",
       "  {'id': '166597c6dfe33e3f', 'threadId': '1665952d3b2af0f7'},\n",
       "  {'id': '166597b44d7d17da', 'threadId': '166597b44d7d17da'},\n",
       "  {'id': '1665975ce3123e8e', 'threadId': '1665952d3b2af0f7'},\n",
       "  {'id': '1665972a719dd41d', 'threadId': '1665952d3b2af0f7'},\n",
       "  {'id': '166595cb2d9bfec9', 'threadId': '1665952d3b2af0f7'},\n",
       "  {'id': '1665952fe74e77e6', 'threadId': '1665952d3b2af0f7'},\n",
       "  {'id': '1665952e677fd5ac', 'threadId': '1665952d3b2af0f7'},\n",
       "  {'id': '1665952d3b2af0f7', 'threadId': '1665952d3b2af0f7'},\n",
       "  {'id': '166594f6ebbd7da2', 'threadId': '166587be0331663c'},\n",
       "  {'id': '16659458a50a6bac', 'threadId': '166592e1d5e04bf4'},\n",
       "  {'id': '166593d45b499ca3', 'threadId': '166592e1d5e04bf4'},\n",
       "  {'id': '166592e1d5e04bf4', 'threadId': '166592e1d5e04bf4'},\n",
       "  {'id': '166587be0331663c', 'threadId': '166587be0331663c'},\n",
       "  {'id': '1665663326bf8da2', 'threadId': '1665663326bf8da2'},\n",
       "  {'id': '1665662889e64933', 'threadId': '1665660e8558fb78'},\n",
       "  {'id': '166565936d438edd', 'threadId': '16653b72fdbe968a'},\n",
       "  {'id': '166561a9272016be', 'threadId': '16653b72fdbe968a'},\n",
       "  {'id': '16655e599167cb51', 'threadId': '16655c244f2ced53'},\n",
       "  {'id': '16655e480164baa6', 'threadId': '166559ce9951fe31'},\n",
       "  {'id': '16655e4694cf0dbb', 'threadId': '166559ce9951fe31'},\n",
       "  {'id': '16655e43a7ecc47e', 'threadId': '166559ce9951fe31'},\n",
       "  {'id': '16655e420e89f976', 'threadId': '166559ce9951fe31'},\n",
       "  {'id': '16655e3edb508e62', 'threadId': '166559ce9951fe31'},\n",
       "  {'id': '16655e0bc14ad79a', 'threadId': '166559ce9951fe31'},\n",
       "  {'id': '16655e0a1ad2619f', 'threadId': '166559ce9951fe31'},\n",
       "  {'id': '16655da2b2279999', 'threadId': '16655c244f2ced53'},\n",
       "  {'id': '16655d934fdbdbb1', 'threadId': '166559ce9951fe31'},\n",
       "  {'id': '16655d8b07dc518f', 'threadId': '166559ce9951fe31'},\n",
       "  {'id': '16655d49627a8838', 'threadId': '166559ce9951fe31'},\n",
       "  {'id': '16655d442d7352a8', 'threadId': '166559ce9951fe31'},\n",
       "  {'id': '16655d421523799c', 'threadId': '166559ce9951fe31'},\n",
       "  {'id': '16655d3e108cd8f6', 'threadId': '166559ce9951fe31'},\n",
       "  {'id': '16655d3bb79c6531', 'threadId': '166559ce9951fe31'},\n",
       "  {'id': '16655d0670a32e22', 'threadId': '166559ce9951fe31'},\n",
       "  {'id': '16655d0069e502af', 'threadId': '166559ce9951fe31'},\n",
       "  {'id': '16655cfe1e750555', 'threadId': '166559ce9951fe31'},\n",
       "  {'id': '16655cf8b2512493', 'threadId': '166559ce9951fe31'},\n",
       "  {'id': '16655cf2ff6697b0', 'threadId': '166559ce9951fe31'},\n",
       "  {'id': '16655cf12aa0c6ca', 'threadId': '166559ce9951fe31'},\n",
       "  {'id': '16655cefd33de232', 'threadId': '166559ce9951fe31'},\n",
       "  {'id': '16655cdb705bb3ce', 'threadId': '16655c244f2ced53'},\n",
       "  {'id': '16655cd5eb3ce0c5', 'threadId': '166559ce9951fe31'},\n",
       "  {'id': '16655cd497b1f470', 'threadId': '166559ce9951fe31'},\n",
       "  {'id': '16655cc929bc6b32', 'threadId': '166559ce9951fe31'}],\n",
       " 'nextPageToken': '18270318381466574776',\n",
       " 'resultSizeEstimate': 103}"
      ]
     },
     "execution_count": 26,
     "metadata": {},
     "output_type": "execute_result"
    }
   ],
   "source": [
    "service.users().messages().list(userId='me').execute()"
   ]
  },
  {
   "cell_type": "code",
   "execution_count": 43,
   "metadata": {},
   "outputs": [
    {
     "data": {
      "text/plain": [
       "{'labels': [{'id': 'Label_4',\n",
       "   'labelListVisibility': 'labelHide',\n",
       "   'messageListVisibility': 'show',\n",
       "   'name': 'Notes',\n",
       "   'type': 'user'},\n",
       "  {'id': 'CATEGORY_FORUMS', 'name': 'CATEGORY_FORUMS', 'type': 'system'},\n",
       "  {'color': {'backgroundColor': '#4986e7', 'textColor': '#ffffff'},\n",
       "   'id': 'Label_20',\n",
       "   'labelListVisibility': 'labelShow',\n",
       "   'messageListVisibility': 'show',\n",
       "   'name': '#jocklife/#dolphinclub',\n",
       "   'type': 'user'},\n",
       "  {'color': {'backgroundColor': '#16a765', 'textColor': '#ffffff'},\n",
       "   'id': 'Label_14',\n",
       "   'labelListVisibility': 'labelShow',\n",
       "   'messageListVisibility': 'show',\n",
       "   'name': '#papiri',\n",
       "   'type': 'user'},\n",
       "  {'color': {'backgroundColor': '#eeeeee', 'textColor': '#222222'},\n",
       "   'id': 'Label_2',\n",
       "   'labelListVisibility': 'labelShow',\n",
       "   'messageListVisibility': 'show',\n",
       "   'name': '#jocklife',\n",
       "   'type': 'user'},\n",
       "  {'color': {'backgroundColor': '#e7e7e7', 'textColor': '#464646'},\n",
       "   'id': 'Label_19',\n",
       "   'labelListVisibility': 'labelShow',\n",
       "   'messageListVisibility': 'show',\n",
       "   'name': '#vida/#polito',\n",
       "   'type': 'user'},\n",
       "  {'color': {'backgroundColor': '#42d692', 'textColor': '#094228'},\n",
       "   'id': 'Label_10',\n",
       "   'labelListVisibility': 'labelShow',\n",
       "   'messageListVisibility': 'show',\n",
       "   'name': '#yum',\n",
       "   'type': 'user'},\n",
       "  {'color': {'backgroundColor': '#b99aff', 'textColor': '#ffffff'},\n",
       "   'id': 'Label_7',\n",
       "   'labelListVisibility': 'labelShow',\n",
       "   'messageListVisibility': 'show',\n",
       "   'name': '#snaps',\n",
       "   'type': 'user'},\n",
       "  {'color': {'backgroundColor': '#98d7e4', 'textColor': '#0d3b44'},\n",
       "   'id': 'Label_15',\n",
       "   'labelListVisibility': 'labelShow',\n",
       "   'messageListVisibility': 'show',\n",
       "   'name': '#themtunes',\n",
       "   'type': 'user'},\n",
       "  {'color': {'backgroundColor': '#eeeeee', 'textColor': '#222222'},\n",
       "   'id': 'Label_3',\n",
       "   'labelListVisibility': 'labelShow',\n",
       "   'messageListVisibility': 'show',\n",
       "   'name': '#werk',\n",
       "   'type': 'user'},\n",
       "  {'id': 'CATEGORY_PERSONAL', 'name': 'CATEGORY_PERSONAL', 'type': 'system'},\n",
       "  {'id': 'Label_21', 'name': 'Sent Messages', 'type': 'user'},\n",
       "  {'id': 'CATEGORY_SOCIAL', 'name': 'CATEGORY_SOCIAL', 'type': 'system'},\n",
       "  {'color': {'backgroundColor': '#2da2bb', 'textColor': '#ffffff'},\n",
       "   'id': 'Label_12',\n",
       "   'labelListVisibility': 'labelShow',\n",
       "   'messageListVisibility': 'show',\n",
       "   'name': '#aroundtheworld',\n",
       "   'type': 'user'},\n",
       "  {'color': {'backgroundColor': '#eeeeee', 'textColor': '#222222'},\n",
       "   'id': 'Label_8',\n",
       "   'labelListVisibility': 'labelShow',\n",
       "   'messageListVisibility': 'show',\n",
       "   'name': '#pointparticle',\n",
       "   'type': 'user'},\n",
       "  {'color': {'backgroundColor': '#eeeeee', 'textColor': '#222222'},\n",
       "   'id': 'Label_5',\n",
       "   'labelListVisibility': 'labelShow',\n",
       "   'messageListVisibility': 'show',\n",
       "   'name': '#vida',\n",
       "   'type': 'user'},\n",
       "  {'id': 'IMPORTANT',\n",
       "   'labelListVisibility': 'labelShow',\n",
       "   'messageListVisibility': 'hide',\n",
       "   'name': 'IMPORTANT',\n",
       "   'type': 'system'},\n",
       "  {'color': {'backgroundColor': '#eeeeee', 'textColor': '#222222'},\n",
       "   'id': 'Label_1',\n",
       "   'labelListVisibility': 'labelShow',\n",
       "   'messageListVisibility': 'show',\n",
       "   'name': '#vida/#cal',\n",
       "   'type': 'user'},\n",
       "  {'id': 'CATEGORY_UPDATES', 'name': 'CATEGORY_UPDATES', 'type': 'system'},\n",
       "  {'id': 'CHAT',\n",
       "   'labelListVisibility': 'labelShow',\n",
       "   'messageListVisibility': 'hide',\n",
       "   'name': 'CHAT',\n",
       "   'type': 'system'},\n",
       "  {'id': 'SENT',\n",
       "   'labelListVisibility': 'labelShow',\n",
       "   'messageListVisibility': 'hide',\n",
       "   'name': 'SENT',\n",
       "   'type': 'system'},\n",
       "  {'id': 'INBOX',\n",
       "   'labelListVisibility': 'labelShow',\n",
       "   'messageListVisibility': 'hide',\n",
       "   'name': 'INBOX',\n",
       "   'type': 'system'},\n",
       "  {'id': 'TRASH',\n",
       "   'labelListVisibility': 'labelHide',\n",
       "   'messageListVisibility': 'hide',\n",
       "   'name': 'TRASH',\n",
       "   'type': 'system'},\n",
       "  {'id': 'CATEGORY_PROMOTIONS',\n",
       "   'name': 'CATEGORY_PROMOTIONS',\n",
       "   'type': 'system'},\n",
       "  {'id': 'DRAFT',\n",
       "   'labelListVisibility': 'labelShow',\n",
       "   'messageListVisibility': 'hide',\n",
       "   'name': 'DRAFT',\n",
       "   'type': 'system'},\n",
       "  {'id': 'SPAM',\n",
       "   'labelListVisibility': 'labelShow',\n",
       "   'messageListVisibility': 'hide',\n",
       "   'name': 'SPAM',\n",
       "   'type': 'system'},\n",
       "  {'id': 'STARRED',\n",
       "   'labelListVisibility': 'labelShow',\n",
       "   'messageListVisibility': 'hide',\n",
       "   'name': 'STARRED',\n",
       "   'type': 'system'},\n",
       "  {'id': 'UNREAD', 'name': 'UNREAD', 'type': 'system'},\n",
       "  {'color': {'backgroundColor': '#eeeeee', 'textColor': '#222222'},\n",
       "   'id': 'Label_9',\n",
       "   'labelListVisibility': 'labelShow',\n",
       "   'messageListVisibility': 'show',\n",
       "   'name': '#sciencebro',\n",
       "   'type': 'user'},\n",
       "  {'color': {'backgroundColor': '#f691b2', 'textColor': '#994a64'},\n",
       "   'id': 'Label_17',\n",
       "   'labelListVisibility': 'labelShow',\n",
       "   'messageListVisibility': 'show',\n",
       "   'name': '#jocklife/#marathonswimming',\n",
       "   'type': 'user'}]}"
      ]
     },
     "execution_count": 43,
     "metadata": {},
     "output_type": "execute_result"
    }
   ],
   "source": [
    "service.users().labels().list(userId='me').execute()"
   ]
  },
  {
   "cell_type": "code",
   "execution_count": 78,
   "metadata": {},
   "outputs": [],
   "source": [
    "\"\"\"Get a list of Threads from the user's mailbox.\n",
    "\"\"\"\n",
    "\n",
    "from apiclient import errors\n",
    "\n",
    "\n",
    "def ListThreadsMatchingQuery(service, user_id, query=''):\n",
    "    \"\"\"List all Threads of the user's mailbox matching the query.\n",
    "\n",
    "      Args:\n",
    "        service: Authorized Gmail API service instance.\n",
    "        user_id: User's email address. The special value \"me\"\n",
    "        can be used to indicate the authenticated user.\n",
    "        query: String used to filter messages returned.\n",
    "               Eg.- 'label:UNREAD' for unread messages only.\n",
    "\n",
    "      Returns:\n",
    "        List of threads that match the criteria of the query. Note that the returned\n",
    "        list contains Thread IDs, you must use get with the appropriate\n",
    "        ID to get the details for a Thread.\n",
    "    \"\"\"\n",
    "    response = service.users().threads().list(userId=user_id, q=query).execute()\n",
    "    threads = []\n",
    "    if 'threads' in response:\n",
    "      threads.extend(response['threads'])\n",
    "\n",
    "    while 'nextPageToken' in response:\n",
    "      page_token = response['nextPageToken']\n",
    "      response = service.users().threads().list(userId=user_id, q=query,\n",
    "                                        pageToken=page_token).execute()\n",
    "      threads.extend(response['threads'])\n",
    "\n",
    "    return threads\n",
    "\n",
    "\n",
    "def ListThreadsWithLabels(service, user_id, label_ids=[]):\n",
    "  \"\"\"List all Threads of the user's mailbox with label_ids applied.\n",
    "\n",
    "  Args:\n",
    "    service: Authorized Gmail API service instance.\n",
    "    user_id: User's email address. The special value \"me\"\n",
    "    can be used to indicate the authenticated user.\n",
    "    label_ids: Only return Threads with these labelIds applied.\n",
    "\n",
    "  Returns:\n",
    "    List of threads that match the criteria of the query. Note that the returned\n",
    "    list contains Thread IDs, you must use get with the appropriate\n",
    "    ID to get the details for a Thread.\n",
    "  \"\"\"\n",
    "  if True:\n",
    "    response = service.users().threads().list(userId=user_id,\n",
    "                                              labelIds=label_ids).execute()\n",
    "    threads = []\n",
    "    if 'threads' in response:\n",
    "      threads.extend(response['threads'])\n",
    "\n",
    "    while 'nextPageToken' in response:\n",
    "      page_token = response['nextPageToken']\n",
    "      response = service.users().threads().list(userId=user_id,\n",
    "                                                labelIds=label_ids,\n",
    "                                                pageToken=page_token).execute()\n",
    "      threads.extend(response['threads'])\n",
    "\n",
    "    return threads\n",
    "\n",
    "\n",
    "def GetThread(service, user_id, thread_id):\n",
    "    \"\"\"Get a Thread.\n",
    "\n",
    "      Args:\n",
    "        service: Authorized Gmail API service instance.\n",
    "        user_id: User's email address. The special value \"me\"\n",
    "        can be used to indicate the authenticated user.\n",
    "        thread_id: The ID of the Thread required.\n",
    "\n",
    "      Returns:\n",
    "        Thread with matching ID.\n",
    "    \"\"\"\n",
    "    thread = service.users().threads().get(userId=user_id, id=thread_id).execute()\n",
    "    messages = thread['messages']\n",
    "    print ('thread id: {0} - number of messages '\n",
    "           'in this thread: {1}'.format(thread['id'], len(messages)))\n",
    "    return thread\n",
    "  "
   ]
  },
  {
   "cell_type": "code",
   "execution_count": 76,
   "metadata": {},
   "outputs": [
    {
     "data": {
      "text/plain": [
       "[{'historyId': '17546228',\n",
       "  'id': '1665ccfdea473d1c',\n",
       "  'snippet': 'The current guest wifi at the club is: SEALIONCUB password: rowrowrowyourboat _._,_._,_ Groups.io Links: You receive all messages sent to this group. View/Reply Online (#7) | Reply To Group | Reply To'},\n",
       " {'historyId': '17547528',\n",
       "  'id': '1665cb09971aa42c',\n",
       "  'snippet': 'Hi All, As promised, here are the results of the feedback form I sent about about WiFi. Thank you to all who participated, and for those who still haven&#39;t and wish to it can be found here. I&#39;ve'},\n",
       " {'historyId': '17511143',\n",
       "  'id': '1664fbaee2e70cb3',\n",
       "  'snippet': 'Thanks for taking these photos, Sue Garfield! Follow the club on Twitter: http://twitter.com/dolphinclubsf Nancy Friedman Chief Wordworker www.wordworking.com http://nancyfriedman.typepad.com tel 510'}]"
      ]
     },
     "execution_count": 76,
     "metadata": {},
     "output_type": "execute_result"
    }
   ],
   "source": [
    "ListThreadsWithLabels(service, user_id='me', label_ids=['Label_20'])[:3]"
   ]
  },
  {
   "cell_type": "code",
   "execution_count": 80,
   "metadata": {},
   "outputs": [
    {
     "name": "stdout",
     "output_type": "stream",
     "text": [
      "thread id: 1665c2fbdea9dd1c - number of messages in this thread: 7\n"
     ]
    }
   ],
   "source": [
    "t=GetThread(service, user_id='me', thread_id='1665c2fbdea9dd1c')"
   ]
  },
  {
   "cell_type": "code",
   "execution_count": 103,
   "metadata": {},
   "outputs": [
    {
     "data": {
      "text/plain": [
       "'R3JhemllIG1pbGxlIGFuY29yYSEgbWkgc29ubyBkaXZlcnRpdG8gbW9sdG8gZWQgw6kgc3RhdG8gdW4gcGlhY2VyZQ0KY29ub3NjZXJ2aSENCg0KQWxsYSBwcm9zc2ltYSEhIQ0KDQpMLg0KDQpJbCBnaW9ybm8gbWFyIDkgb3R0IDIwMTggYWxsZSBvcmUgMjE6MzIgUGllcmx1aWdpIFNhcnRpIDwNCnBpZXJsdWlnaXNhcnRpQGdtYWlsLmNvbT4gaGEgc2NyaXR0bzoNCg0KPiBBbGJlcnRvIGdyYXppZSBkZWxsJ29zcGl0YWxpdMOgIGUgZGVsbGEgY2VuYSBmYW50YXN0aWNhIQ0KPg0KPiBBbGxhIHByb3NzaW1hLCBjaWFvDQo-IFBpZXJsdWlnaQ0KPg0KPiBPbiBPY3QgOSwgMjAxOCwgYXQgOToxNSBQTSwgQWxiZXJ0byBBY2l0byA8YWxiZXJ0by5hY2l0b0BvdXRsb29rLmNvbT4NCj4gd3JvdGU6DQo-DQo-IENpYW8gYSB0dXR0aSwNCj4NCj4gw4ggc3RhdG8gdW4gdmVybyBwaWFjZXJlIGF2ZXJ2aSBhIGNlbmHigKYNCj4NCj4gTWF0dGVvLCBpbCB0ZWNobmljYWwgYWR2aXNvcnkgYm9hcmQgZGkgcXVlc3RhIHNlc3Npb25lIMOoIHN0YXRvDQo-IHNldmVyaXNzaW1vISEh4oCmIHVuYSBhZmZvbmRhdGEgc2VuemEgYXBwZWxsbyAoc2x1eCksIGUgbOKAmWFsdHJhIHNlIGzigJnDqCB2aXN0YQ0KPiBicnV0dGEgKGV4cGVydCkhISENCj4NCj4NCj4NCj4gU3Blcm8gdmkgc2lhdGUgZGl2ZXJ0aXRpIGUgY2VydGFtZW50ZSBwZXIgbWUgdW4gcGlhY2VyZSBhdmVydmkuDQo-DQo-IEFsbGEgcHJvc3NpbWEgc2Vzc2lvbmUhIQ0KPg0KPiBDaWFvDQo-DQo-IEFsYmVydG8NCj4NCj4NCj4NCj4gPGltYWdlMDAxLnBuZz4NCj4NCj4NCg=='"
      ]
     },
     "execution_count": 103,
     "metadata": {},
     "output_type": "execute_result"
    }
   ],
   "source": [
    "t['messages'][2]['payload']['parts'][0]['body']['data']"
   ]
  },
  {
   "cell_type": "code",
   "execution_count": 115,
   "metadata": {},
   "outputs": [],
   "source": [
    "import base64\n",
    "from bs4 import BeautifulSoup\n",
    " \n",
    "msg = t['messages'][2]['payload']['parts'][0]['body']['data']\n",
    "#msg = msg.replace(\"-\",\"+\") # decoding from Base64 to UTF-8\n",
    "#msg = msg.replace(\"_\",\"/\") # decoding from Base64 to UTF-8\n",
    "soup = BeautifulSoup(base64.b64decode (bytes(msg, 'UTF-8'))  , \"lxml\" )\n",
    "mssg_body = soup.body()\n"
   ]
  },
  {
   "cell_type": "code",
   "execution_count": 116,
   "metadata": {},
   "outputs": [
    {
     "data": {
      "text/plain": [
       "[<p>Grazie mille ancora! mi sono divertito molto ed Ã© stato un piacere\n",
       " conoscervi!\n",
       " \n",
       " Alla prossima!!!\n",
       " \n",
       " L.\n",
       " \n",
       " Il giorno mar 9 ott 2018 alle ore 21:32 Pierluigi Sarti &lt;\n",
       " pierluigisarti@gmail.com&gt; ha scritto:\n",
       " \n",
       " &gt; Alberto grazie dell'ospitalitÃ  e della cena fantastica!\n",
       " &gt;\n",
       " &gt; Alla prossima, ciao\n",
       " Y\\›ZYÚCB</p>]"
      ]
     },
     "execution_count": 116,
     "metadata": {},
     "output_type": "execute_result"
    }
   ],
   "source": [
    "mssg_body"
   ]
  },
  {
   "cell_type": "code",
   "execution_count": 55,
   "metadata": {},
   "outputs": [
    {
     "data": {
      "text/plain": [
       "[{'historyId': '17550667',\n",
       "  'id': '1665f44abcedcc62',\n",
       "  'snippet': 'of the <b>board</b> along with some select comments (anonymized as promised). &gt; &gt; After the results given without comment'},\n",
       " {'historyId': '17547528',\n",
       "  'id': '1665cb09971aa42c',\n",
       "  'snippet': 'of the <b>board</b> along with some select comments (anonymized as promised). After the results given without comment, you&#39;'},\n",
       " {'historyId': '17550499',\n",
       "  'id': '1665c2fbdea9dd1c',\n",
       "  'snippet': 'technical advisory <b>board</b> di questa sessione è stato severissimo!!!… una affondata senza appello (slux), e l&#39;altra'}]"
      ]
     },
     "execution_count": 55,
     "metadata": {},
     "output_type": "execute_result"
    }
   ],
   "source": [
    "ListThreadsMatchingQuery(service, user_id='me', query='board')[:3]"
   ]
  },
  {
   "cell_type": "code",
   "execution_count": 58,
   "metadata": {},
   "outputs": [
    {
     "data": {
      "text/plain": [
       "{'historyId': '17550667',\n",
       " 'id': '1665f44abcedcc62',\n",
       " 'snippet': 'of the <b>board</b> along with some select comments (anonymized as promised). &gt; &gt; After the results given without comment'}"
      ]
     },
     "execution_count": 58,
     "metadata": {},
     "output_type": "execute_result"
    }
   ],
   "source": [
    "ListThreadsMatchingQuery(service, user_id='me', query='board')[0]#['messages']"
   ]
  },
  {
   "cell_type": "code",
   "execution_count": null,
   "metadata": {},
   "outputs": [],
   "source": [
    "mssg_list = unread_msgs['messages']\n",
    "\n",
    "    print (\"Total unread messages in inbox: \", str(len(mssg_list)))\n",
    "\n",
    "    final_list = [ ]\n",
    "\n",
    "\n",
    "    for mssg in mssg_list:\n",
    "        temp_dict = { }\n",
    "        m_id = mssg['id'] # get id of individual message\n",
    "        message = service.users().messages().get(userId=user_id, id=m_id).execute() # fetch the message using API\n",
    "        payld = message['payload'] # get payload of the message \n",
    "        headr = payld['headers'] # get header of the payload\n"
   ]
  },
  {
   "cell_type": "code",
   "execution_count": null,
   "metadata": {},
   "outputs": [],
   "source": [
    "https://mail.google.com/mail/u/0/?ui=2&\n",
    "    view=btop&\n",
    "    ver=1qarjayb7dfsd&\n",
    "    cat=%23\n",
    "    jocklife%2F%23dolphinclub&search=cat&th=%23\n",
    "    thread-f%3A1612638790285707069&cvid=25"
   ]
  }
 ],
 "metadata": {
  "kernelspec": {
   "display_name": "Python 3",
   "language": "python",
   "name": "python3"
  },
  "language_info": {
   "codemirror_mode": {
    "name": "ipython",
    "version": 3
   },
   "file_extension": ".py",
   "mimetype": "text/x-python",
   "name": "python",
   "nbconvert_exporter": "python",
   "pygments_lexer": "ipython3",
   "version": "3.6.4"
  }
 },
 "nbformat": 4,
 "nbformat_minor": 2
}
