{
 "cells": [
  {
   "cell_type": "code",
   "execution_count": 3,
   "metadata": {},
   "outputs": [],
   "source": [
    "%matplotlib inline\n",
    "%load_ext autoreload\n",
    "%autoreload 2\n",
    "import pandas as pd\n",
    "import numpy as np\n",
    "import scipy as sp\n",
    "import json\n",
    "import os\n",
    "import math\n",
    "\n",
    "\n",
    "import matplotlib\n",
    "import matplotlib.pyplot as plt\n",
    "from IPython.display import Image\n",
    "\n",
    "matplotlib.style.use('ggplot')\n",
    "\n",
    "import time\n",
    "import datetime\n",
    "\n"
   ]
  },
  {
   "cell_type": "markdown",
   "metadata": {},
   "source": [
    "## Spotify API"
   ]
  },
  {
   "cell_type": "code",
   "execution_count": 4,
   "metadata": {},
   "outputs": [],
   "source": [
    "import spotipy\n",
    "from spotipy.oauth2 import SpotifyClientCredentials\n",
    "\n",
    "\n",
    "json_data=open('{0}/spotify_credentials.json'.format(os.getenv(\"HOME\"))).read()\n",
    "credentials = json.loads(json_data)\n",
    "\n",
    "client_credentials_manager = SpotifyClientCredentials(client_id=credentials['ClientId'], client_secret=credentials['ClientSecret'])\n",
    "sp = spotipy.Spotify(client_credentials_manager=client_credentials_manager)\n"
   ]
  },
  {
   "cell_type": "markdown",
   "metadata": {},
   "source": [
    "### Search for an Artist"
   ]
  },
  {
   "cell_type": "code",
   "execution_count": 7,
   "metadata": {},
   "outputs": [
    {
     "name": "stdout",
     "output_type": "stream",
     "text": [
      "{\n",
      " \"genres\": [\n",
      "  \"album rock\", \n",
      "  \"alternative rock\", \n",
      "  \"classic rock\", \n",
      "  \"dance rock\", \n",
      "  \"new wave\", \n",
      "  \"permanent wave\", \n",
      "  \"punk\", \n",
      "  \"rock\"\n",
      " ], \n",
      " \"name\": \"The Clash\", \n",
      " \"external_urls\": {\n",
      "  \"spotify\": \"https://open.spotify.com/artist/3RGLhK1IP9jnYFH4BRFJBS\"\n",
      " }, \n",
      " \"popularity\": 75, \n",
      " \"uri\": \"spotify:artist:3RGLhK1IP9jnYFH4BRFJBS\", \n",
      " \"href\": \"https://api.spotify.com/v1/artists/3RGLhK1IP9jnYFH4BRFJBS\", \n",
      " \"followers\": {\n",
      "  \"total\": 1012873, \n",
      "  \"href\": null\n",
      " }, \n",
      " \"images\": [\n",
      "  {\n",
      "   \"url\": \"https://i.scdn.co/image/ab470b275daa38351810a1eb91d107ebdb821302\", \n",
      "   \"width\": 1000, \n",
      "   \"height\": 676\n",
      "  }, \n",
      "  {\n",
      "   \"url\": \"https://i.scdn.co/image/9061b7dad3306249408403d72a410a62c26e794c\", \n",
      "   \"width\": 640, \n",
      "   \"height\": 433\n",
      "  }, \n",
      "  {\n",
      "   \"url\": \"https://i.scdn.co/image/4befb6b7cf4c3d6b7fda1f71b717203d90adf897\", \n",
      "   \"width\": 200, \n",
      "   \"height\": 135\n",
      "  }, \n",
      "  {\n",
      "   \"url\": \"https://i.scdn.co/image/7575ab17620ee9b273885bd35980a020cf4d38f9\", \n",
      "   \"width\": 64, \n",
      "   \"height\": 43\n",
      "  }\n",
      " ], \n",
      " \"type\": \"artist\", \n",
      " \"id\": \"3RGLhK1IP9jnYFH4BRFJBS\"\n",
      "}\n"
     ]
    },
    {
     "data": {
      "text/html": [
       "<img src=\"https://i.scdn.co/image/ab470b275daa38351810a1eb91d107ebdb821302\"/>"
      ],
      "text/plain": [
       "<IPython.core.display.Image object>"
      ]
     },
     "execution_count": 7,
     "metadata": {},
     "output_type": "execute_result"
    }
   ],
   "source": [
    "name=\"The Clash\"\n",
    "clash = sp.search(q='artist:' + name, type='artist')['artists']['items'][0]\n",
    "\n",
    "print json.dumps(clash, indent=1)\n",
    "\n",
    "\n",
    "Image(url=clash['images'][0]['url'])\n"
   ]
  },
  {
   "cell_type": "markdown",
   "metadata": {},
   "source": [
    "### Search for Albums"
   ]
  },
  {
   "cell_type": "code",
   "execution_count": 16,
   "metadata": {
    "collapsed": true
   },
   "outputs": [],
   "source": [
    "def find_albums(artist):\n",
    "    uri = sp.search(q='artist:' + artist, type='artist')['artists']['items'][0]['uri']\n",
    "    results = sp.artist_albums(uri, album_type='album')\n",
    "    albums = results['items']\n",
    "    while results['next']:\n",
    "        results = sp.next(results)\n",
    "        if 'US' in results['items']['available_markets']:\n",
    "            albums.extend(results['items'])\n",
    "    \n",
    "    for album in albums:\n",
    "        print(album['name'])\n",
    "\n",
    "    "
   ]
  },
  {
   "cell_type": "code",
   "execution_count": 19,
   "metadata": {},
   "outputs": [
    {
     "name": "stdout",
     "output_type": "stream",
     "text": [
      "Live at Shea Stadium\n",
      "Live At Shea Stadium\n",
      "From Here to Eternity: Live\n",
      "From Here To Eternity Live\n",
      "Cut The Crap\n",
      "Combat Rock\n",
      "Combat Rock\n",
      "Sandinista!\n",
      "London Calling (Legacy Edition)\n",
      "London Calling\n",
      "Give 'Em Enough Rope\n",
      "The Clash\n",
      "The Clash\n",
      "The Clash (UK Version)\n"
     ]
    }
   ],
   "source": [
    "find_albums('the clash')"
   ]
  },
  {
   "cell_type": "code",
   "execution_count": 14,
   "metadata": {},
   "outputs": [
    {
     "data": {
      "text/plain": [
       "{u'album_type': u'album',\n",
       " u'artists': [{u'external_urls': {u'spotify': u'https://open.spotify.com/artist/3RGLhK1IP9jnYFH4BRFJBS'},\n",
       "   u'href': u'https://api.spotify.com/v1/artists/3RGLhK1IP9jnYFH4BRFJBS',\n",
       "   u'id': u'3RGLhK1IP9jnYFH4BRFJBS',\n",
       "   u'name': u'The Clash',\n",
       "   u'type': u'artist',\n",
       "   u'uri': u'spotify:artist:3RGLhK1IP9jnYFH4BRFJBS'}],\n",
       " u'available_markets': [u'AD',\n",
       "  u'AR',\n",
       "  u'AT',\n",
       "  u'AU',\n",
       "  u'BE',\n",
       "  u'BG',\n",
       "  u'BO',\n",
       "  u'BR',\n",
       "  u'CA',\n",
       "  u'CH',\n",
       "  u'CL',\n",
       "  u'CO',\n",
       "  u'CR',\n",
       "  u'CY',\n",
       "  u'CZ',\n",
       "  u'DE',\n",
       "  u'DK',\n",
       "  u'DO',\n",
       "  u'EC',\n",
       "  u'EE',\n",
       "  u'ES',\n",
       "  u'FI',\n",
       "  u'FR',\n",
       "  u'GB',\n",
       "  u'GR',\n",
       "  u'GT',\n",
       "  u'HK',\n",
       "  u'HN',\n",
       "  u'HU',\n",
       "  u'ID',\n",
       "  u'IE',\n",
       "  u'IS',\n",
       "  u'IT',\n",
       "  u'JP',\n",
       "  u'LI',\n",
       "  u'LT',\n",
       "  u'LU',\n",
       "  u'LV',\n",
       "  u'MC',\n",
       "  u'MT',\n",
       "  u'MX',\n",
       "  u'MY',\n",
       "  u'NI',\n",
       "  u'NL',\n",
       "  u'NO',\n",
       "  u'NZ',\n",
       "  u'PA',\n",
       "  u'PE',\n",
       "  u'PH',\n",
       "  u'PL',\n",
       "  u'PT',\n",
       "  u'PY',\n",
       "  u'SE',\n",
       "  u'SG',\n",
       "  u'SK',\n",
       "  u'SV',\n",
       "  u'TH',\n",
       "  u'TR',\n",
       "  u'TW',\n",
       "  u'US',\n",
       "  u'UY',\n",
       "  u'VN'],\n",
       " u'external_urls': {u'spotify': u'https://open.spotify.com/album/4dMWTj1OkiCKFN5yBMP1vS'},\n",
       " u'href': u'https://api.spotify.com/v1/albums/4dMWTj1OkiCKFN5yBMP1vS',\n",
       " u'id': u'4dMWTj1OkiCKFN5yBMP1vS',\n",
       " u'images': [{u'height': 635,\n",
       "   u'url': u'https://i.scdn.co/image/76a3761203a3b60b2800460539e2733f4a2337df',\n",
       "   u'width': 640},\n",
       "  {u'height': 298,\n",
       "   u'url': u'https://i.scdn.co/image/eac67331d88ae9bc113be987051bb4fa9573548d',\n",
       "   u'width': 300},\n",
       "  {u'height': 63,\n",
       "   u'url': u'https://i.scdn.co/image/a01a5948c252e2b7da4ed7a765dce51320630263',\n",
       "   u'width': 64}],\n",
       " u'name': u'Live at Shea Stadium',\n",
       " u'type': u'album',\n",
       " u'uri': u'spotify:album:4dMWTj1OkiCKFN5yBMP1vS'}"
      ]
     },
     "execution_count": 14,
     "metadata": {},
     "output_type": "execute_result"
    }
   ],
   "source": []
  },
  {
   "cell_type": "code",
   "execution_count": 15,
   "metadata": {},
   "outputs": [
    {
     "name": "stdout",
     "output_type": "stream",
     "text": [
      "Straight Outta Compton - Edited False 243133\n",
      "Gangsta Gangsta - Edited False 246266\n",
      "If It Ain't Ruff - Edited False 213666\n",
      "Parental Discretion Iz Advised - Edited;2000 Digital Remaster False 312560\n",
      "8 Ball - 2000 Digital Remaster False 272800\n",
      "Something Like That - Edited;2000 Digital Remaster False 213706\n",
      "Express Yourself False 265000\n",
      "Compton's N The House - Edited False 316466\n",
      "I Ain't Tha 1 - Edited;2000 Digital Remaster False 294400\n",
      "Dope Man - Edited;2002 Digital Remaster False 349933\n",
      "Quiet On Tha Set - Edited;2000 Digital Remaster False 238093\n",
      "Something 2 Dance 2 - Edited;2000 Digital Remaster False 212373\n",
      "Express Yourself - Extended Mix False 282626\n",
      "Bonus Beats - 2002 Digital Remaster False 183133\n",
      "Straight Outta Compton - Extended Mix False 293933\n",
      "A B***** Is A B***** - Edited False 170266\n"
     ]
    }
   ],
   "source": [
    "for track in sp.album_tracks(album['uri'])['items']:\n",
    "    print track['name'], track['explicit'], track['duration_ms']"
   ]
  },
  {
   "cell_type": "code",
   "execution_count": 21,
   "metadata": {},
   "outputs": [],
   "source": [
    "find_albums('Wu tan')\n",
    "\n",
    "#find_albums('Fabrizio de andre')"
   ]
  },
  {
   "cell_type": "code",
   "execution_count": null,
   "metadata": {},
   "outputs": [],
   "source": [
    "name=\"the clash\"\n",
    "nwa_uri = sp.search(q='artist:' + name, type='artist')['artists']['items'][0]['uri']\n",
    "\n",
    "results = sp.artist_top_tracks(nwa_uri)\n",
    "\n",
    "for track in results['tracks'][:10]:\n",
    "    print 'track    : ' + track['name']\n",
    "    print 'audio    : ' + track['preview_url']\n",
    "    print 'explicit : ' + track['explicit']\n",
    "    print 'duration : ' + track['duration_ms']\n",
    "    print 'cover art: ' + track['album']['images'][0]['url']\n",
    "    print"
   ]
  },
  {
   "cell_type": "code",
   "execution_count": null,
   "metadata": {},
   "outputs": [],
   "source": []
  },
  {
   "cell_type": "code",
   "execution_count": null,
   "metadata": {},
   "outputs": [],
   "source": []
  },
  {
   "cell_type": "code",
   "execution_count": 19,
   "metadata": {},
   "outputs": [
    {
     "name": "stdout",
     "output_type": "stream",
     "text": [
      "  0 Exodus\n",
      "  1 In the Mood for Ska - Clash of the Ska Titans\n",
      "  2 It's Too Late - Clash of the Ska Titans\n",
      "  3 Same Old Song - Clash of the Ska Titans\n",
      "  4 I Love You - Clash of the Ska Titans\n",
      "  5 Come Down - Clash of the Ska Titans\n",
      "  6 Summertime - Clash of the Ska Titans\n",
      "  7 Rude Boy Dreams - Clash of the Ska Titans\n",
      "  8 Bad Minded Woman - Clash of the Ska Titans\n",
      "  9 Come Down (Live) [Clash of the Ska Titans]\n",
      "  10 Sugar Sugar (Live) [Clash of the Ska Titans]\n",
      "  11 Confucious (Live) [Clash of the Ska Titans]\n",
      "  12 Freedom Sounds (Live) [Guns of Navarone]\n",
      "  13 Come Down (Live) [Guns of Navarone]\n",
      "  14 Don't Go Away (Live) [Guns of Navarone]\n",
      "  15 Confucious (Live) [Guns of Navarone]\n",
      "  16 El Pussycat (Live) [Guns of Navarone]\n",
      "  17 Four Coners (Live) [Guns of Navarone]\n",
      "  18 Guns of Navarone (Live) [Guns of Navarone]\n",
      "  19 Eastern Standard Time (Live) [Guns of Navarone]\n"
     ]
    }
   ],
   "source": [
    "\n",
    "results = sp.search(q='Skatalities', limit=20)\n",
    "for i, t in enumerate(results['tracks']['items']):\n",
    "    print ' ', i, t['name']\n"
   ]
  },
  {
   "cell_type": "markdown",
   "metadata": {},
   "source": [
    "### Dead or Alive?"
   ]
  },
  {
   "cell_type": "code",
   "execution_count": 35,
   "metadata": {
    "collapsed": true
   },
   "outputs": [],
   "source": [
    "dead = ['NWA', 'Clash', 'Fabrizio de andre', 'Leonard Cohen', 'The Doors', 'David Bowie', '2Pac', 'Queen']\n",
    "alive = ['Run the Jewels', 'Heems', 'Swet shop boys', 'Gucci Mane', 'The Black Angels', 'Dengue Fever', 'Die Antwoord']\n",
    "old = ['Metallica', 'Rolling Stones', 'AC/DC', 'Skatalities', 'Specials', 'Bob Dylan', 'Bruce Springsteen', 'Elton John']"
   ]
  },
  {
   "cell_type": "code",
   "execution_count": 25,
   "metadata": {
    "collapsed": true
   },
   "outputs": [],
   "source": []
  },
  {
   "cell_type": "code",
   "execution_count": null,
   "metadata": {
    "collapsed": true
   },
   "outputs": [],
   "source": []
  }
 ],
 "metadata": {
  "kernelspec": {
   "display_name": "Python [Root]",
   "language": "python",
   "name": "Python [Root]"
  }
 },
 "nbformat": 4,
 "nbformat_minor": 1
}
