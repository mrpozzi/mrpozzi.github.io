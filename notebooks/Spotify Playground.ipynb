{
 "cells": [
  {
   "cell_type": "code",
   "execution_count": 16,
   "metadata": {
    "collapsed": true
   },
   "outputs": [],
   "source": [
    "%matplotlib inline\n",
    "import matplotlib\n",
    "import matplotlib.pyplot as plt\n",
    "from IPython.display import Image\n",
    "\n",
    "matplotlib.style.use('ggplot')\n",
    "\n",
    "import math\n",
    "import time\n",
    "import datetime\n",
    "import json\n",
    "\n",
    "from pandas import DataFrame, Series\n",
    "import pandas as pd\n",
    "import numpy as np\n",
    "\n",
    "import spotipy\n",
    "sp = spotipy.Spotify()"
   ]
  },
  {
   "cell_type": "code",
   "execution_count": 30,
   "metadata": {
    "collapsed": false
   },
   "outputs": [
    {
     "data": {
      "text/plain": [
       "u'spotify:artist:4EnEZVjo3w1cwcQYePccay'"
      ]
     },
     "execution_count": 30,
     "metadata": {},
     "output_type": "execute_result"
    }
   ],
   "source": [
    "name=\"NWA\"\n",
    "sp.search(q='artist:' + name, type='artist')['artists']['items'][0]['uri']\n"
   ]
  },
  {
   "cell_type": "code",
   "execution_count": 31,
   "metadata": {
    "collapsed": false
   },
   "outputs": [
    {
     "name": "stdout",
     "output_type": "stream",
     "text": [
      "N.W.A. Greatest Hits (World)\n",
      "Efil4zaggin\n",
      "Efil4zaggin\n",
      "Straight Outta Compton\n",
      "Straight Outta Compton\n",
      "Straight Outta Compton\n"
     ]
    }
   ],
   "source": [
    "name=\"NWA\"\n",
    "nwa_uri = sp.search(q='artist:' + name, type='artist')['artists']['items'][0]['uri']\n",
    "\n",
    "results = sp.artist_albums(nwa_uri, album_type='album')\n",
    "albums = results['items']\n",
    "while results['next']:\n",
    "    results = sp.next(results)\n",
    "    albums.extend(results['items'])\n",
    "\n",
    "for album in albums:\n",
    "    print(album['name'])\n"
   ]
  },
  {
   "cell_type": "code",
   "execution_count": 34,
   "metadata": {
    "collapsed": true
   },
   "outputs": [],
   "source": [
    "def find_albums(artist):\n",
    "    uri = sp.search(q='artist:' + artist, type='artist')['artists']['items'][0]['uri']\n",
    "    results = sp.artist_albums(uri, album_type='album')\n",
    "    albums = results['items']\n",
    "    while results['next']:\n",
    "        results = sp.next(results)\n",
    "        albums.extend(results['items'])\n",
    "    \n",
    "    for album in albums:\n",
    "        print(album['name'])\n",
    "\n",
    "    "
   ]
  },
  {
   "cell_type": "code",
   "execution_count": 52,
   "metadata": {
    "collapsed": false
   },
   "outputs": [],
   "source": []
  },
  {
   "cell_type": "code",
   "execution_count": 53,
   "metadata": {
    "collapsed": false
   },
   "outputs": [
    {
     "name": "stdout",
     "output_type": "stream",
     "text": [
      "Straight Outta Compton - Edited False 243133\n",
      "Gangsta Gangsta - Edited False 246266\n",
      "If It Ain't Ruff - Edited False 213666\n",
      "Parental Discretion Iz Advised - Edited;2000 Digital Remaster False 312560\n",
      "8 Ball - 2000 Digital Remaster False 272800\n",
      "Something Like That - Edited;2000 Digital Remaster False 213706\n",
      "Express Yourself False 265000\n",
      "Compton's N The House - Edited False 316466\n",
      "I Ain't Tha 1 - Edited;2000 Digital Remaster False 294400\n",
      "Dope Man - Edited;2002 Digital Remaster False 349933\n",
      "Quiet On Tha Set - Edited;2000 Digital Remaster False 238093\n",
      "Something 2 Dance 2 - Edited;2000 Digital Remaster False 212373\n",
      "Express Yourself - Extended Mix False 282626\n",
      "Bonus Beats - 2002 Digital Remaster False 183133\n",
      "Straight Outta Compton - Extended Mix False 293933\n",
      "A B***** Is A B***** - Edited False 170266\n"
     ]
    }
   ],
   "source": [
    "for track in sp.album_tracks(album['uri'])['items']:\n",
    "    print track['name'], track['explicit'], track['duration_ms']"
   ]
  },
  {
   "cell_type": "code",
   "execution_count": 38,
   "metadata": {
    "collapsed": false
   },
   "outputs": [
    {
     "name": "stdout",
     "output_type": "stream",
     "text": [
      "Creuza de ma\n",
      "Anime salve - Il concerto 1997\n",
      "In Teatro - Il concerto 1992/1993\n",
      "Le Nuvole - Il concerto 1991\n",
      "M'innamoravo di tutto - Il concerto 1998\n",
      "Fabrizio De Andrè e PFM - Il concerto1978/1979\n",
      "L'indiano - Il concerto 1981/1982\n",
      "La Bussola e Storia di un impiegato - Il concerto 1975/1976\n",
      "Creuza de ma - Il concerto1984\n",
      "Sogno n°1\n",
      "Effedia Sulla Mia Cattiva Strada\n",
      "Fabrizio de Andre' e PFM in concerto\n",
      "In Direzione Ostinata E Contraria Vol 2\n",
      "In Direzione Ostinata e Contraria\n",
      "Peccati Di Gioventu\n",
      "Da Genova...\n",
      "Da Genova...\n",
      "Fabrizio De André Opere Complete\n",
      "Fabrizio De Andrè\n",
      "Fabrizio De Andrè\n",
      "Fabrizio De Andrè (Blu)\n",
      "Fabrizio De Andrè (Blu)\n",
      "De André In Concerto\n",
      "M'Innamoravo Di Tutto\n",
      "Anime Salve\n",
      "Anime Salve\n",
      "La Canzone Di Marinella\n",
      "Gli originali\n",
      "1991 Concerti\n",
      "1991 Concerti\n",
      "Le Nuvole\n",
      "Le Nuvole\n",
      "Creuza De Ma\n",
      "Creuza De Ma\n",
      "Fabrizio De André (Indiano)\n",
      "Fabrizio De André (Indiano)\n",
      "Arrangiamenti P F M 2\n",
      "Arrangiamenti PFM\n",
      "Arrangiamenti P F M\n",
      "Arrangiamenti P F M\n",
      "Rimini\n",
      "Rimini\n",
      "Volume 8\n",
      "Volume 8\n",
      "Canzoni\n",
      "Canzoni\n",
      "Storia Di Un Impiegato\n",
      "Storia Di Un Impiegato\n",
      "Storia Di Un Impiegato\n",
      "Non Al Denaro, Non All'Amore, Ne Al Cielo\n",
      "Non Al Denaro, Non All'Amore, Ne Al Cielo\n",
      "La Buona Novella\n",
      "La Buona Novella\n",
      "Volume 1\n",
      "Volume 1\n",
      "Volume 3\n",
      "Volume 3\n",
      "Tutti Morimmo A Stento\n"
     ]
    }
   ],
   "source": [
    "#find_albums('Wu tan')\n",
    "\n",
    "find_albums('Fabrizio de andre')"
   ]
  },
  {
   "cell_type": "code",
   "execution_count": 40,
   "metadata": {
    "collapsed": false
   },
   "outputs": [
    {
     "name": "stdout",
     "output_type": "stream",
     "text": [
      "track    : Should I Stay or Should I Go - Remastered\n",
      "audio    : https://p.scdn.co/mp3-preview/670a419f7cb549ef6d3d7f9c5060ac6b8c112fa4\n",
      "cover art: https://i.scdn.co/image/d3784405a7f73815304c879a6330b859b988ce19\n",
      "\n",
      "track    : Rock the Casbah - Remastered\n",
      "audio    : https://p.scdn.co/mp3-preview/8db94be7e0aa2112512883e7fd6f3e7bcf09123c\n",
      "cover art: https://i.scdn.co/image/d3784405a7f73815304c879a6330b859b988ce19\n",
      "\n",
      "track    : London Calling - Remastered\n",
      "audio    : https://p.scdn.co/mp3-preview/cab17680a55cff3339dec569c52b079efda6daad\n",
      "cover art: https://i.scdn.co/image/a522c89d9d23539071d1f4b334dc2d50cabc3693\n",
      "\n",
      "track    : I Fought the Law\n",
      "audio    : https://p.scdn.co/mp3-preview/2f89fbc88c0559deeec7efe2d03a510f493a2c2d\n",
      "cover art: https://i.scdn.co/image/1f7dd1a0d867c5b60751ac8a99501debb9b3b968\n",
      "\n",
      "track    : Train in Vain - Remastered\n",
      "audio    : https://p.scdn.co/mp3-preview/06b9fadab4dd93988aeb5816fe972bf70777ecca\n",
      "cover art: https://i.scdn.co/image/a522c89d9d23539071d1f4b334dc2d50cabc3693\n",
      "\n",
      "track    : Lost in the Supermarket\n",
      "audio    : https://p.scdn.co/mp3-preview/20ea840b3e3f321014468d3e1608b2d5b589ea5b\n",
      "cover art: https://i.scdn.co/image/a522c89d9d23539071d1f4b334dc2d50cabc3693\n",
      "\n",
      "track    : Bankrobber\n",
      "audio    : https://p.scdn.co/mp3-preview/2fe4b7cf38687e61ed35a937e8a3c2e11edf6100\n",
      "cover art: https://i.scdn.co/image/1f7dd1a0d867c5b60751ac8a99501debb9b3b968\n",
      "\n",
      "track    : The Guns of Brixton\n",
      "audio    : https://p.scdn.co/mp3-preview/f8cc7cfa8395168fbd584ad3a4f1903be53fb80d\n",
      "cover art: https://i.scdn.co/image/a522c89d9d23539071d1f4b334dc2d50cabc3693\n",
      "\n",
      "track    : Rudie Can't Fail\n",
      "audio    : https://p.scdn.co/mp3-preview/120bbf44688cf996c3015a64eca3f96f3ce9a4f2\n",
      "cover art: https://i.scdn.co/image/a522c89d9d23539071d1f4b334dc2d50cabc3693\n",
      "\n",
      "track    : White Riot\n",
      "audio    : https://p.scdn.co/mp3-preview/1af7fd3cb072287b5032db2687326e2b8b080e59\n",
      "cover art: https://i.scdn.co/image/564bd6efc748492151178b926a125d7f8ba16cbe\n",
      "\n"
     ]
    }
   ],
   "source": [
    "name=\"the clash\"\n",
    "nwa_uri = sp.search(q='artist:' + name, type='artist')['artists']['items'][0]['uri']\n",
    "\n",
    "results = sp.artist_top_tracks(nwa_uri)\n",
    "\n",
    "for track in results['tracks'][:10]:\n",
    "    print 'track    : ' + track['name']\n",
    "    print 'audio    : ' + track['preview_url']\n",
    "    print 'cover art: ' + track['album']['images'][0]['url']\n",
    "    print"
   ]
  },
  {
   "cell_type": "code",
   "execution_count": null,
   "metadata": {
    "collapsed": false
   },
   "outputs": [],
   "source": []
  },
  {
   "cell_type": "code",
   "execution_count": 43,
   "metadata": {
    "collapsed": false
   },
   "outputs": [
    {
     "name": "stdout",
     "output_type": "stream",
     "text": [
      "Adolescents https://i.scdn.co/image/2148241664af40bb65c4fb04c09a143b6cb953bf\n"
     ]
    },
    {
     "data": {
      "text/html": [
       "<img src=\"https://i.scdn.co/image/2148241664af40bb65c4fb04c09a143b6cb953bf\"/>"
      ],
      "text/plain": [
       "<IPython.core.display.Image object>"
      ]
     },
     "execution_count": 43,
     "metadata": {},
     "output_type": "execute_result"
    }
   ],
   "source": [
    "name = 'Adolescents'\n",
    "\n",
    "results = sp.search(q='artist:' + name, type='artist')\n",
    "items = results['artists']['items']\n",
    "if len(items) > 0:\n",
    "    artist = items[0]\n",
    "    print artist['name'], artist['images'][0]['url']\n",
    "    \n",
    "\n",
    "Image(url=artist['images'][0]['url'])"
   ]
  },
  {
   "cell_type": "code",
   "execution_count": null,
   "metadata": {
    "collapsed": false
   },
   "outputs": [],
   "source": []
  },
  {
   "cell_type": "code",
   "execution_count": 54,
   "metadata": {
    "collapsed": false
   },
   "outputs": [
    {
     "name": "stdout",
     "output_type": "stream",
     "text": [
      "  0 Exodus\n",
      "  1 Dr. Ring Ding\n",
      "  2 In the Mood for Ska - Clash of the Ska Titans\n",
      "  3 It's Too Late - Clash of the Ska Titans\n",
      "  4 Same Old Song - Clash of the Ska Titans\n",
      "  5 I Love You - Clash of the Ska Titans\n",
      "  6 Come Down - Clash of the Ska Titans\n",
      "  7 Summertime - Clash of the Ska Titans\n",
      "  8 Rude Boy Dreams - Clash of the Ska Titans\n",
      "  9 Bad Minded Woman - Clash of the Ska Titans\n",
      "  10 Come Down (Live) [Clash of the Ska Titans]\n",
      "  11 Sugar Sugar (Live) [Clash of the Ska Titans]\n",
      "  12 Confucious (Live) [Clash of the Ska Titans]\n",
      "  13 Freedom Sounds (Live) [Guns of Navarone]\n",
      "  14 Come Down (Live) [Guns of Navarone]\n",
      "  15 Don't Go Away (Live) [Guns of Navarone]\n",
      "  16 Confucious (Live) [Guns of Navarone]\n",
      "  17 El Pussycat (Live) [Guns of Navarone]\n",
      "  18 Four Coners (Live) [Guns of Navarone]\n",
      "  19 Guns of Navarone (Live) [Guns of Navarone]\n"
     ]
    }
   ],
   "source": [
    "\n",
    "results = sp.search(q='Skatalities', limit=20)\n",
    "for i, t in enumerate(results['tracks']['items']):\n",
    "    print ' ', i, t['name']\n"
   ]
  },
  {
   "cell_type": "code",
   "execution_count": null,
   "metadata": {
    "collapsed": true
   },
   "outputs": [],
   "source": []
  }
 ],
 "metadata": {
  "kernelspec": {
   "display_name": "Python 2",
   "language": "python",
   "name": "python2"
  },
  "language_info": {
   "codemirror_mode": {
    "name": "ipython",
    "version": 2
   },
   "file_extension": ".py",
   "mimetype": "text/x-python",
   "name": "python",
   "nbconvert_exporter": "python",
   "pygments_lexer": "ipython2",
   "version": "2.7.12"
  }
 },
 "nbformat": 4,
 "nbformat_minor": 0
}
