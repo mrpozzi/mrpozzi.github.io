{
 "cells": [
  {
   "cell_type": "markdown",
   "metadata": {},
   "source": [
    "--- \n",
    "layout: post \n",
    "title: \"Same Old Song and Dance\" \n",
    "date: 2018-04-16 8:30:00 \n",
    "categories: applications data-mining scraping \n",
    "image: /images/rainy_bridge.jpg\n",
    "---\n"
   ]
  },
  {
   "cell_type": "code",
   "execution_count": null,
   "metadata": {},
   "outputs": [],
   "source": [
    "https://towardsdatascience.com/beyond-the-lyrics-the-intersection-of-music-and-data-visualization-4a71039f447c"
   ]
  },
  {
   "cell_type": "code",
   "execution_count": 1,
   "metadata": {},
   "outputs": [],
   "source": [
    "%matplotlib inline\n",
    "%load_ext autoreload\n",
    "%autoreload 2\n",
    "import pandas as pd\n",
    "import numpy as np\n",
    "import scipy as sp\n",
    "import json\n",
    "import os\n",
    "import math\n",
    "\n",
    "\n",
    "import matplotlib\n",
    "import matplotlib.pyplot as plt\n",
    "from IPython.display import Image\n",
    "\n",
    "matplotlib.style.use('ggplot')\n",
    "\n",
    "import time\n",
    "import datetime\n",
    "\n"
   ]
  },
  {
   "cell_type": "code",
   "execution_count": null,
   "metadata": {},
   "outputs": [],
   "source": [
    "https://developer.spotify.com/web-api/get-audio-features/\n",
    "    "
   ]
  },
  {
   "cell_type": "markdown",
   "metadata": {},
   "source": [
    "## Spotify API"
   ]
  },
  {
   "cell_type": "code",
   "execution_count": 3,
   "metadata": {},
   "outputs": [],
   "source": [
    "import spotipy\n",
    "from spotipy.oauth2 import SpotifyClientCredentials\n",
    "\n",
    "\n",
    "json_data=open('{0}/spotify_credentials.json'.format(os.getenv(\"HOME\"))).read()\n",
    "credentials = json.loads(json_data)\n",
    "\n",
    "client_credentials_manager = SpotifyClientCredentials(client_id=credentials['ClientId'], \n",
    "                                                      client_secret=credentials['ClientSecret'])\n",
    "sp = spotipy.Spotify(client_credentials_manager=client_credentials_manager)\n"
   ]
  },
  {
   "cell_type": "markdown",
   "metadata": {},
   "source": [
    "https://github.com/plamere/spotipy"
   ]
  },
  {
   "cell_type": "markdown",
   "metadata": {},
   "source": [
    "### Search for an Artist"
   ]
  },
  {
   "cell_type": "code",
   "execution_count": 4,
   "metadata": {},
   "outputs": [
    {
     "name": "stdout",
     "output_type": "stream",
     "text": [
      "{\n",
      " \"genres\": [\n",
      "  \"classic rock\", \n",
      "  \"dance rock\", \n",
      "  \"permanent wave\", \n",
      "  \"punk\", \n",
      "  \"rock\"\n",
      " ], \n",
      " \"name\": \"The Clash\", \n",
      " \"external_urls\": {\n",
      "  \"spotify\": \"https://open.spotify.com/artist/3RGLhK1IP9jnYFH4BRFJBS\"\n",
      " }, \n",
      " \"popularity\": 75, \n",
      " \"uri\": \"spotify:artist:3RGLhK1IP9jnYFH4BRFJBS\", \n",
      " \"href\": \"https://api.spotify.com/v1/artists/3RGLhK1IP9jnYFH4BRFJBS\", \n",
      " \"followers\": {\n",
      "  \"total\": 1692646, \n",
      "  \"href\": null\n",
      " }, \n",
      " \"images\": [\n",
      "  {\n",
      "   \"url\": \"https://i.scdn.co/image/ab470b275daa38351810a1eb91d107ebdb821302\", \n",
      "   \"width\": 1000, \n",
      "   \"height\": 676\n",
      "  }, \n",
      "  {\n",
      "   \"url\": \"https://i.scdn.co/image/9061b7dad3306249408403d72a410a62c26e794c\", \n",
      "   \"width\": 640, \n",
      "   \"height\": 433\n",
      "  }, \n",
      "  {\n",
      "   \"url\": \"https://i.scdn.co/image/4befb6b7cf4c3d6b7fda1f71b717203d90adf897\", \n",
      "   \"width\": 200, \n",
      "   \"height\": 135\n",
      "  }, \n",
      "  {\n",
      "   \"url\": \"https://i.scdn.co/image/7575ab17620ee9b273885bd35980a020cf4d38f9\", \n",
      "   \"width\": 64, \n",
      "   \"height\": 43\n",
      "  }\n",
      " ], \n",
      " \"type\": \"artist\", \n",
      " \"id\": \"3RGLhK1IP9jnYFH4BRFJBS\"\n",
      "}\n"
     ]
    },
    {
     "data": {
      "text/html": [
       "<img src=\"https://i.scdn.co/image/ab470b275daa38351810a1eb91d107ebdb821302\"/>"
      ],
      "text/plain": [
       "<IPython.core.display.Image object>"
      ]
     },
     "execution_count": 4,
     "metadata": {},
     "output_type": "execute_result"
    }
   ],
   "source": [
    "name=\"The Clash\"\n",
    "clash = sp.search(q='artist:' + name, type='artist')['artists']['items'][0]\n",
    "\n",
    "print(json.dumps(clash, indent=1))\n",
    "\n",
    "\n",
    "Image(url=clash['images'][0]['url'])\n"
   ]
  },
  {
   "cell_type": "markdown",
   "metadata": {},
   "source": [
    "### Search for Albums"
   ]
  },
  {
   "cell_type": "code",
   "execution_count": 8,
   "metadata": {},
   "outputs": [
    {
     "data": {
      "text/plain": [
       "[u'album',\n",
       " u'is_local',\n",
       " u'name',\n",
       " u'uri',\n",
       " u'external_urls',\n",
       " u'popularity',\n",
       " u'explicit',\n",
       " u'preview_url',\n",
       " u'is_playable',\n",
       " u'track_number',\n",
       " u'disc_number',\n",
       " u'href',\n",
       " u'artists',\n",
       " u'duration_ms',\n",
       " u'external_ids',\n",
       " u'type',\n",
       " u'id']"
      ]
     },
     "execution_count": 8,
     "metadata": {},
     "output_type": "execute_result"
    }
   ],
   "source": [
    "track.keys()"
   ]
  },
  {
   "cell_type": "code",
   "execution_count": 7,
   "metadata": {
    "scrolled": true
   },
   "outputs": [
    {
     "name": "stdout",
     "output_type": "stream",
     "text": [
      "track    : Should I Stay or Should I Go - Remastered\n",
      "audio    : https://p.scdn.co/mp3-preview/670a419f7cb549ef6d3d7f9c5060ac6b8c112fa4?cid=b48b0725f835441faee1d4915fef0b96\n",
      "explicit : False\n",
      "duration : 188986\n",
      "cover art: https://i.scdn.co/image/ab67616d0000b27325a4df452a3c42ccc2e9288b\n",
      "\n",
      "track    : London Calling - Remastered\n",
      "audio    : https://p.scdn.co/mp3-preview/cab17680a55cff3339dec569c52b079efda6daad?cid=b48b0725f835441faee1d4915fef0b96\n",
      "explicit : False\n",
      "duration : 200480\n",
      "cover art: https://i.scdn.co/image/ab67616d0000b273cd9d8bc9ef04014b6e90e182\n",
      "\n",
      "track    : Rock the Casbah - Remastered\n",
      "audio    : https://p.scdn.co/mp3-preview/8db94be7e0aa2112512883e7fd6f3e7bcf09123c?cid=b48b0725f835441faee1d4915fef0b96\n",
      "explicit : False\n",
      "duration : 222426\n",
      "cover art: https://i.scdn.co/image/ab67616d0000b27325a4df452a3c42ccc2e9288b\n",
      "\n",
      "track    : Train in Vain - Remastered\n",
      "audio    : https://p.scdn.co/mp3-preview/06b9fadab4dd93988aeb5816fe972bf70777ecca?cid=b48b0725f835441faee1d4915fef0b96\n",
      "explicit : False\n",
      "duration : 194666\n",
      "cover art: https://i.scdn.co/image/ab67616d0000b273cd9d8bc9ef04014b6e90e182\n",
      "\n",
      "track    : I Fought the Law\n",
      "audio    : https://p.scdn.co/mp3-preview/2f89fbc88c0559deeec7efe2d03a510f493a2c2d?cid=b48b0725f835441faee1d4915fef0b96\n",
      "explicit : False\n",
      "duration : 163240\n",
      "cover art: https://i.scdn.co/image/ab67616d0000b27357f627f712e7060d287dd732\n",
      "\n",
      "track    : The Guns of Brixton - Remastered\n",
      "audio    : https://p.scdn.co/mp3-preview/f8cc7cfa8395168fbd584ad3a4f1903be53fb80d?cid=b48b0725f835441faee1d4915fef0b96\n",
      "explicit : False\n",
      "duration : 192440\n",
      "cover art: https://i.scdn.co/image/ab67616d0000b273cd9d8bc9ef04014b6e90e182\n",
      "\n",
      "track    : Lost in the Supermarket - Remastered\n",
      "audio    : https://p.scdn.co/mp3-preview/20ea840b3e3f321014468d3e1608b2d5b589ea5b?cid=b48b0725f835441faee1d4915fef0b96\n",
      "explicit : False\n",
      "duration : 226946\n",
      "cover art: https://i.scdn.co/image/ab67616d0000b273cd9d8bc9ef04014b6e90e182\n",
      "\n",
      "track    : Straight to Hell - Remastered\n",
      "audio    : https://p.scdn.co/mp3-preview/8035d8f82ba06e1f559fec69fed8a097d1c043eb?cid=b48b0725f835441faee1d4915fef0b96\n",
      "explicit : False\n",
      "duration : 330506\n",
      "cover art: https://i.scdn.co/image/ab67616d0000b27325a4df452a3c42ccc2e9288b\n",
      "\n",
      "track    : Charlie Don't Surf - Remastered\n",
      "audio    : https://p.scdn.co/mp3-preview/b8dd0da905a9aa4d5fb714671af5097fe90b0c88?cid=b48b0725f835441faee1d4915fef0b96\n",
      "explicit : False\n",
      "duration : 294093\n",
      "cover art: https://i.scdn.co/image/ab67616d0000b2732791862e3d0be4fab0781230\n",
      "\n",
      "track    : The Magnificent Seven - Remastered\n",
      "audio    : https://p.scdn.co/mp3-preview/3730674382d5928d6cc866b7ece52018ad108a8d?cid=b48b0725f835441faee1d4915fef0b96\n",
      "explicit : False\n",
      "duration : 333520\n",
      "cover art: https://i.scdn.co/image/ab67616d0000b2732791862e3d0be4fab0781230\n",
      "\n"
     ]
    }
   ],
   "source": [
    "name=\"the clash\"\n",
    "nwa_uri = sp.search(q='artist:' + name, type='artist')['artists']['items'][0]['uri']\n",
    "\n",
    "results = sp.artist_top_tracks(nwa_uri)\n",
    "\n",
    "for track in results['tracks'][:10]:\n",
    "    print 'track    : ' + track['name']\n",
    "    print 'audio    : ' + track['preview_url']\n",
    "    print 'explicit : {}'.format(track['explicit'])\n",
    "    print 'duration : {}'.format(track['duration_ms'])\n",
    "    print 'cover art: ' + track['album']['images'][0]['url']\n",
    "    print"
   ]
  },
  {
   "cell_type": "code",
   "execution_count": 69,
   "metadata": {},
   "outputs": [
    {
     "data": {
      "text/plain": [
       "dict_keys(['album_group', 'album_type', 'artists', 'available_markets', 'external_urls', 'href', 'id', 'images', 'name', 'release_date', 'release_date_precision', 'type', 'uri'])"
      ]
     },
     "execution_count": 69,
     "metadata": {},
     "output_type": "execute_result"
    }
   ],
   "source": [
    "uri = sp.search(q='artist:' + artist, type='artist')['artists']['items'][0]['uri']\n",
    "results = sp.artist_albums(uri, album_type='album')\n",
    "results['items'][0].keys()"
   ]
  },
  {
   "cell_type": "markdown",
   "metadata": {},
   "source": [
    "### Search for Tracks"
   ]
  },
  {
   "cell_type": "code",
   "execution_count": 9,
   "metadata": {},
   "outputs": [
    {
     "name": "stdout",
     "output_type": "stream",
     "text": [
      "  0 Exodus\n",
      "  1 Dr. Ring Ding\n",
      "  2 Summertime - Clash of the Ska Titans\n",
      "  3 Freedom Sounds (Live) [Guns of Navarone]\n",
      "  4 Simmer Down (Live) [Guns of Navarone]\n",
      "  5 Come Down (Live) [Guns of Navarone]\n",
      "  6 Sugar Sugar (Live) [Clash of the Ska Titans]\n",
      "  7 Confucious (Live) [Clash of the Ska Titans]\n",
      "  8 Come Down (Live) [Clash of the Ska Titans]\n",
      "  9 Can't You See (Live) [Guns of Navarone]\n",
      "  10 Come Down - Clash of the Ska Titans\n",
      "  11 Confucious (Live) [Guns of Navarone]\n",
      "  12 It's Too Late - Clash of the Ska Titans\n",
      "  13 Bad Minded Woman - Clash of the Ska Titans\n",
      "  14 Eastern Standard Time (Live) [Guns of Navarone]\n",
      "  15 Bridge View (Live) [Guns of Navarone]\n",
      "  16 Rude Boy Dreams - Clash of the Ska Titans\n",
      "  17 Don't Go Away (Live) [Guns of Navarone]\n",
      "  18 I Love You - Clash of the Ska Titans\n",
      "  19 Same Old Song - Clash of the Ska Titans\n"
     ]
    }
   ],
   "source": [
    "\n",
    "results = sp.search(q='Skatalities', limit=20)\n",
    "for i, t in enumerate(results['tracks']['items']):\n",
    "    print ' ', i, t['name']\n"
   ]
  },
  {
   "cell_type": "code",
   "execution_count": 10,
   "metadata": {},
   "outputs": [],
   "source": [
    "def get_discography(artist):\n",
    "    uri = sp.search(q='artist:' + artist, type='artist')['artists']['items'][0]['uri']\n",
    "    results = sp.artist_albums(uri, album_type='album')\n",
    "    albums = results['items']\n",
    "    while results['next']:\n",
    "        results = sp.next(results)\n",
    "        albums.extend(results['items'])\n",
    "    return dict([(album['name'], \n",
    "                  {'ds': album['release_date'], \n",
    "                               'tracks': get_tracks(album)})\n",
    "                 for album in albums if 'US' in album['available_markets']])\n",
    "\n",
    "def get_tracks(album):\n",
    "    tracks = []\n",
    "    results = sp.album_tracks(album['id'])\n",
    "    tracks.extend(results['items'])\n",
    "    while results['next']:\n",
    "        results = sp.next(results)\n",
    "        tracks.extend(results['items'])\n",
    "    return [track['name'] for track in tracks]\n",
    "\n"
   ]
  },
  {
   "cell_type": "raw",
   "metadata": {},
   "source": []
  },
  {
   "cell_type": "markdown",
   "metadata": {},
   "source": [
    "### Dead or Alive?"
   ]
  },
  {
   "cell_type": "code",
   "execution_count": 11,
   "metadata": {},
   "outputs": [],
   "source": [
    "# is old and toast distinguishable from dead?\n",
    "\n",
    "dead = ['NWA', 'Clash', 'Fabrizio de andre', 'Leonard Cohen', \n",
    "        'The Doors', 'David Bowie', '2Pac', 'Queen']\n",
    "\n",
    "alive = ['Run the Jewels', 'Heems', 'Swet shop boys', 'Gucci Mane', \n",
    "         'The Black Angels', 'Dengue Fever', 'Die Antwoord']\n",
    "\n",
    "old = ['Metallica', 'Rolling Stones', 'AC/DC', 'Skatalities', 'Specials', \n",
    "       'Bob Dylan', 'Bruce Springsteen', 'Elton John']"
   ]
  },
  {
   "cell_type": "code",
   "execution_count": 12,
   "metadata": {},
   "outputs": [],
   "source": [
    "clash_disco = get_discography('the clash')"
   ]
  },
  {
   "cell_type": "code",
   "execution_count": 13,
   "metadata": {},
   "outputs": [
    {
     "name": "stdout",
     "output_type": "stream",
     "text": [
      "Live At Shea Stadium\n",
      "Live at Shea Stadium (Remastered)\n",
      "The Clash (Remastered)\n",
      "Combat Rock (Remastered)\n",
      "Cut The Crap\n",
      "Give 'Em Enough Rope (Remastered)\n",
      "London Calling (Remastered)\n",
      "From Here to Eternity (Live) [Remastered]\n",
      "Sandinista! (Remastered)\n",
      "London Calling (Legacy Edition)\n"
     ]
    }
   ],
   "source": [
    "print('\\n'.join(clash_disco.keys()))"
   ]
  },
  {
   "cell_type": "code",
   "execution_count": 68,
   "metadata": {},
   "outputs": [
    {
     "data": {
      "text/plain": [
       "{'ds': '1979',\n",
       " 'tracks': ['London Calling',\n",
       "  'Brand New Cadillac',\n",
       "  'Jimmy Jazz',\n",
       "  'Hateful',\n",
       "  \"Rudie Can't Fail\",\n",
       "  'Spanish Bombs',\n",
       "  'The Right Profile',\n",
       "  'Lost in the Supermarket',\n",
       "  'Clampdown',\n",
       "  'The Guns of Brixton',\n",
       "  \"Wrong 'Em Boyo\",\n",
       "  'Death or Glory',\n",
       "  'Koka Kola',\n",
       "  'The Card Cheat',\n",
       "  \"Lover's Rock\",\n",
       "  'Four Horsemen',\n",
       "  \"I'm Not Down\",\n",
       "  'Revolution Rock',\n",
       "  'Train in Vain',\n",
       "  'Hateful',\n",
       "  \"Rudie Can't Fail\",\n",
       "  \"Paul's Tune\",\n",
       "  \"I'm Not Down\",\n",
       "  'Four Horsemen',\n",
       "  'Koka Kola, Advertising & Cocaine',\n",
       "  'Death or Glory',\n",
       "  \"Lover's Rock\",\n",
       "  'Lonesome Me',\n",
       "  'The Police Walked in 4 Jazz',\n",
       "  'Lost in the Supermarket',\n",
       "  'Up-Toon - Instrumental',\n",
       "  'Walking the Slidewalk',\n",
       "  'Where You Gonna Go (Soweto)',\n",
       "  'The Man In Me',\n",
       "  'Remote Control',\n",
       "  'Working and Waiting',\n",
       "  'Heart and Mind',\n",
       "  'Brand New Cadillac',\n",
       "  'London Calling',\n",
       "  'Revolution Rock']}"
      ]
     },
     "execution_count": 68,
     "metadata": {},
     "output_type": "execute_result"
    }
   ],
   "source": [
    "clash_disco['London Calling (Legacy Edition)']"
   ]
  },
  {
   "cell_type": "code",
   "execution_count": 61,
   "metadata": {},
   "outputs": [
    {
     "data": {
      "text/plain": [
       "{'ds': '1979',\n",
       " 'tracks': ['London Calling - Remastered',\n",
       "  'Brand New Cadillac',\n",
       "  'Jimmy Jazz',\n",
       "  'Hateful',\n",
       "  \"Rudie Can't Fail\",\n",
       "  'Spanish Bombs',\n",
       "  'The Right Profile',\n",
       "  'Lost in the Supermarket',\n",
       "  'Clampdown',\n",
       "  'The Guns of Brixton',\n",
       "  \"Wrong 'Em Boyo\",\n",
       "  'Death or Glory',\n",
       "  'Koka Kola',\n",
       "  'The Card Cheat',\n",
       "  \"Lover's Rock\",\n",
       "  'Four Horsemen',\n",
       "  \"I'm Not Down\",\n",
       "  'Revolution Rock',\n",
       "  'Train in Vain - Remastered']}"
      ]
     },
     "execution_count": 61,
     "metadata": {},
     "output_type": "execute_result"
    }
   ],
   "source": [
    "clash_disco['London Calling']"
   ]
  },
  {
   "cell_type": "code",
   "execution_count": 15,
   "metadata": {},
   "outputs": [],
   "source": [
    "metallica_disco = get_discography('Metallica')"
   ]
  },
  {
   "cell_type": "code",
   "execution_count": 16,
   "metadata": {},
   "outputs": [
    {
     "name": "stdout",
     "output_type": "stream",
     "text": [
      "Master of Puppets (Remastered Deluxe Box Set)\n",
      "Metallica Through The Never (Music from the Motion Picture)\n",
      "Hardwired…To Self-Destruct (Deluxe)\n",
      "Kill 'Em All (Remastered)\n",
      "Helping Hands...Live & Acoustic at The Masonic\n",
      "Master of Puppets (Remastered)\n",
      "Live S**t: Binge & Purge\n",
      "Metallica\n",
      "Reload\n",
      "Hardwired…To Self-Destruct\n",
      "S&M\n",
      "Ride The Lightning (Deluxe Remaster)\n",
      "Some Kind Of Monster (Live)\n",
      "Load\n",
      "Garage, Inc.\n",
      "...And Justice for All (Remastered Deluxe Box Set)\n",
      "Lulu\n",
      "St. Anger\n",
      "Death Magnetic\n",
      "Ride The Lightning (Remastered)\n",
      "Kill 'Em All (Deluxe Remaster)\n",
      "...And Justice for All (Remastered)\n"
     ]
    }
   ],
   "source": [
    "print('\\n'.join(metallica_disco.keys()))"
   ]
  },
  {
   "cell_type": "code",
   "execution_count": 63,
   "metadata": {},
   "outputs": [],
   "source": [
    "#def new_stuff(album1, album2):\n",
    "    \n",
    "\n",
    "\n",
    "def compare_songs(song1, song2):\n",
    "    return song1 in song2\n",
    "    "
   ]
  },
  {
   "cell_type": "code",
   "execution_count": null,
   "metadata": {},
   "outputs": [],
   "source": [
    "class Song(object):\n",
    "    \n",
    "    def __init__(self, title, release_date, album):\n",
    "        self.title, self.attributes = self._clean_and_enrich(title)\n",
    "        self.album = album\n",
    "        self.release_date = release_date\n",
    "        \n",
    "    \n",
    "    def _clean_and_enrich(title):\n",
    "        title = lower(title)\n",
    "        attributes = []\n",
    "        if 'remastered' in title or 'remaster' in title:\n",
    "            attributes.append('remastered')\n",
    "        if 'live' in title:\n",
    "            attributes.append('live')\n",
    "        \n",
    "        \n",
    "        return title, attributes"
   ]
  },
  {
   "cell_type": "code",
   "execution_count": 17,
   "metadata": {},
   "outputs": [
    {
     "data": {
      "text/plain": [
       "[u'Master of Puppets (Remastered Deluxe Box Set)',\n",
       " u'Metallica Through The Never (Music from the Motion Picture)',\n",
       " u'Hardwired\\u2026To Self-Destruct (Deluxe)',\n",
       " u\"Kill 'Em All (Remastered)\",\n",
       " u'Helping Hands...Live & Acoustic at The Masonic',\n",
       " u'Master of Puppets (Remastered)',\n",
       " u'Live S**t: Binge & Purge',\n",
       " u'Metallica',\n",
       " u'Reload',\n",
       " u'Hardwired\\u2026To Self-Destruct',\n",
       " u'S&M',\n",
       " u'Ride The Lightning (Deluxe Remaster)',\n",
       " u'Some Kind Of Monster (Live)',\n",
       " u'Load',\n",
       " u'Garage, Inc.',\n",
       " u'...And Justice for All (Remastered Deluxe Box Set)',\n",
       " u'Lulu',\n",
       " u'St. Anger',\n",
       " u'Death Magnetic',\n",
       " u'Ride The Lightning (Remastered)',\n",
       " u\"Kill 'Em All (Deluxe Remaster)\",\n",
       " u'...And Justice for All (Remastered)']"
      ]
     },
     "execution_count": 17,
     "metadata": {},
     "output_type": "execute_result"
    }
   ],
   "source": [
    "\n",
    "metallica_disco.keys()"
   ]
  },
  {
   "cell_type": "code",
   "execution_count": 64,
   "metadata": {},
   "outputs": [
    {
     "data": {
      "text/plain": [
       "{'ds': '1986-03-03',\n",
       " 'tracks': ['Battery (Remastered)',\n",
       "  'Master Of Puppets (Remastered)',\n",
       "  'The Thing That Should Not Be (Remastered)',\n",
       "  'Welcome Home (Sanitarium) (Remastered)',\n",
       "  'Disposable Heroes (Remastered)',\n",
       "  'Leper Messiah (Remastered)',\n",
       "  'Orion (Remastered)',\n",
       "  'Damage, Inc. (Remastered)']}"
      ]
     },
     "execution_count": 64,
     "metadata": {},
     "output_type": "execute_result"
    }
   ],
   "source": [
    "metallica_disco['Master of Puppets (Remastered)']"
   ]
  },
  {
   "cell_type": "code",
   "execution_count": 65,
   "metadata": {},
   "outputs": [
    {
     "data": {
      "text/plain": [
       "{'ds': '1986-03-03',\n",
       " 'tracks': ['Battery (Remastered)',\n",
       "  'Master of Puppets (Remastered)',\n",
       "  'The Thing That Should Not Be (Remastered)',\n",
       "  'Welcome Home (Sanitarium) (Remastered)',\n",
       "  'Disposable Heroes (Remastered)',\n",
       "  'Leper Messiah (Remastered)',\n",
       "  'Orion (Remastered)',\n",
       "  'Damage, Inc. (Remastered)',\n",
       "  'Battery (Live at the Aragon Ballroom, Chicago, IL - May 25th, 1986)',\n",
       "  'Master of Puppets (Live at the Aragon Ballroom, Chicago, IL - May 25th, 1986)',\n",
       "  'For Whom The Bell Tolls (Live at the Aragon Ballroom, Chicago, IL - May 25th, 1986)',\n",
       "  'Welcome Home (Sanitarium) (Live at the Aragon Ballroom, Chicago, IL - May 25th, 1986)',\n",
       "  'The Thing That Should Not Be (Live at the Aragon Ballroom, Chicago, IL - May 25th, 1986)',\n",
       "  '(Anesthesia) - Pulling Teeth (Live at the Aragon Ballroom, Chicago, IL - May 25th, 1986)',\n",
       "  'Damage, Inc. (Live at the Aragon Ballroom, Chicago, IL - May 25th, 1986)',\n",
       "  'Fade to Black (Live at the Aragon Ballroom, Chicago, IL - May 25th, 1986)',\n",
       "  'Seek & Destroy (Live at the Aragon Ballroom, Chicago, IL - May 25th, 1986)',\n",
       "  'Creeping Death (Live at the Aragon Ballroom, Chicago, IL - May 25th, 1986)',\n",
       "  'The Four Horsemen (Live at the Aragon Ballroom, Chicago, IL - May 25th, 1986)',\n",
       "  'Guitar Solo (Live at the Aragon Ballroom, Chicago, IL - May 25th, 1986)',\n",
       "  'Am I Evil? (Live at the Aragon Ballroom, Chicago, IL - May 25th, 1986)',\n",
       "  'Whiplash (Live at the Aragon Ballroom, Chicago, IL - May 25th, 1986)',\n",
       "  'Battery (October 1985, Work in Progress Rough Mix)',\n",
       "  'Master of Puppets (November 1985, Work in Progress Rough Mix)',\n",
       "  'The Thing That Should Not Be (December 1985, Work in Progress Rough Mix)',\n",
       "  'Welcome Home (Sanitarium) (November 1985, Work in Progress Rough Mix)',\n",
       "  'Disposable Heroes (November 1985, Work in Progress Rough Mix)',\n",
       "  'Leper Messiah (December 1985, Work in Progress Rough Mix)',\n",
       "  'Orion (November 1985, Work in Progress Rough Mix)',\n",
       "  'Damage, Inc. (October 1985, Work in Progress Rough Mix)',\n",
       "  'The Money Will Roll Right In (Work in Progress Rough Mix)',\n",
       "  'The Prince (Work in Progress Rough Mix)',\n",
       "  \"Battery (1985, from James' Riff Tapes)\",\n",
       "  \"Battery (1985, from James' Riff Tapes II)\",\n",
       "  \"Master of Puppets (1985, from Kirk's Riff Tapes)\",\n",
       "  \"Master of Puppets (1985, from James' Riff Tapes)\",\n",
       "  \"Master of Puppets (1985, from James' Riff Tapes II)\",\n",
       "  \"The Thing That Should Not Be (1985, from James' Riff Tapes)\",\n",
       "  \"Welcome Home (Sanitarium) (1985, from James' Riff Tapes)\",\n",
       "  \"Welcome Home (Sanitarium) (1985, from James' Riff Tapes II)\",\n",
       "  \"Disposable Heroes (1985, from Kirk's Riff Tapes)\",\n",
       "  \"Disposable Heroes (1985, from James' Riff Tapes)\",\n",
       "  \"Leper Messiah (1985, from James' Riff Tapes)\",\n",
       "  \"Leper Messiah (1985, from James' Riff Tapes II)\",\n",
       "  \"Orion (1985, from James' Riff Tapes)\",\n",
       "  \"Damage, Inc. (1985, from James' Riff Tapes)\",\n",
       "  'Disposable Heroes (May 1985, Writing in Progress)',\n",
       "  'Battery (May 1985, Writing in Progress)',\n",
       "  'Welcome Home (Sanitarium) (May 1985, Writing in Progress)',\n",
       "  'Disposable Heroes (May 1985, Writing in Progress II)',\n",
       "  'Battery (Early June 1985 Demo)',\n",
       "  'Disposable Heroes (Early June 1985 Demo)',\n",
       "  'Welcome Home (Sanitarium) (Early June 1985 Demo)',\n",
       "  'Master of Puppets (Mid-June 1985, Writing in Progress)',\n",
       "  'Master of Puppets (Mid-June 1985, Writing in Progress II)',\n",
       "  'Master of Puppets (Mid-June 1985 Demo)',\n",
       "  'Disposable Heroes (Late June 1985 Demo)',\n",
       "  'Battery (Late June 1985 Demo)',\n",
       "  'Welcome Home (Sanitarium) (Late June 1985 Demo)',\n",
       "  'Master of Puppets (Late June 1985 Demo)',\n",
       "  'Damage, Inc. (Late August 1985, Writing in Progress)',\n",
       "  'Leper Messiah (Late August 1985 Demo)',\n",
       "  'Damage, Inc. (Late August 1985 Demo)',\n",
       "  'Leper Messiah (Late August 1985 Demo II)',\n",
       "  'Orion (September 1985 Drum Room Demo)',\n",
       "  'The Thing That Should Not Be (September 1985, Writing in Progress)',\n",
       "  'The Thing That Should Not Be (September 1985 Drum Room Demo)',\n",
       "  'The Money Will Roll Right In (September 1985 Drum Room Jam)',\n",
       "  'The Prince (September 1985 Drum Room Jam)',\n",
       "  'Welcome Home (Sanitarium) (September 1985 Drum Room Jam)',\n",
       "  'Orion (Late 1985 Guitar Solo Outtakes)',\n",
       "  'Orion (Late 1985, Kirk & Lars in the Control Room)',\n",
       "  'The Ecstasy of Gold',\n",
       "  'Battery (Live at The Meadowlands, East Rutherford, NJ - April 21st, 1986)',\n",
       "  'Master of Puppets (Live at The Meadowlands, East Rutherford, NJ - April 21st, 1986)',\n",
       "  'For Whom The Bell Tolls (Live at The Meadowlands, East Rutherford, NJ - April 21st, 1986)',\n",
       "  'Ride The Lightning (Live at The Meadowlands, East Rutherford, NJ - April 21st, 1986)',\n",
       "  'Welcome Home (Sanitarium) (Live at The Meadowlands, East Rutherford, NJ - April 21st, 1986)',\n",
       "  'Seek & Destroy (Live at The Meadowlands, East Rutherford, NJ - April 21st, 1986)',\n",
       "  'Creeping Death (Live at The Meadowlands, East Rutherford, NJ - April 21st, 1986)',\n",
       "  'Am I Evil? (Live at The Meadowlands, East Rutherford, NJ - April 21st, 1986)',\n",
       "  'Damage, Inc. (Live at The Meadowlands, East Rutherford, NJ - April 21st, 1986)',\n",
       "  'Battery (Live at Hampton Coliseum, Hampton, VA - August 3rd, 1986)',\n",
       "  'Master of Puppets (Live at Hampton Coliseum, Hampton, VA - August 3rd, 1986)',\n",
       "  'For Whom The Bell Tolls (Live at Hampton Coliseum, Hampton, VA - August 3rd, 1986)',\n",
       "  'Bass Solo (Live at Hampton Coliseum, Hampton, VA - August 3rd, 1986)',\n",
       "  'Welcome Home (Sanitarium) (Live at Hampton Coliseum, Hampton, VA - August 3rd, 1986)',\n",
       "  'Seek & Destroy (Live at Hampton Coliseum, Hampton, VA - August 3rd, 1986)',\n",
       "  'Creeping Death (Live at Hampton Coliseum, Hampton, VA - August 3rd, 1986)',\n",
       "  'Am I Evil? (Live at Hampton Coliseum, Hampton, VA - August 3rd, 1986)',\n",
       "  'Damage, Inc. (Live at Hampton Coliseum, Hampton, VA - August 3rd, 1986)',\n",
       "  \"Master of Puppets (Jason's first audition)\",\n",
       "  \"Battery (Jason's first audition)\",\n",
       "  \"Seek & Destroy (Jason's second audition)\",\n",
       "  \"Creeping Death (Jason's second audition)\",\n",
       "  \"Fight Fire With Fire (Jason's second audition)\",\n",
       "  'Master of Puppets (Live at The Country Club, Reseda, CA - November 8th, 1986)',\n",
       "  'For Whom The Bell Tolls (Live at The Country Club, Reseda, CA - November 8th, 1986)',\n",
       "  'Welcome Home (Sanitarium) (Live at The Country Club, Reseda, CA - November 8th, 1986)',\n",
       "  'Ride The Lightning (Live at The Country Club, Reseda, CA - November 8th, 1986)',\n",
       "  'Guitar Solo (Live at The Country Club, Reseda, CA - November 8th, 1986)',\n",
       "  'Whiplash (Live at The Country Club, Reseda, CA - November 8th, 1986)',\n",
       "  'Seek & Destroy (Live at The Country Club, Reseda, CA - November 8th, 1986)',\n",
       "  'The Four Horsemen (Live at The Country Club, Reseda, CA - November 8th, 1986)',\n",
       "  'Am I Evil? (Live at The Country Club, Reseda, CA - November 8th, 1986)',\n",
       "  'Damage, Inc. (Live at The Country Club, Reseda, CA - November 8th, 1986)',\n",
       "  'Master of Puppets (Live at Grugahalle, Essen, West Germany - January 25th, 1987)',\n",
       "  'For Whom The Bell Tolls (Live at Grugahalle, Essen, West Germany - January 25th, 1987)',\n",
       "  'Welcome Home (Sanitarium) (Live at Grugahalle, Essen, West Germany - January 25th, 1987)',\n",
       "  'Ride The Lightning (Live at Grugahalle, Essen, West Germany - January 25th, 1987)',\n",
       "  'Bass Solo (Live at Grugahalle, Essen, West Germany - January 25th, 1987)',\n",
       "  'Whiplash (Live at Grugahalle, Essen, West Germany - January 25th, 1987)',\n",
       "  'The Thing That Should Not Be (Live at Grugahalle, Essen, West Germany - January 25th, 1987)',\n",
       "  'Creeping Death (Live at Grugahalle, Essen, West Germany - January 25th, 1987)',\n",
       "  'The Four Horsemen (Live at Grugahalle, Essen, West Germany - January 25th, 1987)',\n",
       "  'Guitar Solo (Live at Grugahalle, Essen, West Germany - January 25th, 1987)',\n",
       "  'Am I Evil? (Live at Grugahalle, Essen, West Germany - January 25th, 1987)',\n",
       "  'Damage, Inc. (Live at Grugahalle, Essen, West Germany - January 25th, 1987)',\n",
       "  'Blitzkrieg (Live at Grugahalle, Essen, West Germany - January 25th, 1987)',\n",
       "  'The Ecstasy of Gold',\n",
       "  'Battery (Fan Recording - Live at Solnahallen, Stockholm, Sweden - September 26th, 1986)',\n",
       "  'Master of Puppets (Fan Recording - Live at Solnahallen, Stockholm, Sweden - September 26th, 1986)',\n",
       "  'For Whom The Bell Tolls (Fan Recording - Live at Solnahallen, Stockholm, Sweden - September 26th, 1986)',\n",
       "  'Welcome Home (Sanitarium) (Fan Recording - Live at Solnahallen, Stockholm, Sweden - September 26th, 1986)',\n",
       "  'Ride The Lightning (Fan Recording - Live at Solnahallen, Stockholm, Sweden - September 26th, 1986)',\n",
       "  '(Anesthesia) - Pulling Teeth (Fan Recording - Live at Solnahallen, Stockholm, Sweden - September 26th, 1986)',\n",
       "  'Whiplash (Fan Recording - Live at Solnahallen, Stockholm, Sweden - September 26th, 1986)',\n",
       "  'The Thing That Should Not Be (Fan Recording - Live at Solnahallen, Stockholm, Sweden - September 26th, 1986)',\n",
       "  'Fade To Black (Fan Recording - Live at Solnahallen, Stockholm, Sweden - September 26th, 1986)',\n",
       "  'Seek & Destroy (Fan Recording - Live at Solnahallen, Stockholm, Sweden - September 26th, 1986)',\n",
       "  'Creeping Death (Fan Recording - Live at Solnahallen, Stockholm, Sweden - September 26th, 1986)',\n",
       "  'The Four Horsemen (Fan Recording - Live at Solnahallen, Stockholm, Sweden - September 26th, 1986)',\n",
       "  'Guitar Solo (Fan Recording - Live at Solnahallen, Stockholm, Sweden - September 26th, 1986)',\n",
       "  'Am I Evil? (Fan Recording - Live at Solnahallen, Stockholm, Sweden - September 26th, 1986)',\n",
       "  'Damage, Inc. (Fan Recording - Live at Solnahallen, Stockholm, Sweden - September 26th, 1986)',\n",
       "  'Blitzkrieg (Fan Recording - Live at Solnahallen, Stockholm, Sweden - September 26th, 1986)',\n",
       "  'Fight Fire With Fire (Fan Recording - Live at Solnahallen, Stockholm, Sweden - September 26th, 1986)']}"
      ]
     },
     "execution_count": 65,
     "metadata": {},
     "output_type": "execute_result"
    }
   ],
   "source": [
    "metallica_disco['Master of Puppets (Remastered Deluxe Box Set)']"
   ]
  },
  {
   "cell_type": "markdown",
   "metadata": {},
   "source": [
    "- over time how much of an album is original.\n",
    "- barplot from 100% down to 0%\n",
    "- Use title of the album too..\n",
    "- minimal overlap should be fine since usually they don't overlap (beware of corner cases with artsy bands)\n",
    "- how many versions of the old stuff\n"
   ]
  },
  {
   "cell_type": "code",
   "execution_count": 71,
   "metadata": {},
   "outputs": [],
   "source": [
    "import Levenshtein as edit"
   ]
  },
  {
   "cell_type": "code",
   "execution_count": null,
   "metadata": {},
   "outputs": [],
   "source": []
  },
  {
   "cell_type": "code",
   "execution_count": 91,
   "metadata": {},
   "outputs": [
    {
     "data": {
      "text/plain": [
       "<matplotlib.collections.PathCollection at 0x1133fb400>"
      ]
     },
     "execution_count": 91,
     "metadata": {},
     "output_type": "execute_result"
    },
    {
     "data": {
      "image/png": "[encoded data removed]",
      "text/plain": [
       "<matplotlib.figure.Figure at 0x1132eae48>"
      ]
     },
     "metadata": {},
     "output_type": "display_data"
    }
   ],
   "source": [
    "plt.scatter(*zip(*[(8, 3), (9, 2), (5, 0), (2, 9), (3, 7), (0, 5),\n",
    "     (7, 3), (10, 1), (9, 9), (6, 2), (1, 7), (10, 1),\n",
    "     (6, 0), (2, 4), (7, 3), (10, 3), (7, 9), (0, 2),\n",
    "     (1, 3), (8, 7), (8, 9), (6, 1), (1, 7), (10, 10),\n",
    "     (8, 9)]))"
   ]
  },
  {
   "cell_type": "code",
   "execution_count": 79,
   "metadata": {},
   "outputs": [
    {
     "data": {
      "text/plain": [
       "0.806215827902575"
      ]
     },
     "execution_count": 79,
     "metadata": {},
     "output_type": "execute_result"
    }
   ],
   "source": [
    "edit.jaro('Guitar Solo (Fan Recording - Live at Solnahallen, Stockholm, Sweden - September 26th, 1986)',\n",
    "  'Am I Evil? (Fan Recording - Live at Solnahallen, Stockholm, Sweden - September 26th, 1986)')"
   ]
  },
  {
   "cell_type": "code",
   "execution_count": 80,
   "metadata": {},
   "outputs": [
    {
     "data": {
      "text/plain": [
       "0.7474136955291456"
      ]
     },
     "execution_count": 80,
     "metadata": {},
     "output_type": "execute_result"
    }
   ],
   "source": [
    "edit.jaro('Orion (Late 1985 Guitar Solo Outtakes)',\n",
    "  'Orion (Late 1985, Kirk & Lars in the Control Room)')"
   ]
  }
 ],
 "metadata": {
  "kernelspec": {
   "display_name": "Python 2",
   "language": "python",
   "name": "python2"
  },
  "language_info": {
   "codemirror_mode": {
    "name": "ipython",
    "version": 2
   },
   "file_extension": ".py",
   "mimetype": "text/x-python",
   "name": "python",
   "nbconvert_exporter": "python",
   "pygments_lexer": "ipython2",
   "version": "2.7.17"
  }
 },
 "nbformat": 4,
 "nbformat_minor": 2
}
