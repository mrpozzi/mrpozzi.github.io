{
 "cells": [
  {
   "cell_type": "code",
   "execution_count": 3,
   "metadata": {},
   "outputs": [
    {
     "name": "stdout",
     "output_type": "stream",
     "text": [
      "The autoreload extension is already loaded. To reload it, use:\n",
      "  %reload_ext autoreload\n"
     ]
    }
   ],
   "source": [
    "%matplotlib inline\n",
    "%load_ext autoreload\n",
    "%autoreload 2\n",
    "import pandas as pd\n",
    "import numpy as np\n",
    "import scipy as sp\n",
    "import json\n",
    "import os\n",
    "import math\n",
    "\n",
    "import matplotlib\n",
    "from matplotlib import pyplot as plt\n",
    "plt.style.use('ggplot')\n",
    "\n",
    "#from mpl_toolkits.basemap import Basemap, cm\n",
    "from matplotlib.path import Path\n",
    "\n",
    "from datetime import datetime\n",
    "from dateutil import tz\n",
    "import time\n",
    "import datetime\n",
    "import calendar\n",
    "\n",
    "\n",
    "from stravalib.client import Client\n",
    "from stravalib import unithelper\n",
    "\n",
    "matplotlib.rcParams['figure.figsize'] = (20.0, 10.0)\n"
   ]
  },
  {
   "cell_type": "code",
   "execution_count": null,
   "metadata": {
    "collapsed": true
   },
   "outputs": [],
   "source": [
    "\n",
    "from IPython.display import HTML\n",
    "HTML('''<script>\n",
    "code_show=true; \n",
    "function code_toggle() {\n",
    "if (code_show){\n",
    "$('div.input').hide();\n",
    " } else {\n",
    " $('div.input').show();\n",
    " }\n",
    " code_show = !code_show\n",
    "} \n",
    "$( document ).ready(code_toggle);\n",
    "</script>\n",
    "The raw code for this IPython notebook is by default hidden for easier reading.\n",
    "To toggle on/off the raw code, click <a href=\"javascript:code_toggle()\">here</a>.\n",
    "''')\n"
   ]
  },
  {
   "cell_type": "code",
   "execution_count": 4,
   "metadata": {},
   "outputs": [],
   "source": [
    "m_to_yd = 1.09361\n",
    "json_data=open('{0}/strava_credentials.json'.format(os.getenv(\"HOME\"))).read()\n",
    "credentials = json.loads(json_data)\n",
    "client = Client(access_token=credentials['AccessToken'])"
   ]
  },
  {
   "cell_type": "code",
   "execution_count": 8,
   "metadata": {
    "collapsed": true
   },
   "outputs": [],
   "source": [
    "def rolling_haversine(df):\n",
    "    radius = 6371 # km\n",
    "    \n",
    "    d_ll = df.rolling(2).apply(lambda x: math.radians(x[1]-x[0]))\n",
    "    ll = df.lat.rolling(2).apply(lambda x: math.cos(math.radians(x[0])) * math.cos(math.radians(x[1])))\n",
    "    \n",
    "    a = d_ll.lat.apply(lambda x: math.sin(x/2) * math.sin(x/2)) + \\\n",
    "        ll * d_ll.lon.apply(lambda x: math.sin(x/2) * math.sin(x/2))\n",
    "    c = 2 * a.apply(lambda x: math.atan2(math.sqrt(x), math.sqrt(1-x)) )\n",
    "    \n",
    "    d = radius * c\n",
    "    \n",
    "    return d\n"
   ]
  },
  {
   "cell_type": "code",
   "execution_count": 5,
   "metadata": {
    "collapsed": true
   },
   "outputs": [],
   "source": [
    "activities = client.get_activities()\n",
    "\n",
    "my_swims = pd.DataFrame([{'name':activity.name, \n",
    "                          'id': activity.id, \n",
    "                          'stroke_count': 2 * activity.average_cadence if activity.average_cadence is not None else None,\n",
    "                          'average_speed':float(unithelper.meters_per_second(activity.average_speed)),\n",
    "                          'elapsed_time':unithelper.timedelta_to_seconds(activity.elapsed_time), 'start_date': activity.start_date,\n",
    "                          'distance':float(unithelper.meters(activity.distance)) * m_to_yd} \n",
    "                         for activity in activities if activity.type=='Swim' and activity.map.summary_polyline is not None])\n",
    "my_swims = my_swims.set_index('start_date')\n",
    "my_swims.index = pd.DatetimeIndex(my_swims.index)\n",
    "my_swims.index = my_swims.index.tz_convert('US/Pacific')\n",
    "my_swims['month'] = my_swims.index.month\n",
    "my_swims['month'] = my_swims['month'].apply(lambda x: calendar.month_abbr[x])\n",
    "my_swims['ds_week_ending'] = my_swims.index.to_period('W').end_time"
   ]
  },
  {
   "cell_type": "code",
   "execution_count": 6,
   "metadata": {
    "collapsed": true
   },
   "outputs": [],
   "source": [
    "courses = pd.DataFrame()\n",
    "courses_dict = {}\n",
    "for activity in activities:\n",
    "    if activity.type=='Swim' and activity.map.summary_polyline is not None:\n",
    "        course = pd.DataFrame(client.get_activity_streams(activity.id, types=['latlng'], series_type='time')['latlng'].data,index=None, columns=['lat', 'lon']) \n",
    "        course['id'] = activity.id\n",
    "        courses = courses.append(course)\n",
    "        courses_dict[activity.id] = course\n"
   ]
  },
  {
   "cell_type": "code",
   "execution_count": 7,
   "metadata": {},
   "outputs": [
    {
     "data": {
      "text/plain": [
       "[<matplotlib.lines.Line2D at 0x11558e4d0>]"
      ]
     },
     "execution_count": 7,
     "metadata": {},
     "output_type": "execute_result"
    },
    {
     "data": {
      "image/png": "[encoded data removed]",
      "text/plain": [
       "<matplotlib.figure.Figure at 0x1155f4090>"
      ]
     },
     "metadata": {},
     "output_type": "display_data"
    }
   ],
   "source": [
    "# one map per month and an overall one\n",
    "fig = plt.figure(facecolor = '0.05')\n",
    "ax = plt.Axes(fig, [0., 0., 1., 1.], )\n",
    "ax.set_aspect('equal')\n",
    "ax.set_axis_off()\n",
    "fig.add_axes(ax)\n",
    "plt.plot(courses.lon, courses.lat, color = 'deepskyblue', lw = 0.5, alpha = 0.8)"
   ]
  },
  {
   "cell_type": "code",
   "execution_count": 34,
   "metadata": {
    "collapsed": true
   },
   "outputs": [],
   "source": [
    "true_distance = {}\n",
    "for swim_id in courses_dict.keys():\n",
    "    if swim_id not in [766916495, 822123587, 821042032, 554752952]:\n",
    "        true_distance[swim_id] = 1000 * rolling_haversine(courses_dict[swim_id]).sum() * m_to_yd\n",
    "my_swims['approx_distance'] = my_swims.id.apply(lambda x: np.nan if x not in true_distance.keys() else true_distance[x])\n",
    "my_swims['delta'] = my_swims['approx_distance'] - my_swims['distance']\n",
    "my_swims['ratio'] = my_swims['approx_distance'] / my_swims['distance']"
   ]
  },
  {
   "cell_type": "code",
   "execution_count": 44,
   "metadata": {},
   "outputs": [],
   "source": [
    "all_dist = pd.Series()\n",
    "for swim_id in courses_dict.keys():\n",
    "    all_dist = all_dist.append(rolling_haversine(courses_dict[swim_id]) * m_to_yd)"
   ]
  },
  {
   "cell_type": "code",
   "execution_count": 45,
   "metadata": {},
   "outputs": [
    {
     "data": {
      "text/plain": [
       "<matplotlib.axes._subplots.AxesSubplot at 0x11c9d1710>"
      ]
     },
     "execution_count": 45,
     "metadata": {},
     "output_type": "execute_result"
    },
    {
     "data": {
      "image/png": "[encoded data removed]",
      "text/plain": [
       "<matplotlib.figure.Figure at 0x11c959350>"
      ]
     },
     "metadata": {},
     "output_type": "display_data"
    }
   ],
   "source": [
    "all_dist.plot(kind='box')"
   ]
  },
  {
   "cell_type": "code",
   "execution_count": 36,
   "metadata": {},
   "outputs": [
    {
     "data": {
      "text/plain": [
       "-1572.005597179018"
      ]
     },
     "execution_count": 36,
     "metadata": {},
     "output_type": "execute_result"
    }
   ],
   "source": [
    "my_swims['delta'].sum()"
   ]
  },
  {
   "cell_type": "code",
   "execution_count": 35,
   "metadata": {},
   "outputs": [
    {
     "data": {
      "text/plain": [
       "<matplotlib.text.Text at 0x11c1ca550>"
      ]
     },
     "execution_count": 35,
     "metadata": {},
     "output_type": "execute_result"
    },
    {
     "data": {
      "image/png": "[encoded data removed]",
      "text/plain": [
       "<matplotlib.figure.Figure at 0x11c167f10>"
      ]
     },
     "metadata": {},
     "output_type": "display_data"
    }
   ],
   "source": [
    "fig, axes = plt.subplots(nrows=2, ncols=1)\n",
    "my_swims.delta.hist(ax=axes[0], bins=25)\n",
    "axes[0].axvline(0, color='k', linestyle='--')\n",
    "axes[0].set_title('Distribution of GPS Error')\n",
    "axes[0].set_ylabel('Count')\n",
    "axes[0].set_xlabel('Yards')\n",
    "\n",
    "\n",
    "(100*my_swims.ratio-100).hist(ax=axes[1], bins=25)\n",
    "axes[1].axvline(0, color='k', linestyle='--')\n",
    "axes[1].set_title('Distribution of GPS lift')\n",
    "axes[1].set_ylabel('Count')\n",
    "axes[1].set_xlabel('% Difference')\n"
   ]
  },
  {
   "cell_type": "code",
   "execution_count": 29,
   "metadata": {},
   "outputs": [
    {
     "data": {
      "text/html": [
       "<div>\n",
       "<table border=\"1\" class=\"dataframe\">\n",
       "  <thead>\n",
       "    <tr style=\"text-align: right;\">\n",
       "      <th></th>\n",
       "      <th>average_speed</th>\n",
       "      <th>distance</th>\n",
       "      <th>elapsed_time</th>\n",
       "      <th>id</th>\n",
       "      <th>name</th>\n",
       "      <th>stroke_count</th>\n",
       "      <th>month</th>\n",
       "      <th>ds_week_ending</th>\n",
       "      <th>is_pool</th>\n",
       "      <th>approx_distance</th>\n",
       "      <th>delta</th>\n",
       "      <th>ratio</th>\n",
       "    </tr>\n",
       "    <tr>\n",
       "      <th>start_date</th>\n",
       "      <th></th>\n",
       "      <th></th>\n",
       "      <th></th>\n",
       "      <th></th>\n",
       "      <th></th>\n",
       "      <th></th>\n",
       "      <th></th>\n",
       "      <th></th>\n",
       "      <th></th>\n",
       "      <th></th>\n",
       "      <th></th>\n",
       "      <th></th>\n",
       "    </tr>\n",
       "  </thead>\n",
       "  <tbody>\n",
       "    <tr>\n",
       "      <th>2016-08-01 07:16:15-07:00</th>\n",
       "      <td>0.913</td>\n",
       "      <td>3025.472065</td>\n",
       "      <td>3029.0</td>\n",
       "      <td>660947627</td>\n",
       "      <td>Morning Swim</td>\n",
       "      <td>72.2</td>\n",
       "      <td>Aug</td>\n",
       "      <td>2016-08-07</td>\n",
       "      <td>open water</td>\n",
       "      <td>3263.264007</td>\n",
       "      <td>237.791942</td>\n",
       "      <td>1.078597</td>\n",
       "    </tr>\n",
       "  </tbody>\n",
       "</table>\n",
       "</div>"
      ],
      "text/plain": [
       "                           average_speed     distance  elapsed_time  \\\n",
       "start_date                                                            \n",
       "2016-08-01 07:16:15-07:00          0.913  3025.472065        3029.0   \n",
       "\n",
       "                                  id          name  stroke_count month  \\\n",
       "start_date                                                               \n",
       "2016-08-01 07:16:15-07:00  660947627  Morning Swim          72.2   Aug   \n",
       "\n",
       "                          ds_week_ending     is_pool  approx_distance  \\\n",
       "start_date                                                              \n",
       "2016-08-01 07:16:15-07:00     2016-08-07  open water      3263.264007   \n",
       "\n",
       "                                delta     ratio  \n",
       "start_date                                       \n",
       "2016-08-01 07:16:15-07:00  237.791942  1.078597  "
      ]
     },
     "execution_count": 29,
     "metadata": {},
     "output_type": "execute_result"
    }
   ],
   "source": [
    "my_swims[my_swims.delta==my_swims.delta.max()]"
   ]
  },
  {
   "cell_type": "code",
   "execution_count": 31,
   "metadata": {},
   "outputs": [
    {
     "data": {
      "text/html": [
       "<div>\n",
       "<table border=\"1\" class=\"dataframe\">\n",
       "  <thead>\n",
       "    <tr style=\"text-align: right;\">\n",
       "      <th></th>\n",
       "      <th>average_speed</th>\n",
       "      <th>distance</th>\n",
       "      <th>elapsed_time</th>\n",
       "      <th>id</th>\n",
       "      <th>name</th>\n",
       "      <th>stroke_count</th>\n",
       "      <th>month</th>\n",
       "      <th>ds_week_ending</th>\n",
       "      <th>is_pool</th>\n",
       "      <th>approx_distance</th>\n",
       "      <th>delta</th>\n",
       "      <th>ratio</th>\n",
       "    </tr>\n",
       "    <tr>\n",
       "      <th>start_date</th>\n",
       "      <th></th>\n",
       "      <th></th>\n",
       "      <th></th>\n",
       "      <th></th>\n",
       "      <th></th>\n",
       "      <th></th>\n",
       "      <th></th>\n",
       "      <th></th>\n",
       "      <th></th>\n",
       "      <th></th>\n",
       "      <th></th>\n",
       "      <th></th>\n",
       "    </tr>\n",
       "  </thead>\n",
       "  <tbody>\n",
       "    <tr>\n",
       "      <th>2016-06-11 08:12:40-07:00</th>\n",
       "      <td>1.123</td>\n",
       "      <td>11221.53221</td>\n",
       "      <td>9140.0</td>\n",
       "      <td>606266183</td>\n",
       "      <td>Lake DelValle!</td>\n",
       "      <td>76.2</td>\n",
       "      <td>Jun</td>\n",
       "      <td>2016-06-12</td>\n",
       "      <td>open water</td>\n",
       "      <td>11005.328277</td>\n",
       "      <td>-216.203933</td>\n",
       "      <td>0.980733</td>\n",
       "    </tr>\n",
       "  </tbody>\n",
       "</table>\n",
       "</div>"
      ],
      "text/plain": [
       "                           average_speed     distance  elapsed_time  \\\n",
       "start_date                                                            \n",
       "2016-06-11 08:12:40-07:00          1.123  11221.53221        9140.0   \n",
       "\n",
       "                                  id            name  stroke_count month  \\\n",
       "start_date                                                                 \n",
       "2016-06-11 08:12:40-07:00  606266183  Lake DelValle!          76.2   Jun   \n",
       "\n",
       "                          ds_week_ending     is_pool  approx_distance  \\\n",
       "start_date                                                              \n",
       "2016-06-11 08:12:40-07:00     2016-06-12  open water     11005.328277   \n",
       "\n",
       "                                delta     ratio  \n",
       "start_date                                       \n",
       "2016-06-11 08:12:40-07:00 -216.203933  0.980733  "
      ]
     },
     "execution_count": 31,
     "metadata": {},
     "output_type": "execute_result"
    }
   ],
   "source": [
    "my_swims[my_swims.delta==my_swims.delta.min()]"
   ]
  },
  {
   "cell_type": "code",
   "execution_count": 30,
   "metadata": {},
   "outputs": [
    {
     "data": {
      "text/html": [
       "<div>\n",
       "<table border=\"1\" class=\"dataframe\">\n",
       "  <thead>\n",
       "    <tr style=\"text-align: right;\">\n",
       "      <th></th>\n",
       "      <th>average_speed</th>\n",
       "      <th>distance</th>\n",
       "      <th>elapsed_time</th>\n",
       "      <th>id</th>\n",
       "      <th>name</th>\n",
       "      <th>stroke_count</th>\n",
       "      <th>month</th>\n",
       "      <th>ds_week_ending</th>\n",
       "      <th>is_pool</th>\n",
       "      <th>approx_distance</th>\n",
       "      <th>delta</th>\n",
       "      <th>ratio</th>\n",
       "    </tr>\n",
       "    <tr>\n",
       "      <th>start_date</th>\n",
       "      <th></th>\n",
       "      <th></th>\n",
       "      <th></th>\n",
       "      <th></th>\n",
       "      <th></th>\n",
       "      <th></th>\n",
       "      <th></th>\n",
       "      <th></th>\n",
       "      <th></th>\n",
       "      <th></th>\n",
       "      <th></th>\n",
       "      <th></th>\n",
       "    </tr>\n",
       "  </thead>\n",
       "  <tbody>\n",
       "    <tr>\n",
       "      <th>2016-04-04 17:02:34-07:00</th>\n",
       "      <td>0.948</td>\n",
       "      <td>1610.778169</td>\n",
       "      <td>1553.0</td>\n",
       "      <td>536045820</td>\n",
       "      <td>Afternoon Swim</td>\n",
       "      <td>68.6</td>\n",
       "      <td>Apr</td>\n",
       "      <td>2016-04-10</td>\n",
       "      <td>open water</td>\n",
       "      <td>1744.550292</td>\n",
       "      <td>133.772123</td>\n",
       "      <td>1.083048</td>\n",
       "    </tr>\n",
       "  </tbody>\n",
       "</table>\n",
       "</div>"
      ],
      "text/plain": [
       "                           average_speed     distance  elapsed_time  \\\n",
       "start_date                                                            \n",
       "2016-04-04 17:02:34-07:00          0.948  1610.778169        1553.0   \n",
       "\n",
       "                                  id            name  stroke_count month  \\\n",
       "start_date                                                                 \n",
       "2016-04-04 17:02:34-07:00  536045820  Afternoon Swim          68.6   Apr   \n",
       "\n",
       "                          ds_week_ending     is_pool  approx_distance  \\\n",
       "start_date                                                              \n",
       "2016-04-04 17:02:34-07:00     2016-04-10  open water      1744.550292   \n",
       "\n",
       "                                delta     ratio  \n",
       "start_date                                       \n",
       "2016-04-04 17:02:34-07:00  133.772123  1.083048  "
      ]
     },
     "execution_count": 30,
     "metadata": {},
     "output_type": "execute_result"
    }
   ],
   "source": [
    "my_swims[my_swims.ratio==my_swims.ratio.max()]"
   ]
  },
  {
   "cell_type": "code",
   "execution_count": 32,
   "metadata": {},
   "outputs": [
    {
     "data": {
      "text/html": [
       "<div>\n",
       "<table border=\"1\" class=\"dataframe\">\n",
       "  <thead>\n",
       "    <tr style=\"text-align: right;\">\n",
       "      <th></th>\n",
       "      <th>average_speed</th>\n",
       "      <th>distance</th>\n",
       "      <th>elapsed_time</th>\n",
       "      <th>id</th>\n",
       "      <th>name</th>\n",
       "      <th>stroke_count</th>\n",
       "      <th>month</th>\n",
       "      <th>ds_week_ending</th>\n",
       "      <th>is_pool</th>\n",
       "      <th>approx_distance</th>\n",
       "      <th>delta</th>\n",
       "      <th>ratio</th>\n",
       "    </tr>\n",
       "    <tr>\n",
       "      <th>start_date</th>\n",
       "      <th></th>\n",
       "      <th></th>\n",
       "      <th></th>\n",
       "      <th></th>\n",
       "      <th></th>\n",
       "      <th></th>\n",
       "      <th></th>\n",
       "      <th></th>\n",
       "      <th></th>\n",
       "      <th></th>\n",
       "      <th></th>\n",
       "      <th></th>\n",
       "    </tr>\n",
       "  </thead>\n",
       "  <tbody>\n",
       "    <tr>\n",
       "      <th>2016-04-23 14:41:49-07:00</th>\n",
       "      <td>1.117</td>\n",
       "      <td>1551.067063</td>\n",
       "      <td>1270.0</td>\n",
       "      <td>554752952</td>\n",
       "      <td>Short Sunny Swim Fail</td>\n",
       "      <td>74.2</td>\n",
       "      <td>Apr</td>\n",
       "      <td>2016-04-24</td>\n",
       "      <td>open water</td>\n",
       "      <td>1422.489362</td>\n",
       "      <td>-128.577701</td>\n",
       "      <td>0.917104</td>\n",
       "    </tr>\n",
       "  </tbody>\n",
       "</table>\n",
       "</div>"
      ],
      "text/plain": [
       "                           average_speed     distance  elapsed_time  \\\n",
       "start_date                                                            \n",
       "2016-04-23 14:41:49-07:00          1.117  1551.067063        1270.0   \n",
       "\n",
       "                                  id                   name  stroke_count  \\\n",
       "start_date                                                                  \n",
       "2016-04-23 14:41:49-07:00  554752952  Short Sunny Swim Fail          74.2   \n",
       "\n",
       "                          month ds_week_ending     is_pool  approx_distance  \\\n",
       "start_date                                                                    \n",
       "2016-04-23 14:41:49-07:00   Apr     2016-04-24  open water      1422.489362   \n",
       "\n",
       "                                delta     ratio  \n",
       "start_date                                       \n",
       "2016-04-23 14:41:49-07:00 -128.577701  0.917104  "
      ]
     },
     "execution_count": 32,
     "metadata": {},
     "output_type": "execute_result"
    }
   ],
   "source": [
    "my_swims[my_swims.ratio==my_swims.ratio.min()]"
   ]
  },
  {
   "cell_type": "code",
   "execution_count": null,
   "metadata": {
    "collapsed": true
   },
   "outputs": [],
   "source": []
  },
  {
   "cell_type": "code",
   "execution_count": 33,
   "metadata": {},
   "outputs": [
    {
     "data": {
      "text/html": [
       "<div>\n",
       "<table border=\"1\" class=\"dataframe\">\n",
       "  <thead>\n",
       "    <tr style=\"text-align: right;\">\n",
       "      <th></th>\n",
       "      <th>average_speed</th>\n",
       "      <th>distance</th>\n",
       "      <th>elapsed_time</th>\n",
       "      <th>id</th>\n",
       "      <th>name</th>\n",
       "      <th>stroke_count</th>\n",
       "      <th>month</th>\n",
       "      <th>ds_week_ending</th>\n",
       "      <th>is_pool</th>\n",
       "      <th>approx_distance</th>\n",
       "      <th>delta</th>\n",
       "      <th>ratio</th>\n",
       "    </tr>\n",
       "    <tr>\n",
       "      <th>start_date</th>\n",
       "      <th></th>\n",
       "      <th></th>\n",
       "      <th></th>\n",
       "      <th></th>\n",
       "      <th></th>\n",
       "      <th></th>\n",
       "      <th></th>\n",
       "      <th></th>\n",
       "      <th></th>\n",
       "      <th></th>\n",
       "      <th></th>\n",
       "      <th></th>\n",
       "    </tr>\n",
       "  </thead>\n",
       "  <tbody>\n",
       "    <tr>\n",
       "      <th>2016-04-23 14:41:49-07:00</th>\n",
       "      <td>1.117</td>\n",
       "      <td>1551.067063</td>\n",
       "      <td>1270.0</td>\n",
       "      <td>554752952</td>\n",
       "      <td>Short Sunny Swim Fail</td>\n",
       "      <td>74.2</td>\n",
       "      <td>Apr</td>\n",
       "      <td>2016-04-24</td>\n",
       "      <td>open water</td>\n",
       "      <td>1422.489362</td>\n",
       "      <td>-128.577701</td>\n",
       "      <td>0.917104</td>\n",
       "    </tr>\n",
       "  </tbody>\n",
       "</table>\n",
       "</div>"
      ],
      "text/plain": [
       "                           average_speed     distance  elapsed_time  \\\n",
       "start_date                                                            \n",
       "2016-04-23 14:41:49-07:00          1.117  1551.067063        1270.0   \n",
       "\n",
       "                                  id                   name  stroke_count  \\\n",
       "start_date                                                                  \n",
       "2016-04-23 14:41:49-07:00  554752952  Short Sunny Swim Fail          74.2   \n",
       "\n",
       "                          month ds_week_ending     is_pool  approx_distance  \\\n",
       "start_date                                                                    \n",
       "2016-04-23 14:41:49-07:00   Apr     2016-04-24  open water      1422.489362   \n",
       "\n",
       "                                delta     ratio  \n",
       "start_date                                       \n",
       "2016-04-23 14:41:49-07:00 -128.577701  0.917104  "
      ]
     },
     "execution_count": 33,
     "metadata": {},
     "output_type": "execute_result"
    }
   ],
   "source": [
    "my_swims[my_swims.name.apply(lambda x: 'Fail' in x)]"
   ]
  },
  {
   "cell_type": "code",
   "execution_count": null,
   "metadata": {
    "collapsed": true
   },
   "outputs": [],
   "source": []
  }
 ],
 "metadata": {
  "anaconda-cloud": {},
  "kernelspec": {
   "display_name": "Python [Root]",
   "language": "python",
   "name": "Python [Root]"
  },
  "language_info": {
   "codemirror_mode": {
    "name": "ipython",
    "version": 2
   },
   "file_extension": ".py",
   "mimetype": "text/x-python",
   "name": "python",
   "nbconvert_exporter": "python",
   "pygments_lexer": "ipython2",
   "version": "2.7.13"
  }
 },
 "nbformat": 4,
 "nbformat_minor": 1
}
