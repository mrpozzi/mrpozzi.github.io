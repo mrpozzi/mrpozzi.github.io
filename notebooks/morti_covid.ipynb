{
 "cells": [
  {
   "cell_type": "code",
   "execution_count": 1,
   "metadata": {},
   "outputs": [],
   "source": [
    "%matplotlib inline\n",
    "%load_ext autoreload\n",
    "%autoreload 2\n",
    "\n",
    "import pandas as pd\n",
    "import numpy as np\n",
    "\n",
    "import math\n",
    "\n",
    "import matplotlib.pyplot as plt\n",
    "plt.style.use('fivethirtyeight')\n",
    "\n",
    "import datetime\n",
    "import calendar\n",
    "from datetime import timedelta\n"
   ]
  },
  {
   "cell_type": "markdown",
   "metadata": {},
   "source": [
    "# How many"
   ]
  },
  {
   "cell_type": "markdown",
   "metadata": {},
   "source": [
    "## Data"
   ]
  },
  {
   "cell_type": "markdown",
   "metadata": {},
   "source": [
    "- [Dati Istat](https://www.istat.it/it/archivio/240401?fbclid=IwAR0ya3WTO5_LUDLqgPsRkbhINYbO6hsdVwHwbu76mSG4EMpp1Bv98Vro1Pc)\n",
    "- [Dati Protezione Civile](https://github.com/pcm-dpc/COVID-19)\n",
    "\n",
    "https://twitter.com/d_spiegel/status/1249986522692096003\n",
    "\n",
    "https://www.ons.gov.uk/peoplepopulationandcommunity/birthsdeathsandmarriages/deaths/bulletins/deathsregisteredweeklyinenglandandwalesprovisional/weekending3april2020\n",
    "\n",
    "https://www.infodata.ilsole24ore.com/2020/03/27/43630/\n",
    "\n",
    "https://www.wired.it/scienza/medicina/2020/03/26/sottostima-decessi-coronavirus/"
   ]
  },
  {
   "cell_type": "code",
   "execution_count": 51,
   "metadata": {},
   "outputs": [
    {
     "data": {
      "text/html": [
       "<div>\n",
       "<style scoped>\n",
       "    .dataframe tbody tr th:only-of-type {\n",
       "        vertical-align: middle;\n",
       "    }\n",
       "\n",
       "    .dataframe tbody tr th {\n",
       "        vertical-align: top;\n",
       "    }\n",
       "\n",
       "    .dataframe thead th {\n",
       "        text-align: right;\n",
       "    }\n",
       "</style>\n",
       "<table border=\"1\" class=\"dataframe\">\n",
       "  <thead>\n",
       "    <tr style=\"text-align: right;\">\n",
       "      <th></th>\n",
       "      <th>REG</th>\n",
       "      <th>PROV</th>\n",
       "      <th>COD_PROVCOM</th>\n",
       "      <th>NOME_REGIONE</th>\n",
       "      <th>NOME_PROVINCIA</th>\n",
       "      <th>NOME_COMUNE</th>\n",
       "      <th>SETTIMANA</th>\n",
       "      <th>CLASSE_DI_ETA</th>\n",
       "      <th>MASCHI_2015</th>\n",
       "      <th>MASCHI_2016</th>\n",
       "      <th>...</th>\n",
       "      <th>FEMMINE_2020</th>\n",
       "      <th>TOTALE_2015</th>\n",
       "      <th>TOTALE_2016</th>\n",
       "      <th>TOTALE_2017</th>\n",
       "      <th>TOTALE_2018</th>\n",
       "      <th>TOTALE_2019</th>\n",
       "      <th>TOTALE_2020</th>\n",
       "      <th>MESE</th>\n",
       "      <th>5YRS_AVG</th>\n",
       "      <th>5YRS_STD</th>\n",
       "    </tr>\n",
       "  </thead>\n",
       "  <tbody>\n",
       "    <tr>\n",
       "      <td>0</td>\n",
       "      <td>1</td>\n",
       "      <td>1</td>\n",
       "      <td>1001</td>\n",
       "      <td>Piemonte</td>\n",
       "      <td>Torino</td>\n",
       "      <td>Agliè</td>\n",
       "      <td>01/01-11/01</td>\n",
       "      <td>0-14 anni</td>\n",
       "      <td>0</td>\n",
       "      <td>0</td>\n",
       "      <td>...</td>\n",
       "      <td>0</td>\n",
       "      <td>0</td>\n",
       "      <td>0</td>\n",
       "      <td>0</td>\n",
       "      <td>0</td>\n",
       "      <td>0</td>\n",
       "      <td>0</td>\n",
       "      <td>January</td>\n",
       "      <td>0.0</td>\n",
       "      <td>0.0</td>\n",
       "    </tr>\n",
       "    <tr>\n",
       "      <td>1</td>\n",
       "      <td>1</td>\n",
       "      <td>1</td>\n",
       "      <td>1001</td>\n",
       "      <td>Piemonte</td>\n",
       "      <td>Torino</td>\n",
       "      <td>Agliè</td>\n",
       "      <td>12/01-18/01</td>\n",
       "      <td>0-14 anni</td>\n",
       "      <td>0</td>\n",
       "      <td>0</td>\n",
       "      <td>...</td>\n",
       "      <td>0</td>\n",
       "      <td>0</td>\n",
       "      <td>0</td>\n",
       "      <td>0</td>\n",
       "      <td>0</td>\n",
       "      <td>0</td>\n",
       "      <td>0</td>\n",
       "      <td>January</td>\n",
       "      <td>0.0</td>\n",
       "      <td>0.0</td>\n",
       "    </tr>\n",
       "    <tr>\n",
       "      <td>2</td>\n",
       "      <td>1</td>\n",
       "      <td>1</td>\n",
       "      <td>1001</td>\n",
       "      <td>Piemonte</td>\n",
       "      <td>Torino</td>\n",
       "      <td>Agliè</td>\n",
       "      <td>19/01-25/01</td>\n",
       "      <td>0-14 anni</td>\n",
       "      <td>0</td>\n",
       "      <td>0</td>\n",
       "      <td>...</td>\n",
       "      <td>0</td>\n",
       "      <td>0</td>\n",
       "      <td>0</td>\n",
       "      <td>0</td>\n",
       "      <td>0</td>\n",
       "      <td>0</td>\n",
       "      <td>0</td>\n",
       "      <td>January</td>\n",
       "      <td>0.0</td>\n",
       "      <td>0.0</td>\n",
       "    </tr>\n",
       "    <tr>\n",
       "      <td>3</td>\n",
       "      <td>1</td>\n",
       "      <td>1</td>\n",
       "      <td>1001</td>\n",
       "      <td>Piemonte</td>\n",
       "      <td>Torino</td>\n",
       "      <td>Agliè</td>\n",
       "      <td>26/01-01/02</td>\n",
       "      <td>0-14 anni</td>\n",
       "      <td>0</td>\n",
       "      <td>0</td>\n",
       "      <td>...</td>\n",
       "      <td>0</td>\n",
       "      <td>0</td>\n",
       "      <td>0</td>\n",
       "      <td>0</td>\n",
       "      <td>0</td>\n",
       "      <td>0</td>\n",
       "      <td>0</td>\n",
       "      <td>January</td>\n",
       "      <td>0.0</td>\n",
       "      <td>0.0</td>\n",
       "    </tr>\n",
       "    <tr>\n",
       "      <td>4</td>\n",
       "      <td>1</td>\n",
       "      <td>1</td>\n",
       "      <td>1001</td>\n",
       "      <td>Piemonte</td>\n",
       "      <td>Torino</td>\n",
       "      <td>Agliè</td>\n",
       "      <td>02/02-08/02</td>\n",
       "      <td>0-14 anni</td>\n",
       "      <td>0</td>\n",
       "      <td>0</td>\n",
       "      <td>...</td>\n",
       "      <td>0</td>\n",
       "      <td>0</td>\n",
       "      <td>0</td>\n",
       "      <td>0</td>\n",
       "      <td>0</td>\n",
       "      <td>0</td>\n",
       "      <td>0</td>\n",
       "      <td>February</td>\n",
       "      <td>0.0</td>\n",
       "      <td>0.0</td>\n",
       "    </tr>\n",
       "  </tbody>\n",
       "</table>\n",
       "<p>5 rows × 29 columns</p>\n",
       "</div>"
      ],
      "text/plain": [
       "   REG  PROV  COD_PROVCOM NOME_REGIONE NOME_PROVINCIA NOME_COMUNE  \\\n",
       "0    1     1         1001     Piemonte         Torino       Agliè   \n",
       "1    1     1         1001     Piemonte         Torino       Agliè   \n",
       "2    1     1         1001     Piemonte         Torino       Agliè   \n",
       "3    1     1         1001     Piemonte         Torino       Agliè   \n",
       "4    1     1         1001     Piemonte         Torino       Agliè   \n",
       "\n",
       "     SETTIMANA CLASSE_DI_ETA  MASCHI_2015  MASCHI_2016  ...  FEMMINE_2020  \\\n",
       "0  01/01-11/01     0-14 anni            0            0  ...             0   \n",
       "1  12/01-18/01     0-14 anni            0            0  ...             0   \n",
       "2  19/01-25/01     0-14 anni            0            0  ...             0   \n",
       "3  26/01-01/02     0-14 anni            0            0  ...             0   \n",
       "4  02/02-08/02     0-14 anni            0            0  ...             0   \n",
       "\n",
       "   TOTALE_2015  TOTALE_2016  TOTALE_2017  TOTALE_2018  TOTALE_2019  \\\n",
       "0            0            0            0            0            0   \n",
       "1            0            0            0            0            0   \n",
       "2            0            0            0            0            0   \n",
       "3            0            0            0            0            0   \n",
       "4            0            0            0            0            0   \n",
       "\n",
       "   TOTALE_2020      MESE  5YRS_AVG  5YRS_STD  \n",
       "0            0   January       0.0       0.0  \n",
       "1            0   January       0.0       0.0  \n",
       "2            0   January       0.0       0.0  \n",
       "3            0   January       0.0       0.0  \n",
       "4            0  February       0.0       0.0  \n",
       "\n",
       "[5 rows x 29 columns]"
      ]
     },
     "execution_count": 51,
     "metadata": {},
     "output_type": "execute_result"
    }
   ],
   "source": [
    "morti_2020 = pd.read_excel(\"/Users/mrp/Desktop/CovidDemo/comuni-settimana/comuni_settimana.xlsx\")\n",
    "morti_2020['MESE'] = morti_2020.SETTIMANA.apply(lambda x: calendar.month_name[int(x.split('-')[0].split('/')[1])])\n",
    "morti_2020['5YRS_AVG'] = morti_2020[['TOTALE_2015', 'TOTALE_2016', 'TOTALE_2017', 'TOTALE_2018', 'TOTALE_2019']].mean(axis=1)\n",
    "morti_2020['5YRS_STD'] = morti_2020[['TOTALE_2015', 'TOTALE_2016', 'TOTALE_2017', 'TOTALE_2018', 'TOTALE_2019']].std(axis=1)\n",
    "morti_2020.head()"
   ]
  },
  {
   "cell_type": "code",
   "execution_count": 53,
   "metadata": {},
   "outputs": [
    {
     "data": {
      "text/html": [
       "<div>\n",
       "<style scoped>\n",
       "    .dataframe tbody tr th:only-of-type {\n",
       "        vertical-align: middle;\n",
       "    }\n",
       "\n",
       "    .dataframe tbody tr th {\n",
       "        vertical-align: top;\n",
       "    }\n",
       "\n",
       "    .dataframe thead th {\n",
       "        text-align: right;\n",
       "    }\n",
       "</style>\n",
       "<table border=\"1\" class=\"dataframe\">\n",
       "  <thead>\n",
       "    <tr style=\"text-align: right;\">\n",
       "      <th></th>\n",
       "      <th>5YRS_AVG</th>\n",
       "      <th>5YRS_STD</th>\n",
       "      <th>TOTALE_2015</th>\n",
       "      <th>TOTALE_2016</th>\n",
       "      <th>TOTALE_2017</th>\n",
       "      <th>TOTALE_2018</th>\n",
       "      <th>TOTALE_2019</th>\n",
       "      <th>TOTALE_2020</th>\n",
       "    </tr>\n",
       "  </thead>\n",
       "  <tbody>\n",
       "    <tr>\n",
       "      <td>69595</td>\n",
       "      <td>1.0</td>\n",
       "      <td>0.707107</td>\n",
       "      <td>1</td>\n",
       "      <td>2</td>\n",
       "      <td>1</td>\n",
       "      <td>0</td>\n",
       "      <td>1</td>\n",
       "      <td>1</td>\n",
       "    </tr>\n",
       "    <tr>\n",
       "      <td>69596</td>\n",
       "      <td>1.6</td>\n",
       "      <td>0.894427</td>\n",
       "      <td>2</td>\n",
       "      <td>2</td>\n",
       "      <td>2</td>\n",
       "      <td>0</td>\n",
       "      <td>2</td>\n",
       "      <td>2</td>\n",
       "    </tr>\n",
       "    <tr>\n",
       "      <td>69597</td>\n",
       "      <td>1.2</td>\n",
       "      <td>1.303840</td>\n",
       "      <td>3</td>\n",
       "      <td>0</td>\n",
       "      <td>1</td>\n",
       "      <td>0</td>\n",
       "      <td>2</td>\n",
       "      <td>2</td>\n",
       "    </tr>\n",
       "    <tr>\n",
       "      <td>69598</td>\n",
       "      <td>0.4</td>\n",
       "      <td>0.547723</td>\n",
       "      <td>1</td>\n",
       "      <td>1</td>\n",
       "      <td>0</td>\n",
       "      <td>0</td>\n",
       "      <td>0</td>\n",
       "      <td>1</td>\n",
       "    </tr>\n",
       "    <tr>\n",
       "      <td>69599</td>\n",
       "      <td>1.2</td>\n",
       "      <td>1.095445</td>\n",
       "      <td>1</td>\n",
       "      <td>1</td>\n",
       "      <td>1</td>\n",
       "      <td>3</td>\n",
       "      <td>0</td>\n",
       "      <td>1</td>\n",
       "    </tr>\n",
       "  </tbody>\n",
       "</table>\n",
       "</div>"
      ],
      "text/plain": [
       "       5YRS_AVG  5YRS_STD  TOTALE_2015  TOTALE_2016  TOTALE_2017  TOTALE_2018  \\\n",
       "69595       1.0  0.707107            1            2            1            0   \n",
       "69596       1.6  0.894427            2            2            2            0   \n",
       "69597       1.2  1.303840            3            0            1            0   \n",
       "69598       0.4  0.547723            1            1            0            0   \n",
       "69599       1.2  1.095445            1            1            1            3   \n",
       "\n",
       "       TOTALE_2019  TOTALE_2020  \n",
       "69595            1            1  \n",
       "69596            2            2  \n",
       "69597            2            2  \n",
       "69598            0            1  \n",
       "69599            0            1  "
      ]
     },
     "execution_count": 53,
     "metadata": {},
     "output_type": "execute_result"
    }
   ],
   "source": [
    "morti_2020[['5YRS_AVG', '5YRS_STD', 'TOTALE_2015', 'TOTALE_2016', 'TOTALE_2017', 'TOTALE_2018', 'TOTALE_2019', 'TOTALE_2020']].tail()"
   ]
  },
  {
   "cell_type": "code",
   "execution_count": 3,
   "metadata": {},
   "outputs": [],
   "source": [
    "COLUMNS = ['SETTIMANA', 'MESE', '5YRS_AVG',\n",
    "           'NOME_REGIONE', 'NOME_PROVINCIA', 'NOME_COMUNE',\n",
    "           'TOTALE_2015', 'TOTALE_2016', 'TOTALE_2017',\n",
    "           'TOTALE_2018', 'TOTALE_2019', 'TOTALE_2020']"
   ]
  },
  {
   "cell_type": "code",
   "execution_count": 5,
   "metadata": {},
   "outputs": [],
   "source": [
    "morti_2020['MESE'] = morti_2020.SETTIMANA.apply(lambda x: calendar.month_name[int(x.split('-')[0].split('/')[1])])"
   ]
  },
  {
   "cell_type": "code",
   "execution_count": 6,
   "metadata": {},
   "outputs": [
    {
     "data": {
      "text/html": [
       "<div>\n",
       "<style scoped>\n",
       "    .dataframe tbody tr th:only-of-type {\n",
       "        vertical-align: middle;\n",
       "    }\n",
       "\n",
       "    .dataframe tbody tr th {\n",
       "        vertical-align: top;\n",
       "    }\n",
       "\n",
       "    .dataframe thead th {\n",
       "        text-align: right;\n",
       "    }\n",
       "</style>\n",
       "<table border=\"1\" class=\"dataframe\">\n",
       "  <thead>\n",
       "    <tr style=\"text-align: right;\">\n",
       "      <th></th>\n",
       "      <th>SETTIMANA</th>\n",
       "      <th>MESE</th>\n",
       "      <th>5YRS_AVG</th>\n",
       "      <th>NOME_REGIONE</th>\n",
       "      <th>NOME_PROVINCIA</th>\n",
       "      <th>NOME_COMUNE</th>\n",
       "      <th>TOTALE_2015</th>\n",
       "      <th>TOTALE_2016</th>\n",
       "      <th>TOTALE_2017</th>\n",
       "      <th>TOTALE_2018</th>\n",
       "      <th>TOTALE_2019</th>\n",
       "      <th>TOTALE_2020</th>\n",
       "    </tr>\n",
       "  </thead>\n",
       "  <tbody>\n",
       "    <tr>\n",
       "      <td>0</td>\n",
       "      <td>01/01-11/01</td>\n",
       "      <td>January</td>\n",
       "      <td>0.0</td>\n",
       "      <td>Piemonte</td>\n",
       "      <td>Torino</td>\n",
       "      <td>Agliè</td>\n",
       "      <td>0</td>\n",
       "      <td>0</td>\n",
       "      <td>0</td>\n",
       "      <td>0</td>\n",
       "      <td>0</td>\n",
       "      <td>0</td>\n",
       "    </tr>\n",
       "    <tr>\n",
       "      <td>1</td>\n",
       "      <td>12/01-18/01</td>\n",
       "      <td>January</td>\n",
       "      <td>0.0</td>\n",
       "      <td>Piemonte</td>\n",
       "      <td>Torino</td>\n",
       "      <td>Agliè</td>\n",
       "      <td>0</td>\n",
       "      <td>0</td>\n",
       "      <td>0</td>\n",
       "      <td>0</td>\n",
       "      <td>0</td>\n",
       "      <td>0</td>\n",
       "    </tr>\n",
       "    <tr>\n",
       "      <td>2</td>\n",
       "      <td>19/01-25/01</td>\n",
       "      <td>January</td>\n",
       "      <td>0.0</td>\n",
       "      <td>Piemonte</td>\n",
       "      <td>Torino</td>\n",
       "      <td>Agliè</td>\n",
       "      <td>0</td>\n",
       "      <td>0</td>\n",
       "      <td>0</td>\n",
       "      <td>0</td>\n",
       "      <td>0</td>\n",
       "      <td>0</td>\n",
       "    </tr>\n",
       "    <tr>\n",
       "      <td>3</td>\n",
       "      <td>26/01-01/02</td>\n",
       "      <td>January</td>\n",
       "      <td>0.0</td>\n",
       "      <td>Piemonte</td>\n",
       "      <td>Torino</td>\n",
       "      <td>Agliè</td>\n",
       "      <td>0</td>\n",
       "      <td>0</td>\n",
       "      <td>0</td>\n",
       "      <td>0</td>\n",
       "      <td>0</td>\n",
       "      <td>0</td>\n",
       "    </tr>\n",
       "    <tr>\n",
       "      <td>4</td>\n",
       "      <td>02/02-08/02</td>\n",
       "      <td>February</td>\n",
       "      <td>0.0</td>\n",
       "      <td>Piemonte</td>\n",
       "      <td>Torino</td>\n",
       "      <td>Agliè</td>\n",
       "      <td>0</td>\n",
       "      <td>0</td>\n",
       "      <td>0</td>\n",
       "      <td>0</td>\n",
       "      <td>0</td>\n",
       "      <td>0</td>\n",
       "    </tr>\n",
       "  </tbody>\n",
       "</table>\n",
       "</div>"
      ],
      "text/plain": [
       "     SETTIMANA      MESE  5YRS_AVG NOME_REGIONE NOME_PROVINCIA NOME_COMUNE  \\\n",
       "0  01/01-11/01   January       0.0     Piemonte         Torino       Agliè   \n",
       "1  12/01-18/01   January       0.0     Piemonte         Torino       Agliè   \n",
       "2  19/01-25/01   January       0.0     Piemonte         Torino       Agliè   \n",
       "3  26/01-01/02   January       0.0     Piemonte         Torino       Agliè   \n",
       "4  02/02-08/02  February       0.0     Piemonte         Torino       Agliè   \n",
       "\n",
       "   TOTALE_2015  TOTALE_2016  TOTALE_2017  TOTALE_2018  TOTALE_2019  \\\n",
       "0            0            0            0            0            0   \n",
       "1            0            0            0            0            0   \n",
       "2            0            0            0            0            0   \n",
       "3            0            0            0            0            0   \n",
       "4            0            0            0            0            0   \n",
       "\n",
       "   TOTALE_2020  \n",
       "0            0  \n",
       "1            0  \n",
       "2            0  \n",
       "3            0  \n",
       "4            0  "
      ]
     },
     "execution_count": 6,
     "metadata": {},
     "output_type": "execute_result"
    }
   ],
   "source": [
    "morti_2020[COLUMNS].head()"
   ]
  },
  {
   "cell_type": "code",
   "execution_count": 57,
   "metadata": {},
   "outputs": [],
   "source": [
    "ds_dict = {'01/01-11/01': \"2020-01-12\",\n",
    "           '12/01-18/01': \"2020-01-19\",\n",
    "           '19/01-25/01': \"2020-01-26\",\n",
    "           '26/01-01/02': \"2020-02-03\",\n",
    "           '02/02-08/02': \"2020-02-09\",\n",
    "           '09/02-15/02': \"2020-02-16\",\n",
    "           '16/02-22/02': \"2020-02-23\",\n",
    "           '23/02-29/02': \"2020-03-01\",\n",
    "           '01/03-07/03': \"2020-03-08\",\n",
    "           '08/03-14/03': \"2020-03-15\",\n",
    "           '15/03-21/03': \"2020-03-22\",\n",
    "           '22/03-28/03': \"2020-03-29\"}\n",
    "morti_2020.index = pd.DatetimeIndex(morti_2020.SETTIMANA.apply(lambda x: ds_dict[x]))\n",
    "morti_2020['ds_week_ending'] = pd.DatetimeIndex(morti_2020.SETTIMANA.apply(lambda x: ds_dict[x]))\n",
    "morti_2020.index.name = None"
   ]
  },
  {
   "cell_type": "code",
   "execution_count": null,
   "metadata": {},
   "outputs": [],
   "source": []
  },
  {
   "cell_type": "code",
   "execution_count": null,
   "metadata": {},
   "outputs": [],
   "source": []
  },
  {
   "cell_type": "code",
   "execution_count": 9,
   "metadata": {},
   "outputs": [],
   "source": [
    "TEMPLATE = \"https://raw.githubusercontent.com/pcm-dpc/COVID-19/master/dati-{unit}/dpc-covid19-ita-{unit}-{date}.csv\""
   ]
  },
  {
   "cell_type": "code",
   "execution_count": 10,
   "metadata": {},
   "outputs": [],
   "source": [
    "start_date = datetime.date(2020, 2, 24)\n",
    "end_date = datetime.date.today()\n",
    "day_count = (end_date-start_date).days-1\n",
    "\n",
    "covid_province = pd.concat([pd.read_csv(TEMPLATE.format(unit='province', date=single_date.strftime(\"%Y%m%d\")))\n",
    "                             for single_date in (start_date + timedelta(n) for n in range(day_count))])\n",
    "covid_province['ds_week_ending'] = pd.DatetimeIndex(covid_province.data).to_period('W').end_time.floor('d')\n",
    "        \n",
    "\n",
    "covid_regioni = pd.concat([pd.read_csv(TEMPLATE.format(unit='regioni', date=single_date.strftime(\"%Y%m%d\")))\n",
    "                             for single_date in (start_date + timedelta(n) for n in range(day_count))])\n",
    "\n",
    "covid_regioni['ds_week_ending'] = pd.DatetimeIndex(covid_regioni.data).to_period('W').end_time.floor('d')\n"
   ]
  },
  {
   "cell_type": "code",
   "execution_count": 11,
   "metadata": {},
   "outputs": [],
   "source": [
    "covid_regioni['ds_week_ending'] = pd.DatetimeIndex(covid_regioni.data).to_period('W').end_time.floor('d')\n"
   ]
  },
  {
   "cell_type": "code",
   "execution_count": 12,
   "metadata": {},
   "outputs": [
    {
     "data": {
      "text/html": [
       "<div>\n",
       "<style scoped>\n",
       "    .dataframe tbody tr th:only-of-type {\n",
       "        vertical-align: middle;\n",
       "    }\n",
       "\n",
       "    .dataframe tbody tr th {\n",
       "        vertical-align: top;\n",
       "    }\n",
       "\n",
       "    .dataframe thead th {\n",
       "        text-align: right;\n",
       "    }\n",
       "</style>\n",
       "<table border=\"1\" class=\"dataframe\">\n",
       "  <thead>\n",
       "    <tr style=\"text-align: right;\">\n",
       "      <th></th>\n",
       "      <th>data</th>\n",
       "      <th>stato</th>\n",
       "      <th>codice_regione</th>\n",
       "      <th>denominazione_regione</th>\n",
       "      <th>lat</th>\n",
       "      <th>long</th>\n",
       "      <th>ricoverati_con_sintomi</th>\n",
       "      <th>terapia_intensiva</th>\n",
       "      <th>totale_ospedalizzati</th>\n",
       "      <th>isolamento_domiciliare</th>\n",
       "      <th>totale_positivi</th>\n",
       "      <th>variazione_totale_positivi</th>\n",
       "      <th>nuovi_positivi</th>\n",
       "      <th>dimessi_guariti</th>\n",
       "      <th>deceduti</th>\n",
       "      <th>totale_casi</th>\n",
       "      <th>tamponi</th>\n",
       "      <th>note_it</th>\n",
       "      <th>note_en</th>\n",
       "      <th>ds_week_ending</th>\n",
       "    </tr>\n",
       "  </thead>\n",
       "  <tbody>\n",
       "    <tr>\n",
       "      <td>0</td>\n",
       "      <td>2020-02-24T18:00:00</td>\n",
       "      <td>ITA</td>\n",
       "      <td>13</td>\n",
       "      <td>Abruzzo</td>\n",
       "      <td>42.351222</td>\n",
       "      <td>13.398438</td>\n",
       "      <td>0</td>\n",
       "      <td>0</td>\n",
       "      <td>0</td>\n",
       "      <td>0</td>\n",
       "      <td>0</td>\n",
       "      <td>0</td>\n",
       "      <td>0</td>\n",
       "      <td>0</td>\n",
       "      <td>0</td>\n",
       "      <td>0</td>\n",
       "      <td>5</td>\n",
       "      <td>NaN</td>\n",
       "      <td>NaN</td>\n",
       "      <td>2020-03-01</td>\n",
       "    </tr>\n",
       "    <tr>\n",
       "      <td>1</td>\n",
       "      <td>2020-02-24T18:00:00</td>\n",
       "      <td>ITA</td>\n",
       "      <td>17</td>\n",
       "      <td>Basilicata</td>\n",
       "      <td>40.639471</td>\n",
       "      <td>15.805148</td>\n",
       "      <td>0</td>\n",
       "      <td>0</td>\n",
       "      <td>0</td>\n",
       "      <td>0</td>\n",
       "      <td>0</td>\n",
       "      <td>0</td>\n",
       "      <td>0</td>\n",
       "      <td>0</td>\n",
       "      <td>0</td>\n",
       "      <td>0</td>\n",
       "      <td>0</td>\n",
       "      <td>NaN</td>\n",
       "      <td>NaN</td>\n",
       "      <td>2020-03-01</td>\n",
       "    </tr>\n",
       "    <tr>\n",
       "      <td>2</td>\n",
       "      <td>2020-02-24T18:00:00</td>\n",
       "      <td>ITA</td>\n",
       "      <td>4</td>\n",
       "      <td>P.A. Bolzano</td>\n",
       "      <td>46.499335</td>\n",
       "      <td>11.356624</td>\n",
       "      <td>0</td>\n",
       "      <td>0</td>\n",
       "      <td>0</td>\n",
       "      <td>0</td>\n",
       "      <td>0</td>\n",
       "      <td>0</td>\n",
       "      <td>0</td>\n",
       "      <td>0</td>\n",
       "      <td>0</td>\n",
       "      <td>0</td>\n",
       "      <td>1</td>\n",
       "      <td>NaN</td>\n",
       "      <td>NaN</td>\n",
       "      <td>2020-03-01</td>\n",
       "    </tr>\n",
       "    <tr>\n",
       "      <td>3</td>\n",
       "      <td>2020-02-24T18:00:00</td>\n",
       "      <td>ITA</td>\n",
       "      <td>18</td>\n",
       "      <td>Calabria</td>\n",
       "      <td>38.905976</td>\n",
       "      <td>16.594402</td>\n",
       "      <td>0</td>\n",
       "      <td>0</td>\n",
       "      <td>0</td>\n",
       "      <td>0</td>\n",
       "      <td>0</td>\n",
       "      <td>0</td>\n",
       "      <td>0</td>\n",
       "      <td>0</td>\n",
       "      <td>0</td>\n",
       "      <td>0</td>\n",
       "      <td>1</td>\n",
       "      <td>NaN</td>\n",
       "      <td>NaN</td>\n",
       "      <td>2020-03-01</td>\n",
       "    </tr>\n",
       "    <tr>\n",
       "      <td>4</td>\n",
       "      <td>2020-02-24T18:00:00</td>\n",
       "      <td>ITA</td>\n",
       "      <td>15</td>\n",
       "      <td>Campania</td>\n",
       "      <td>40.839566</td>\n",
       "      <td>14.250850</td>\n",
       "      <td>0</td>\n",
       "      <td>0</td>\n",
       "      <td>0</td>\n",
       "      <td>0</td>\n",
       "      <td>0</td>\n",
       "      <td>0</td>\n",
       "      <td>0</td>\n",
       "      <td>0</td>\n",
       "      <td>0</td>\n",
       "      <td>0</td>\n",
       "      <td>10</td>\n",
       "      <td>NaN</td>\n",
       "      <td>NaN</td>\n",
       "      <td>2020-03-01</td>\n",
       "    </tr>\n",
       "  </tbody>\n",
       "</table>\n",
       "</div>"
      ],
      "text/plain": [
       "                  data stato  codice_regione denominazione_regione        lat  \\\n",
       "0  2020-02-24T18:00:00   ITA              13               Abruzzo  42.351222   \n",
       "1  2020-02-24T18:00:00   ITA              17            Basilicata  40.639471   \n",
       "2  2020-02-24T18:00:00   ITA               4          P.A. Bolzano  46.499335   \n",
       "3  2020-02-24T18:00:00   ITA              18              Calabria  38.905976   \n",
       "4  2020-02-24T18:00:00   ITA              15              Campania  40.839566   \n",
       "\n",
       "        long  ricoverati_con_sintomi  terapia_intensiva  totale_ospedalizzati  \\\n",
       "0  13.398438                       0                  0                     0   \n",
       "1  15.805148                       0                  0                     0   \n",
       "2  11.356624                       0                  0                     0   \n",
       "3  16.594402                       0                  0                     0   \n",
       "4  14.250850                       0                  0                     0   \n",
       "\n",
       "   isolamento_domiciliare  totale_positivi  variazione_totale_positivi  \\\n",
       "0                       0                0                           0   \n",
       "1                       0                0                           0   \n",
       "2                       0                0                           0   \n",
       "3                       0                0                           0   \n",
       "4                       0                0                           0   \n",
       "\n",
       "   nuovi_positivi  dimessi_guariti  deceduti  totale_casi  tamponi note_it  \\\n",
       "0               0                0         0            0        5     NaN   \n",
       "1               0                0         0            0        0     NaN   \n",
       "2               0                0         0            0        1     NaN   \n",
       "3               0                0         0            0        1     NaN   \n",
       "4               0                0         0            0       10     NaN   \n",
       "\n",
       "  note_en ds_week_ending  \n",
       "0     NaN     2020-03-01  \n",
       "1     NaN     2020-03-01  \n",
       "2     NaN     2020-03-01  \n",
       "3     NaN     2020-03-01  \n",
       "4     NaN     2020-03-01  "
      ]
     },
     "execution_count": 12,
     "metadata": {},
     "output_type": "execute_result"
    }
   ],
   "source": [
    "covid_regioni.head()"
   ]
  },
  {
   "cell_type": "code",
   "execution_count": 13,
   "metadata": {},
   "outputs": [
    {
     "data": {
      "text/html": [
       "<div>\n",
       "<style scoped>\n",
       "    .dataframe tbody tr th:only-of-type {\n",
       "        vertical-align: middle;\n",
       "    }\n",
       "\n",
       "    .dataframe tbody tr th {\n",
       "        vertical-align: top;\n",
       "    }\n",
       "\n",
       "    .dataframe thead th {\n",
       "        text-align: right;\n",
       "    }\n",
       "</style>\n",
       "<table border=\"1\" class=\"dataframe\">\n",
       "  <thead>\n",
       "    <tr style=\"text-align: right;\">\n",
       "      <th></th>\n",
       "      <th>data</th>\n",
       "      <th>stato</th>\n",
       "      <th>codice_regione</th>\n",
       "      <th>denominazione_regione</th>\n",
       "      <th>codice_provincia</th>\n",
       "      <th>denominazione_provincia</th>\n",
       "      <th>sigla_provincia</th>\n",
       "      <th>lat</th>\n",
       "      <th>long</th>\n",
       "      <th>totale_casi</th>\n",
       "      <th>note_it</th>\n",
       "      <th>note_en</th>\n",
       "      <th>ds_week_ending</th>\n",
       "    </tr>\n",
       "  </thead>\n",
       "  <tbody>\n",
       "    <tr>\n",
       "      <td>0</td>\n",
       "      <td>2020-02-24T18:00:00</td>\n",
       "      <td>ITA</td>\n",
       "      <td>13</td>\n",
       "      <td>Abruzzo</td>\n",
       "      <td>69</td>\n",
       "      <td>Chieti</td>\n",
       "      <td>CH</td>\n",
       "      <td>42.351032</td>\n",
       "      <td>14.167546</td>\n",
       "      <td>0</td>\n",
       "      <td>NaN</td>\n",
       "      <td>NaN</td>\n",
       "      <td>2020-03-01</td>\n",
       "    </tr>\n",
       "    <tr>\n",
       "      <td>1</td>\n",
       "      <td>2020-02-24T18:00:00</td>\n",
       "      <td>ITA</td>\n",
       "      <td>13</td>\n",
       "      <td>Abruzzo</td>\n",
       "      <td>66</td>\n",
       "      <td>L'Aquila</td>\n",
       "      <td>AQ</td>\n",
       "      <td>42.351222</td>\n",
       "      <td>13.398438</td>\n",
       "      <td>0</td>\n",
       "      <td>NaN</td>\n",
       "      <td>NaN</td>\n",
       "      <td>2020-03-01</td>\n",
       "    </tr>\n",
       "    <tr>\n",
       "      <td>2</td>\n",
       "      <td>2020-02-24T18:00:00</td>\n",
       "      <td>ITA</td>\n",
       "      <td>13</td>\n",
       "      <td>Abruzzo</td>\n",
       "      <td>68</td>\n",
       "      <td>Pescara</td>\n",
       "      <td>PE</td>\n",
       "      <td>42.464584</td>\n",
       "      <td>14.213648</td>\n",
       "      <td>0</td>\n",
       "      <td>NaN</td>\n",
       "      <td>NaN</td>\n",
       "      <td>2020-03-01</td>\n",
       "    </tr>\n",
       "    <tr>\n",
       "      <td>3</td>\n",
       "      <td>2020-02-24T18:00:00</td>\n",
       "      <td>ITA</td>\n",
       "      <td>13</td>\n",
       "      <td>Abruzzo</td>\n",
       "      <td>67</td>\n",
       "      <td>Teramo</td>\n",
       "      <td>TE</td>\n",
       "      <td>42.658918</td>\n",
       "      <td>13.704400</td>\n",
       "      <td>0</td>\n",
       "      <td>NaN</td>\n",
       "      <td>NaN</td>\n",
       "      <td>2020-03-01</td>\n",
       "    </tr>\n",
       "    <tr>\n",
       "      <td>4</td>\n",
       "      <td>2020-02-24T18:00:00</td>\n",
       "      <td>ITA</td>\n",
       "      <td>13</td>\n",
       "      <td>Abruzzo</td>\n",
       "      <td>979</td>\n",
       "      <td>In fase di definizione/aggiornamento</td>\n",
       "      <td>NaN</td>\n",
       "      <td>0.000000</td>\n",
       "      <td>0.000000</td>\n",
       "      <td>0</td>\n",
       "      <td>NaN</td>\n",
       "      <td>NaN</td>\n",
       "      <td>2020-03-01</td>\n",
       "    </tr>\n",
       "  </tbody>\n",
       "</table>\n",
       "</div>"
      ],
      "text/plain": [
       "                  data stato  codice_regione denominazione_regione  \\\n",
       "0  2020-02-24T18:00:00   ITA              13               Abruzzo   \n",
       "1  2020-02-24T18:00:00   ITA              13               Abruzzo   \n",
       "2  2020-02-24T18:00:00   ITA              13               Abruzzo   \n",
       "3  2020-02-24T18:00:00   ITA              13               Abruzzo   \n",
       "4  2020-02-24T18:00:00   ITA              13               Abruzzo   \n",
       "\n",
       "   codice_provincia               denominazione_provincia sigla_provincia  \\\n",
       "0                69                                Chieti              CH   \n",
       "1                66                              L'Aquila              AQ   \n",
       "2                68                               Pescara              PE   \n",
       "3                67                                Teramo              TE   \n",
       "4               979  In fase di definizione/aggiornamento             NaN   \n",
       "\n",
       "         lat       long  totale_casi note_it note_en ds_week_ending  \n",
       "0  42.351032  14.167546            0     NaN     NaN     2020-03-01  \n",
       "1  42.351222  13.398438            0     NaN     NaN     2020-03-01  \n",
       "2  42.464584  14.213648            0     NaN     NaN     2020-03-01  \n",
       "3  42.658918  13.704400            0     NaN     NaN     2020-03-01  \n",
       "4   0.000000   0.000000            0     NaN     NaN     2020-03-01  "
      ]
     },
     "execution_count": 13,
     "metadata": {},
     "output_type": "execute_result"
    }
   ],
   "source": [
    "covid_province.head()"
   ]
  },
  {
   "cell_type": "code",
   "execution_count": 14,
   "metadata": {},
   "outputs": [
    {
     "data": {
      "text/plain": [
       "Timestamp('2020-03-01 00:00:00')"
      ]
     },
     "execution_count": 14,
     "metadata": {},
     "output_type": "execute_result"
    }
   ],
   "source": [
    "covid_regioni.ds_week_ending.min()"
   ]
  },
  {
   "cell_type": "code",
   "execution_count": 15,
   "metadata": {},
   "outputs": [
    {
     "data": {
      "text/plain": [
       "SETTIMANA\n",
       "2020-01-12    -330.2\n",
       "2020-01-19    -193.6\n",
       "2020-01-26    -103.8\n",
       "2020-02-03    -173.2\n",
       "2020-02-09     -67.6\n",
       "2020-02-16    -127.4\n",
       "2020-02-23     -40.6\n",
       "2020-03-01     224.2\n",
       "2020-03-08     552.2\n",
       "2020-03-15    2162.0\n",
       "2020-03-22    3580.8\n",
       "2020-03-29    3056.4\n",
       "dtype: float64"
      ]
     },
     "execution_count": 15,
     "metadata": {},
     "output_type": "execute_result"
    }
   ],
   "source": [
    "(morti_2020['TOTALE_2020'] - morti_2020['5YRS_AVG'])[\n",
    "    morti_2020.NOME_REGIONE.isin(['Lombardia'])].groupby('SETTIMANA').sum()"
   ]
  },
  {
   "cell_type": "code",
   "execution_count": 16,
   "metadata": {},
   "outputs": [
    {
     "data": {
      "text/plain": [
       "ds_week_ending\n",
       "2020-03-01        NaN\n",
       "2020-03-08      718.0\n",
       "2020-03-15     4416.0\n",
       "2020-03-22    11051.0\n",
       "Name: deceduti, dtype: float64"
      ]
     },
     "execution_count": 16,
     "metadata": {},
     "output_type": "execute_result"
    }
   ],
   "source": [
    "covid_regioni[(covid_regioni.denominazione_regione==\"Lombardia\") &\n",
    "              (covid_regioni.ds_week_ending<=pd.to_datetime(\"2020-03-28\"))\n",
    "             ].groupby('ds_week_ending').deceduti.sum().diff()"
   ]
  },
  {
   "cell_type": "code",
   "execution_count": 17,
   "metadata": {},
   "outputs": [
    {
     "data": {
      "text/html": [
       "<div>\n",
       "<style scoped>\n",
       "    .dataframe tbody tr th:only-of-type {\n",
       "        vertical-align: middle;\n",
       "    }\n",
       "\n",
       "    .dataframe tbody tr th {\n",
       "        vertical-align: top;\n",
       "    }\n",
       "\n",
       "    .dataframe thead th {\n",
       "        text-align: right;\n",
       "    }\n",
       "</style>\n",
       "<table border=\"1\" class=\"dataframe\">\n",
       "  <thead>\n",
       "    <tr style=\"text-align: right;\">\n",
       "      <th></th>\n",
       "      <th>data</th>\n",
       "      <th>stato</th>\n",
       "      <th>codice_regione</th>\n",
       "      <th>denominazione_regione</th>\n",
       "      <th>lat</th>\n",
       "      <th>long</th>\n",
       "      <th>ricoverati_con_sintomi</th>\n",
       "      <th>terapia_intensiva</th>\n",
       "      <th>totale_ospedalizzati</th>\n",
       "      <th>isolamento_domiciliare</th>\n",
       "      <th>totale_positivi</th>\n",
       "      <th>variazione_totale_positivi</th>\n",
       "      <th>nuovi_positivi</th>\n",
       "      <th>dimessi_guariti</th>\n",
       "      <th>deceduti</th>\n",
       "      <th>totale_casi</th>\n",
       "      <th>tamponi</th>\n",
       "      <th>note_it</th>\n",
       "      <th>note_en</th>\n",
       "      <th>ds_week_ending</th>\n",
       "    </tr>\n",
       "  </thead>\n",
       "  <tbody>\n",
       "    <tr>\n",
       "      <td>0</td>\n",
       "      <td>2020-02-24T18:00:00</td>\n",
       "      <td>ITA</td>\n",
       "      <td>13</td>\n",
       "      <td>Abruzzo</td>\n",
       "      <td>42.351222</td>\n",
       "      <td>13.398438</td>\n",
       "      <td>0</td>\n",
       "      <td>0</td>\n",
       "      <td>0</td>\n",
       "      <td>0</td>\n",
       "      <td>0</td>\n",
       "      <td>0</td>\n",
       "      <td>0</td>\n",
       "      <td>0</td>\n",
       "      <td>0</td>\n",
       "      <td>0</td>\n",
       "      <td>5</td>\n",
       "      <td>NaN</td>\n",
       "      <td>NaN</td>\n",
       "      <td>2020-03-01</td>\n",
       "    </tr>\n",
       "    <tr>\n",
       "      <td>1</td>\n",
       "      <td>2020-02-24T18:00:00</td>\n",
       "      <td>ITA</td>\n",
       "      <td>17</td>\n",
       "      <td>Basilicata</td>\n",
       "      <td>40.639471</td>\n",
       "      <td>15.805148</td>\n",
       "      <td>0</td>\n",
       "      <td>0</td>\n",
       "      <td>0</td>\n",
       "      <td>0</td>\n",
       "      <td>0</td>\n",
       "      <td>0</td>\n",
       "      <td>0</td>\n",
       "      <td>0</td>\n",
       "      <td>0</td>\n",
       "      <td>0</td>\n",
       "      <td>0</td>\n",
       "      <td>NaN</td>\n",
       "      <td>NaN</td>\n",
       "      <td>2020-03-01</td>\n",
       "    </tr>\n",
       "    <tr>\n",
       "      <td>2</td>\n",
       "      <td>2020-02-24T18:00:00</td>\n",
       "      <td>ITA</td>\n",
       "      <td>4</td>\n",
       "      <td>P.A. Bolzano</td>\n",
       "      <td>46.499335</td>\n",
       "      <td>11.356624</td>\n",
       "      <td>0</td>\n",
       "      <td>0</td>\n",
       "      <td>0</td>\n",
       "      <td>0</td>\n",
       "      <td>0</td>\n",
       "      <td>0</td>\n",
       "      <td>0</td>\n",
       "      <td>0</td>\n",
       "      <td>0</td>\n",
       "      <td>0</td>\n",
       "      <td>1</td>\n",
       "      <td>NaN</td>\n",
       "      <td>NaN</td>\n",
       "      <td>2020-03-01</td>\n",
       "    </tr>\n",
       "    <tr>\n",
       "      <td>3</td>\n",
       "      <td>2020-02-24T18:00:00</td>\n",
       "      <td>ITA</td>\n",
       "      <td>18</td>\n",
       "      <td>Calabria</td>\n",
       "      <td>38.905976</td>\n",
       "      <td>16.594402</td>\n",
       "      <td>0</td>\n",
       "      <td>0</td>\n",
       "      <td>0</td>\n",
       "      <td>0</td>\n",
       "      <td>0</td>\n",
       "      <td>0</td>\n",
       "      <td>0</td>\n",
       "      <td>0</td>\n",
       "      <td>0</td>\n",
       "      <td>0</td>\n",
       "      <td>1</td>\n",
       "      <td>NaN</td>\n",
       "      <td>NaN</td>\n",
       "      <td>2020-03-01</td>\n",
       "    </tr>\n",
       "    <tr>\n",
       "      <td>4</td>\n",
       "      <td>2020-02-24T18:00:00</td>\n",
       "      <td>ITA</td>\n",
       "      <td>15</td>\n",
       "      <td>Campania</td>\n",
       "      <td>40.839566</td>\n",
       "      <td>14.250850</td>\n",
       "      <td>0</td>\n",
       "      <td>0</td>\n",
       "      <td>0</td>\n",
       "      <td>0</td>\n",
       "      <td>0</td>\n",
       "      <td>0</td>\n",
       "      <td>0</td>\n",
       "      <td>0</td>\n",
       "      <td>0</td>\n",
       "      <td>0</td>\n",
       "      <td>10</td>\n",
       "      <td>NaN</td>\n",
       "      <td>NaN</td>\n",
       "      <td>2020-03-01</td>\n",
       "    </tr>\n",
       "    <tr>\n",
       "      <td>...</td>\n",
       "      <td>...</td>\n",
       "      <td>...</td>\n",
       "      <td>...</td>\n",
       "      <td>...</td>\n",
       "      <td>...</td>\n",
       "      <td>...</td>\n",
       "      <td>...</td>\n",
       "      <td>...</td>\n",
       "      <td>...</td>\n",
       "      <td>...</td>\n",
       "      <td>...</td>\n",
       "      <td>...</td>\n",
       "      <td>...</td>\n",
       "      <td>...</td>\n",
       "      <td>...</td>\n",
       "      <td>...</td>\n",
       "      <td>...</td>\n",
       "      <td>...</td>\n",
       "      <td>...</td>\n",
       "      <td>...</td>\n",
       "    </tr>\n",
       "    <tr>\n",
       "      <td>16</td>\n",
       "      <td>2020-04-16T17:00:00</td>\n",
       "      <td>ITA</td>\n",
       "      <td>9</td>\n",
       "      <td>Toscana</td>\n",
       "      <td>43.769231</td>\n",
       "      <td>11.255889</td>\n",
       "      <td>940</td>\n",
       "      <td>213</td>\n",
       "      <td>1153</td>\n",
       "      <td>5460</td>\n",
       "      <td>6613</td>\n",
       "      <td>196</td>\n",
       "      <td>277</td>\n",
       "      <td>745</td>\n",
       "      <td>585</td>\n",
       "      <td>7943</td>\n",
       "      <td>91651</td>\n",
       "      <td>NaN</td>\n",
       "      <td>NaN</td>\n",
       "      <td>2020-04-19</td>\n",
       "    </tr>\n",
       "    <tr>\n",
       "      <td>17</td>\n",
       "      <td>2020-04-16T17:00:00</td>\n",
       "      <td>ITA</td>\n",
       "      <td>4</td>\n",
       "      <td>P.A. Trento</td>\n",
       "      <td>46.068935</td>\n",
       "      <td>11.121231</td>\n",
       "      <td>296</td>\n",
       "      <td>43</td>\n",
       "      <td>339</td>\n",
       "      <td>1748</td>\n",
       "      <td>2087</td>\n",
       "      <td>-17</td>\n",
       "      <td>74</td>\n",
       "      <td>885</td>\n",
       "      <td>322</td>\n",
       "      <td>3294</td>\n",
       "      <td>20773</td>\n",
       "      <td>NaN</td>\n",
       "      <td>NaN</td>\n",
       "      <td>2020-04-19</td>\n",
       "    </tr>\n",
       "    <tr>\n",
       "      <td>18</td>\n",
       "      <td>2020-04-16T17:00:00</td>\n",
       "      <td>ITA</td>\n",
       "      <td>10</td>\n",
       "      <td>Umbria</td>\n",
       "      <td>43.106758</td>\n",
       "      <td>12.388247</td>\n",
       "      <td>116</td>\n",
       "      <td>33</td>\n",
       "      <td>149</td>\n",
       "      <td>387</td>\n",
       "      <td>536</td>\n",
       "      <td>-46</td>\n",
       "      <td>7</td>\n",
       "      <td>738</td>\n",
       "      <td>55</td>\n",
       "      <td>1329</td>\n",
       "      <td>21487</td>\n",
       "      <td>NaN</td>\n",
       "      <td>NaN</td>\n",
       "      <td>2020-04-19</td>\n",
       "    </tr>\n",
       "    <tr>\n",
       "      <td>19</td>\n",
       "      <td>2020-04-16T17:00:00</td>\n",
       "      <td>ITA</td>\n",
       "      <td>2</td>\n",
       "      <td>Valle d'Aosta</td>\n",
       "      <td>45.737503</td>\n",
       "      <td>7.320149</td>\n",
       "      <td>105</td>\n",
       "      <td>12</td>\n",
       "      <td>117</td>\n",
       "      <td>401</td>\n",
       "      <td>518</td>\n",
       "      <td>-30</td>\n",
       "      <td>13</td>\n",
       "      <td>331</td>\n",
       "      <td>122</td>\n",
       "      <td>971</td>\n",
       "      <td>4159</td>\n",
       "      <td>NaN</td>\n",
       "      <td>NaN</td>\n",
       "      <td>2020-04-19</td>\n",
       "    </tr>\n",
       "    <tr>\n",
       "      <td>20</td>\n",
       "      <td>2020-04-16T17:00:00</td>\n",
       "      <td>ITA</td>\n",
       "      <td>5</td>\n",
       "      <td>Veneto</td>\n",
       "      <td>45.434905</td>\n",
       "      <td>12.338452</td>\n",
       "      <td>1388</td>\n",
       "      <td>209</td>\n",
       "      <td>1597</td>\n",
       "      <td>9203</td>\n",
       "      <td>10800</td>\n",
       "      <td>11</td>\n",
       "      <td>366</td>\n",
       "      <td>3209</td>\n",
       "      <td>981</td>\n",
       "      <td>14990</td>\n",
       "      <td>224549</td>\n",
       "      <td>NaN</td>\n",
       "      <td>NaN</td>\n",
       "      <td>2020-04-19</td>\n",
       "    </tr>\n",
       "  </tbody>\n",
       "</table>\n",
       "<p>1113 rows × 20 columns</p>\n",
       "</div>"
      ],
      "text/plain": [
       "                   data stato  codice_regione denominazione_regione  \\\n",
       "0   2020-02-24T18:00:00   ITA              13               Abruzzo   \n",
       "1   2020-02-24T18:00:00   ITA              17            Basilicata   \n",
       "2   2020-02-24T18:00:00   ITA               4          P.A. Bolzano   \n",
       "3   2020-02-24T18:00:00   ITA              18              Calabria   \n",
       "4   2020-02-24T18:00:00   ITA              15              Campania   \n",
       "..                  ...   ...             ...                   ...   \n",
       "16  2020-04-16T17:00:00   ITA               9               Toscana   \n",
       "17  2020-04-16T17:00:00   ITA               4           P.A. Trento   \n",
       "18  2020-04-16T17:00:00   ITA              10                Umbria   \n",
       "19  2020-04-16T17:00:00   ITA               2         Valle d'Aosta   \n",
       "20  2020-04-16T17:00:00   ITA               5                Veneto   \n",
       "\n",
       "          lat       long  ricoverati_con_sintomi  terapia_intensiva  \\\n",
       "0   42.351222  13.398438                       0                  0   \n",
       "1   40.639471  15.805148                       0                  0   \n",
       "2   46.499335  11.356624                       0                  0   \n",
       "3   38.905976  16.594402                       0                  0   \n",
       "4   40.839566  14.250850                       0                  0   \n",
       "..        ...        ...                     ...                ...   \n",
       "16  43.769231  11.255889                     940                213   \n",
       "17  46.068935  11.121231                     296                 43   \n",
       "18  43.106758  12.388247                     116                 33   \n",
       "19  45.737503   7.320149                     105                 12   \n",
       "20  45.434905  12.338452                    1388                209   \n",
       "\n",
       "    totale_ospedalizzati  isolamento_domiciliare  totale_positivi  \\\n",
       "0                      0                       0                0   \n",
       "1                      0                       0                0   \n",
       "2                      0                       0                0   \n",
       "3                      0                       0                0   \n",
       "4                      0                       0                0   \n",
       "..                   ...                     ...              ...   \n",
       "16                  1153                    5460             6613   \n",
       "17                   339                    1748             2087   \n",
       "18                   149                     387              536   \n",
       "19                   117                     401              518   \n",
       "20                  1597                    9203            10800   \n",
       "\n",
       "    variazione_totale_positivi  nuovi_positivi  dimessi_guariti  deceduti  \\\n",
       "0                            0               0                0         0   \n",
       "1                            0               0                0         0   \n",
       "2                            0               0                0         0   \n",
       "3                            0               0                0         0   \n",
       "4                            0               0                0         0   \n",
       "..                         ...             ...              ...       ...   \n",
       "16                         196             277              745       585   \n",
       "17                         -17              74              885       322   \n",
       "18                         -46               7              738        55   \n",
       "19                         -30              13              331       122   \n",
       "20                          11             366             3209       981   \n",
       "\n",
       "    totale_casi  tamponi note_it note_en ds_week_ending  \n",
       "0             0        5     NaN     NaN     2020-03-01  \n",
       "1             0        0     NaN     NaN     2020-03-01  \n",
       "2             0        1     NaN     NaN     2020-03-01  \n",
       "3             0        1     NaN     NaN     2020-03-01  \n",
       "4             0       10     NaN     NaN     2020-03-01  \n",
       "..          ...      ...     ...     ...            ...  \n",
       "16         7943    91651     NaN     NaN     2020-04-19  \n",
       "17         3294    20773     NaN     NaN     2020-04-19  \n",
       "18         1329    21487     NaN     NaN     2020-04-19  \n",
       "19          971     4159     NaN     NaN     2020-04-19  \n",
       "20        14990   224549     NaN     NaN     2020-04-19  \n",
       "\n",
       "[1113 rows x 20 columns]"
      ]
     },
     "execution_count": 17,
     "metadata": {},
     "output_type": "execute_result"
    }
   ],
   "source": [
    "covid_regioni"
   ]
  },
  {
   "cell_type": "code",
   "execution_count": 59,
   "metadata": {},
   "outputs": [
    {
     "data": {
      "text/plain": [
       "<matplotlib.axes._subplots.AxesSubplot at 0x7fcaf32c8c50>"
      ]
     },
     "execution_count": 59,
     "metadata": {},
     "output_type": "execute_result"
    },
    {
     "data": {
      "image/png": "[encoded data removed]",
      "text/plain": [
       "<Figure size 720x720 with 1 Axes>"
      ]
     },
     "metadata": {
      "needs_background": "light"
     },
     "output_type": "display_data"
    }
   ],
   "source": [
    "morti_2020[morti_2020.NOME_REGIONE==\"Lombardia\"].groupby(\"ds_week_ending\")[\n",
    "    ['TOTALE_2015', 'TOTALE_2016', 'TOTALE_2017', 'TOTALE_2018', 'TOTALE_2019', 'TOTALE_2020']].sum().sort_index().plot(kind='bar', figsize=(10,10))"
   ]
  },
  {
   "cell_type": "code",
   "execution_count": 58,
   "metadata": {},
   "outputs": [
    {
     "data": {
      "text/plain": [
       "<matplotlib.axes._subplots.AxesSubplot at 0x7fcae0697b90>"
      ]
     },
     "execution_count": 58,
     "metadata": {},
     "output_type": "execute_result"
    },
    {
     "data": {
      "image/png": "[encoded data removed]",
      "text/plain": [
       "<Figure size 720x720 with 1 Axes>"
      ]
     },
     "metadata": {
      "needs_background": "light"
     },
     "output_type": "display_data"
    }
   ],
   "source": [
    "morti_2020[morti_2020.NOME_REGIONE==\"Piemonte\"].groupby(\"ds_week_ending\")[\n",
    "    ['TOTALE_2015', 'TOTALE_2016', 'TOTALE_2017', 'TOTALE_2018', 'TOTALE_2019', 'TOTALE_2020']].sum().sort_index().plot(kind='bar', figsize=(10,10))"
   ]
  },
  {
   "cell_type": "markdown",
   "metadata": {},
   "source": [
    "### Small Comuni"
   ]
  },
  {
   "cell_type": "code",
   "execution_count": null,
   "metadata": {},
   "outputs": [],
   "source": []
  },
  {
   "cell_type": "code",
   "execution_count": 25,
   "metadata": {},
   "outputs": [
    {
     "data": {
      "text/plain": [
       "<matplotlib.axes._subplots.AxesSubplot at 0x7fcaf92d0d90>"
      ]
     },
     "execution_count": 25,
     "metadata": {},
     "output_type": "execute_result"
    },
    {
     "data": {
      "image/png": "[encoded data removed]",
      "text/plain": [
       "<Figure size 720x720 with 1 Axes>"
      ]
     },
     "metadata": {
      "needs_background": "light"
     },
     "output_type": "display_data"
    }
   ],
   "source": [
    "(morti_2020['TOTALE_2020'] - morti_2020['5YRS_AVG'])[morti_2020.NOME_COMUNE=='Grugliasco'].groupby('SETTIMANA').sum().plot(kind='bar', figsize=(10,10))\n"
   ]
  },
  {
   "cell_type": "code",
   "execution_count": 23,
   "metadata": {},
   "outputs": [
    {
     "data": {
      "text/plain": [
       "<matplotlib.axes._subplots.AxesSubplot at 0x7fcaf40c6510>"
      ]
     },
     "execution_count": 23,
     "metadata": {},
     "output_type": "execute_result"
    },
    {
     "data": {
      "image/png": "[encoded data removed]",
      "text/plain": [
       "<Figure size 720x720 with 1 Axes>"
      ]
     },
     "metadata": {
      "needs_background": "light"
     },
     "output_type": "display_data"
    }
   ],
   "source": [
    "(morti_2020['TOTALE_2020'] - morti_2020['5YRS_AVG'])[morti_2020.NOME_PROVINCIA=='Torino'].groupby('SETTIMANA').sum().plot(kind='bar', figsize=(10,10))\n"
   ]
  },
  {
   "cell_type": "code",
   "execution_count": 24,
   "metadata": {},
   "outputs": [
    {
     "data": {
      "text/plain": [
       "<matplotlib.axes._subplots.AxesSubplot at 0x7fcb0106e2d0>"
      ]
     },
     "execution_count": 24,
     "metadata": {},
     "output_type": "execute_result"
    },
    {
     "data": {
      "image/png": "[encoded data removed]",
      "text/plain": [
       "<Figure size 720x720 with 1 Axes>"
      ]
     },
     "metadata": {
      "needs_background": "light"
     },
     "output_type": "display_data"
    }
   ],
   "source": [
    "(morti_2020['TOTALE_2020'])[morti_2020.NOME_COMUNE=='Grugliasco'].groupby('SETTIMANA').sum().plot(kind='bar', figsize=(10,10))\n"
   ]
  },
  {
   "cell_type": "markdown",
   "metadata": {},
   "source": [
    "## Analysis"
   ]
  },
  {
   "cell_type": "markdown",
   "metadata": {},
   "source": []
  },
  {
   "cell_type": "code",
   "execution_count": 19,
   "metadata": {},
   "outputs": [],
   "source": [
    "\n",
    "def compare_deaths(regione):\n",
    "    \n",
    "    ax = (morti_2020['TOTALE_2020'] - morti_2020['5YRS_AVG'])[\n",
    "        morti_2020.NOME_REGIONE.isin([regione]) &\n",
    "        (morti_2020.index >= pd.to_datetime(\"2020-02-29\"))\n",
    "    ].groupby('SETTIMANA').sum().plot(kind='bar', alpha=0.5, figsize=(10,10), label=\"Morti Totali\")\n",
    "    \n",
    "    morti_regione = covid_regioni[(covid_regioni.denominazione_regione==regione) &\n",
    "              (covid_regioni.ds_week_ending<=pd.to_datetime(\"2020-03-28\"))]\n",
    "    morti_regione['morti_giorno'] = morti_regione.deceduti.diff()\n",
    "    \n",
    "    morti_regione.groupby('ds_week_ending').morti_giorno.sum().plot(kind='bar', alpha=0.5, color='red', ax=ax, label=\"Morti COVID-19\")\n",
    "    \n",
    "    title = \"Morti in {0} per COVID-19 vs. Morti in Eccesso rispetto alla media stagionale\".format(regione)\n",
    "    \n",
    "    ax.set_title(title)\n",
    "    ax.legend()\n",
    "    ax.axvline(x=1, color=\"red\", label=\"KS\")\n",
    "\n",
    "\n",
    "\n"
   ]
  },
  {
   "cell_type": "code",
   "execution_count": 33,
   "metadata": {},
   "outputs": [
    {
     "data": {
      "text/plain": [
       "array(['Abruzzo', 'Basilicata', 'P.A. Bolzano', 'Calabria', 'Campania',\n",
       "       'Emilia-Romagna', 'Friuli Venezia Giulia', 'Lazio', 'Liguria',\n",
       "       'Lombardia', 'Marche', 'Molise', 'Piemonte', 'Puglia', 'Sardegna',\n",
       "       'Sicilia', 'Toscana', 'P.A. Trento', 'Umbria', \"Valle d'Aosta\",\n",
       "       'Veneto'], dtype=object)"
      ]
     },
     "execution_count": 33,
     "metadata": {},
     "output_type": "execute_result"
    }
   ],
   "source": [
    "covid_regioni.denominazione_regione.unique()"
   ]
  },
  {
   "cell_type": "code",
   "execution_count": 35,
   "metadata": {},
   "outputs": [
    {
     "data": {
      "text/plain": [
       "array(['Piemonte', \"Valle d'Aosta/Vallée d'Aoste\", 'Liguria', 'Lombardia',\n",
       "       'Trentino-Alto Adige/Südtirol', 'Veneto', 'Friuli-Venezia Giulia',\n",
       "       'Emilia-Romagna', 'Marche', 'Toscana', 'Umbria', 'Lazio',\n",
       "       'Campania', 'Abruzzo', 'Molise', 'Puglia', 'Basilicata',\n",
       "       'Calabria', 'Sicilia', 'Sardegna'], dtype=object)"
      ]
     },
     "execution_count": 35,
     "metadata": {},
     "output_type": "execute_result"
    }
   ],
   "source": [
    "morti_2020.NOME_REGIONE.unique()"
   ]
  },
  {
   "cell_type": "code",
   "execution_count": 21,
   "metadata": {},
   "outputs": [
    {
     "name": "stderr",
     "output_type": "stream",
     "text": [
      "/opt/anaconda3/lib/python3.7/site-packages/ipykernel_launcher.py:10: SettingWithCopyWarning: \n",
      "A value is trying to be set on a copy of a slice from a DataFrame.\n",
      "Try using .loc[row_indexer,col_indexer] = value instead\n",
      "\n",
      "See the caveats in the documentation: http://pandas.pydata.org/pandas-docs/stable/user_guide/indexing.html#returning-a-view-versus-a-copy\n",
      "  # Remove the CWD from sys.path while we load stuff.\n"
     ]
    },
    {
     "data": {
      "image/png": "[encoded data removed]",
      "text/plain": [
       "<Figure size 720x720 with 1 Axes>"
      ]
     },
     "metadata": {
      "needs_background": "light"
     },
     "output_type": "display_data"
    }
   ],
   "source": [
    "compare_deaths('Piemonte')"
   ]
  },
  {
   "cell_type": "code",
   "execution_count": 22,
   "metadata": {},
   "outputs": [
    {
     "name": "stderr",
     "output_type": "stream",
     "text": [
      "/opt/anaconda3/lib/python3.7/site-packages/ipykernel_launcher.py:10: SettingWithCopyWarning: \n",
      "A value is trying to be set on a copy of a slice from a DataFrame.\n",
      "Try using .loc[row_indexer,col_indexer] = value instead\n",
      "\n",
      "See the caveats in the documentation: http://pandas.pydata.org/pandas-docs/stable/user_guide/indexing.html#returning-a-view-versus-a-copy\n",
      "  # Remove the CWD from sys.path while we load stuff.\n"
     ]
    },
    {
     "data": {
      "image/png": "[encoded data removed]",
      "text/plain": [
       "<Figure size 720x720 with 1 Axes>"
      ]
     },
     "metadata": {
      "needs_background": "light"
     },
     "output_type": "display_data"
    }
   ],
   "source": [
    "compare_deaths('Lombardia')"
   ]
  },
  {
   "cell_type": "code",
   "execution_count": null,
   "metadata": {},
   "outputs": [],
   "source": []
  },
  {
   "cell_type": "code",
   "execution_count": null,
   "metadata": {},
   "outputs": [],
   "source": [
    "# plot 5 year average with confidence bars"
   ]
  },
  {
   "cell_type": "code",
   "execution_count": 64,
   "metadata": {},
   "outputs": [
    {
     "data": {
      "text/plain": [
       "41"
      ]
     },
     "execution_count": 64,
     "metadata": {},
     "output_type": "execute_result"
    }
   ],
   "source": [
    "len(morti_2020[morti_2020.NOME_PROVINCIA=='Torino'].NOME_COMUNE.unique())"
   ]
  },
  {
   "cell_type": "code",
   "execution_count": 62,
   "metadata": {},
   "outputs": [
    {
     "data": {
      "text/plain": [
       "NOME_COMUNE\n",
       "Agliè                      48\n",
       "Almese                     48\n",
       "Avigliana                  48\n",
       "Banchette                  48\n",
       "Beinasco                   48\n",
       "Bosconero                  48\n",
       "Bruino                     48\n",
       "Buttigliera Alta           48\n",
       "Carmagnola                 48\n",
       "Castellamonte              48\n",
       "Condove                    48\n",
       "Frossasco                  48\n",
       "Gassino Torinese           48\n",
       "Grugliasco                 48\n",
       "Ivrea                      48\n",
       "Lanzo Torinese             48\n",
       "Luserna San Giovanni       48\n",
       "Mathi                      48\n",
       "None                       48\n",
       "Orbassano                  48\n",
       "Pancalieri                 48\n",
       "Piossasco                  48\n",
       "Piscina                    48\n",
       "Poirino                    48\n",
       "Riva presso Chieri         48\n",
       "Rivara                     48\n",
       "Rivarolo Canavese          48\n",
       "San Giorgio Canavese       48\n",
       "San Giusto Canavese        48\n",
       "San Mauro Torinese         48\n",
       "San Raffaele Cimena        48\n",
       "San Secondo di Pinerolo    48\n",
       "Sangano                    48\n",
       "Strambino                  48\n",
       "Susa                       48\n",
       "Trofarello                 48\n",
       "Valperga                   48\n",
       "Verolengo                  48\n",
       "Villar Perosa              48\n",
       "Villastellone              48\n",
       "Volpiano                   48\n",
       "Name: SETTIMANA, dtype: int64"
      ]
     },
     "execution_count": 62,
     "metadata": {},
     "output_type": "execute_result"
    }
   ],
   "source": [
    "morti_2020[morti_2020.NOME_PROVINCIA=='Torino'].groupby('NOME_COMUNE').SETTIMANA.count()"
   ]
  },
  {
   "cell_type": "code",
   "execution_count": 63,
   "metadata": {},
   "outputs": [
    {
     "data": {
      "text/plain": [
       "(1968, 30)"
      ]
     },
     "execution_count": 63,
     "metadata": {},
     "output_type": "execute_result"
    }
   ],
   "source": [
    "morti_2020[morti_2020.NOME_PROVINCIA=='Torino'].shape"
   ]
  },
  {
   "cell_type": "code",
   "execution_count": 28,
   "metadata": {},
   "outputs": [
    {
     "data": {
      "text/plain": [
       "array(['Torino', 'Vercelli', 'Novara', 'Cuneo', 'Asti', 'Alessandria',\n",
       "       'Biella', 'Verbano-Cusio-Ossola'], dtype=object)"
      ]
     },
     "execution_count": 28,
     "metadata": {},
     "output_type": "execute_result"
    }
   ],
   "source": [
    "morti_2020[morti_2020.NOME_REGIONE=='Piemonte'].NOME_PROVINCIA.unique()"
   ]
  },
  {
   "cell_type": "code",
   "execution_count": 29,
   "metadata": {},
   "outputs": [
    {
     "data": {
      "text/plain": [
       "array(['Agliè', 'Almese', 'Avigliana', 'Banchette', 'Beinasco',\n",
       "       'Bosconero', 'Bruino', 'Buttigliera Alta', 'Carmagnola',\n",
       "       'Castellamonte', 'Condove', 'Frossasco', 'Gassino Torinese',\n",
       "       'Grugliasco', 'Ivrea', 'Lanzo Torinese', 'Luserna San Giovanni',\n",
       "       'Mathi', 'None', 'Orbassano', 'Pancalieri', 'Piossasco', 'Piscina',\n",
       "       'Poirino', 'Riva presso Chieri', 'Rivara', 'Rivarolo Canavese',\n",
       "       'Sangano', 'San Giorgio Canavese', 'San Giusto Canavese',\n",
       "       'San Mauro Torinese', 'San Raffaele Cimena',\n",
       "       'San Secondo di Pinerolo', 'Strambino', 'Susa', 'Trofarello',\n",
       "       'Valperga', 'Verolengo', 'Villar Perosa', 'Villastellone',\n",
       "       'Volpiano', 'Borgosesia', 'Buronzo', 'Caresanablot', 'Gattinara',\n",
       "       'Roasio', 'Saluggia', 'Santhià', 'Trino', 'Varallo',\n",
       "       'Bellinzago Novarese', 'Borgo Ticino', 'Cameri', 'Cerano',\n",
       "       'Cressa', 'Fara Novarese', \"Fontaneto d'Agogna\", 'Ghemme',\n",
       "       'Gozzano', 'Grignasco', 'Maggiora', 'Novara', 'Oleggio', 'Pogno',\n",
       "       'Prato Sesia', 'Romentino', 'San Pietro Mosezzo', 'Trecate',\n",
       "       'Varallo Pombia', 'Bagnolo Piemonte', 'Barge',\n",
       "       'Borgo San Dalmazzo', 'Caraglio', 'Cervasca', 'Ceva', 'Cherasco',\n",
       "       'Cortemilia', 'Cuneo', 'Garessio', 'Marene', 'Mondovì', 'Neive',\n",
       "       'Peveragno', 'Pianfei', 'Pocapaglia', 'Revello',\n",
       "       'Roccaforte Mondovì', 'Roccavione', 'Sanfrè',\n",
       "       'Santo Stefano Belbo', 'Verzuolo', \"Vezza d'Alba\", 'Vicoforte',\n",
       "       'Villanova Mondovì', 'Asti', 'Castelnuovo Don Bosco',\n",
       "       'Incisa Scapaccino', 'Moncalvo', 'Nizza Monferrato', 'Portacomaro',\n",
       "       \"Villanova d'Asti\", 'Acqui Terme', 'Alessandria',\n",
       "       'Arquata Scrivia', 'Basaluzzo', 'Borghetto di Borbera',\n",
       "       'Bosco Marengo', \"Capriata d'Orba\", 'Casale Monferrato',\n",
       "       'Casalnoceto', 'Cassine', 'Castellazzo Bormida',\n",
       "       'Castelnuovo Scrivia', 'Frugarolo', 'Fubine Monferrato', 'Gavi',\n",
       "       'Murisengo', 'Novi Ligure', 'Ovada', 'Pontecurone', 'Ponzone',\n",
       "       'Predosa', 'Sale', 'San Salvatore Monferrato',\n",
       "       'Serravalle Scrivia', 'Sezzadio', \"Silvano d'Orba\", 'Strevi',\n",
       "       'Tagliolo Monferrato', 'Tortona', 'Valenza', 'Vignole Borbera',\n",
       "       'Lu e Cuccaro Monferrato', 'Andorno Micca', 'Biella', 'Brusnengo',\n",
       "       'Candelo', 'Cerrione', 'Coggiola', 'Cossato', 'Gaglianico',\n",
       "       'Masserano', 'Mongrando', 'Occhieppo Inferiore', 'Pollone',\n",
       "       'Ponderano', 'Pray', 'Sandigliano', 'Vigliano Biellese', 'Lessona',\n",
       "       'Baveno', 'Crevoladossola', 'Domodossola', 'Gravellona Toce',\n",
       "       'Mergozzo', 'Omegna', 'Verbania'], dtype=object)"
      ]
     },
     "execution_count": 29,
     "metadata": {},
     "output_type": "execute_result"
    }
   ],
   "source": [
    "morti_2020[morti_2020.NOME_REGIONE=='Piemonte'].NOME_COMUNE.unique()"
   ]
  },
  {
   "cell_type": "code",
   "execution_count": null,
   "metadata": {},
   "outputs": [],
   "source": []
  },
  {
   "cell_type": "code",
   "execution_count": null,
   "metadata": {},
   "outputs": [],
   "source": []
  },
  {
   "cell_type": "code",
   "execution_count": null,
   "metadata": {},
   "outputs": [],
   "source": []
  },
  {
   "cell_type": "code",
   "execution_count": null,
   "metadata": {},
   "outputs": [],
   "source": []
  },
  {
   "cell_type": "code",
   "execution_count": null,
   "metadata": {},
   "outputs": [],
   "source": []
  },
  {
   "cell_type": "code",
   "execution_count": 37,
   "metadata": {},
   "outputs": [
    {
     "name": "stderr",
     "output_type": "stream",
     "text": [
      "/opt/anaconda3/lib/python3.7/site-packages/ipykernel_launcher.py:10: SettingWithCopyWarning: \n",
      "A value is trying to be set on a copy of a slice from a DataFrame.\n",
      "Try using .loc[row_indexer,col_indexer] = value instead\n",
      "\n",
      "See the caveats in the documentation: http://pandas.pydata.org/pandas-docs/stable/user_guide/indexing.html#returning-a-view-versus-a-copy\n",
      "  # Remove the CWD from sys.path while we load stuff.\n"
     ]
    },
    {
     "data": {
      "image/png": "[encoded data removed]",
      "text/plain": [
       "<Figure size 720x720 with 1 Axes>"
      ]
     },
     "metadata": {
      "needs_background": "light"
     },
     "output_type": "display_data"
    }
   ],
   "source": [
    "compare_deaths('Veneto')"
   ]
  },
  {
   "cell_type": "code",
   "execution_count": 31,
   "metadata": {},
   "outputs": [
    {
     "name": "stderr",
     "output_type": "stream",
     "text": [
      "/opt/anaconda3/lib/python3.7/site-packages/ipykernel_launcher.py:10: SettingWithCopyWarning: \n",
      "A value is trying to be set on a copy of a slice from a DataFrame.\n",
      "Try using .loc[row_indexer,col_indexer] = value instead\n",
      "\n",
      "See the caveats in the documentation: http://pandas.pydata.org/pandas-docs/stable/user_guide/indexing.html#returning-a-view-versus-a-copy\n",
      "  # Remove the CWD from sys.path while we load stuff.\n"
     ]
    },
    {
     "data": {
      "image/png": "[encoded data removed]",
      "text/plain": [
       "<Figure size 720x720 with 1 Axes>"
      ]
     },
     "metadata": {
      "needs_background": "light"
     },
     "output_type": "display_data"
    }
   ],
   "source": [
    "compare_deaths('Toscana')"
   ]
  },
  {
   "cell_type": "code",
   "execution_count": 36,
   "metadata": {},
   "outputs": [
    {
     "name": "stderr",
     "output_type": "stream",
     "text": [
      "/opt/anaconda3/lib/python3.7/site-packages/ipykernel_launcher.py:10: SettingWithCopyWarning: \n",
      "A value is trying to be set on a copy of a slice from a DataFrame.\n",
      "Try using .loc[row_indexer,col_indexer] = value instead\n",
      "\n",
      "See the caveats in the documentation: http://pandas.pydata.org/pandas-docs/stable/user_guide/indexing.html#returning-a-view-versus-a-copy\n",
      "  # Remove the CWD from sys.path while we load stuff.\n"
     ]
    },
    {
     "data": {
      "image/png": "[encoded data removed]",
      "text/plain": [
       "<Figure size 720x720 with 1 Axes>"
      ]
     },
     "metadata": {
      "needs_background": "light"
     },
     "output_type": "display_data"
    }
   ],
   "source": [
    "compare_deaths('Emilia-Romagna')"
   ]
  },
  {
   "cell_type": "code",
   "execution_count": 20,
   "metadata": {},
   "outputs": [
    {
     "name": "stderr",
     "output_type": "stream",
     "text": [
      "/opt/anaconda3/lib/python3.7/site-packages/ipykernel_launcher.py:10: SettingWithCopyWarning: \n",
      "A value is trying to be set on a copy of a slice from a DataFrame.\n",
      "Try using .loc[row_indexer,col_indexer] = value instead\n",
      "\n",
      "See the caveats in the documentation: http://pandas.pydata.org/pandas-docs/stable/user_guide/indexing.html#returning-a-view-versus-a-copy\n",
      "  # Remove the CWD from sys.path while we load stuff.\n"
     ]
    },
    {
     "data": {
      "image/png": "[encoded data removed]",
      "text/plain": [
       "<Figure size 720x720 with 1 Axes>"
      ]
     },
     "metadata": {
      "needs_background": "light"
     },
     "output_type": "display_data"
    }
   ],
   "source": [
    "compare_deaths('Campania')"
   ]
  },
  {
   "cell_type": "code",
   "execution_count": null,
   "metadata": {},
   "outputs": [],
   "source": []
  },
  {
   "cell_type": "code",
   "execution_count": 30,
   "metadata": {},
   "outputs": [
    {
     "data": {
      "text/plain": [
       "array(['Albizzate', 'Barasso', 'Besano', 'Cairate', 'Carnago',\n",
       "       'Caronno Pertusella', 'Caronno Varesino', 'Casciago',\n",
       "       'Casorate Sempione', 'Cassano Magnago', 'Cocquio-Trevisago',\n",
       "       'Germignaga', 'Gorla Maggiore', 'Gorla Minore', 'Ispra',\n",
       "       'Lonate Ceppino', 'Lonate Pozzolo', 'Morazzone', 'Olgiate Olona',\n",
       "       'Porto Ceresio', 'Saltrio', 'Taino', 'Varese',\n",
       "       'Venegono Superiore', 'Maccagno con Pino e Veddasca',\n",
       "       'Appiano Gentile', 'Arosio', 'Asso', 'Beregazzo con Figliaro',\n",
       "       'Binago', 'Bulgarograsso', 'Cabiate', 'Cantù', 'Cermenate', 'Como',\n",
       "       'Dongo', 'Erba', 'Figino Serenza', 'Grandate', 'Inverigo',\n",
       "       'Lipomo', 'Lomazzo', 'Luisago', \"Lurago d'Erba\", 'Lurate Caccivio',\n",
       "       'Mariano Comense', 'Maslianico', 'Menaggio', 'Olgiate Comasco',\n",
       "       'Ponte Lambro', 'Porlezza', 'Sala Comacina',\n",
       "       'Vertemate con Minoprio', 'Bellagio', 'Colverde',\n",
       "       'Centro Valle Intelvi', 'Aprica', 'Ardenno', 'Bormio', 'Chiuro',\n",
       "       'Cosio Valtellino', 'Grosio', 'Montagna in Valtellina', 'Morbegno',\n",
       "       'Ponte in Valtellina', 'Sondalo', 'Sondrio', 'Talamona', 'Tirano',\n",
       "       'Valdidentro', 'Villa di Tirano', 'Arconate', 'Arese', 'Basiano',\n",
       "       'Basiglio', 'Binasco', 'Bollate', 'Bresso', 'Buccinasco',\n",
       "       'Buscate', 'Bussero', 'Cambiago', 'Canegrate', 'Carugate',\n",
       "       \"Cassano d'Adda\", 'Castano Primo', 'Cernusco sul Naviglio',\n",
       "       'Cerro Maggiore', 'Cesano Boscone', 'Cesate', 'Cinisello Balsamo',\n",
       "       'Cologno Monzese', 'Corbetta', 'Cormano', 'Corsico', 'Cuggiono',\n",
       "       'Cusano Milanino', 'Dairago', 'Dresano', 'Gaggiano',\n",
       "       'Garbagnate Milanese', 'Gessate', 'Gorgonzola', 'Inveruno',\n",
       "       'Inzago', 'Lainate', 'Legnano', 'Locate di Triulzi', 'Magenta',\n",
       "       'Magnago', 'Masate', 'Mediglia', 'Melegnano', 'Melzo', 'Mesero',\n",
       "       'Milano', 'Novate Milanese', 'Noviglio', 'Parabiago', 'Paullo',\n",
       "       'Peschiera Borromeo', 'Pessano con Bornago', 'Pioltello',\n",
       "       'Pogliano Milanese', 'Rho', 'Robecco sul Naviglio', 'Rodano',\n",
       "       'Rosate', 'Rozzano', 'San Colombano al Lambro',\n",
       "       'San Donato Milanese', 'San Giorgio su Legnano',\n",
       "       'San Giuliano Milanese', 'San Vittore Olona',\n",
       "       'San Zenone al Lambro', 'Sedriano', 'Segrate',\n",
       "       'Sesto San Giovanni', 'Settala', 'Solaro', 'Trezzano Rosa',\n",
       "       \"Trezzo sull'Adda\", 'Tribiano', \"Vaprio d'Adda\",\n",
       "       'Vizzolo Predabissi', 'Villa Cortese', 'Adrara San Martino',\n",
       "       \"Albano Sant'Alessandro\", 'Albino', 'Almè',\n",
       "       'Almenno San Bartolomeo', 'Almenno San Salvatore',\n",
       "       'Alzano Lombardo', 'Antegnate', 'Arcene', 'Ardesio', 'Bagnatica',\n",
       "       'Bariano', 'Bergamo', 'Berzo San Fermo', 'Bolgare', 'Bonate Sopra',\n",
       "       'Bottanuco', 'Brembate', 'Brembate di Sopra', 'Brusaporto',\n",
       "       'Calcinate', 'Calcio', \"Calusco d'Adda\", 'Calvenzano',\n",
       "       \"Canonica d'Adda\", 'Caravaggio', 'Carobbio degli Angeli',\n",
       "       'Carvico', 'Casazza', \"Casirate d'Adda\", 'Casnigo',\n",
       "       'Castelli Calepio', 'Castel Rozzone', 'Castro', 'Cenate Sopra',\n",
       "       'Cene', \"Chignolo d'Isola\", 'Chiuduno', 'Cisano Bergamasco',\n",
       "       'Ciserano', 'Cividate al Piano', 'Clusone', 'Comun Nuovo',\n",
       "       'Cortenuova', 'Costa Volpino', 'Credaro', 'Curno', 'Dalmine',\n",
       "       \"Fara Gera d'Adda\", 'Fiorano al Serio', 'Fonteno',\n",
       "       'Foresto Sparso', 'Gandino', 'Gazzaniga', 'Ghisalba', 'Gorle',\n",
       "       'Gorno', 'Gromo', 'Leffe', 'Lenna', 'Levate', 'Lovere', 'Madone',\n",
       "       'Mapello', \"Misano di Gera d'Adda\", 'Montello', 'Mozzanica',\n",
       "       'Nembro', 'Osio Sopra', 'Osio Sotto', 'Pagazzano', 'Paladina',\n",
       "       'Palazzago', 'Palosco', 'Pedrengo', 'Peia', 'Ponteranica',\n",
       "       'Ponte San Pietro', 'Pontida', 'Pradalunga', 'Predore', 'Presezzo',\n",
       "       'Ranica', 'Romano di Lombardia', 'San Giovanni Bianco',\n",
       "       'San Pellegrino Terme', 'Sarnico', 'Scanzorosciate', 'Schilpario',\n",
       "       'Selvino', 'Seriate', 'Serina', 'Sorisole',\n",
       "       'Sotto il Monte Giovanni XXIII', 'Sovere', 'Stezzano', 'Suisio',\n",
       "       'Tavernola Bergamasca', \"Terno d'Isola\", \"Torre de' Roveri\",\n",
       "       'Trescore Balneario', 'Treviglio', 'Valbondione', 'Valbrembo',\n",
       "       'Verdellino', 'Verdello', \"Villa d'Adda\", 'Villa di Serio',\n",
       "       \"Villa d'Ogna\", 'Villongo', 'Vilminore di Scalve', 'Zanica',\n",
       "       'Val Brembilla', 'Acquafredda', 'Bagolino', 'Bedizzole',\n",
       "       'Berlingo', 'Berzo Demo', 'Borgo San Giacomo', 'Borgosatollo',\n",
       "       'Borno', 'Botticino', 'Bovezzo', 'Breno', 'Brescia', 'Calcinato',\n",
       "       'Capo di Ponte', 'Capriano del Colle', 'Castegnato',\n",
       "       'Castelcovati', 'Castel Mella', 'Castenedolo', 'Castrezzato',\n",
       "       'Cazzago San Martino', 'Coccaglio', 'Collebeato', 'Cologne',\n",
       "       'Concesio', 'Corte Franca', 'Corteno Golgi', 'Darfo Boario Terme',\n",
       "       'Dello', 'Desenzano del Garda', 'Flero', 'Gambara',\n",
       "       'Gardone Val Trompia', 'Gargnano', 'Gavardo', 'Gianico',\n",
       "       'Gottolengo', 'Gussago', 'Isorella', 'Lodrino', 'Lograto',\n",
       "       'Lonato del Garda', 'Lumezzane', 'Mairano', 'Malegno', 'Malonno',\n",
       "       'Manerba del Garda', 'Manerbio', 'Marcheno', 'Marone',\n",
       "       'Moniga del Garda', 'Montirone', 'Nave', 'Ome', 'Orzinuovi',\n",
       "       'Orzivecchi', 'Ospitaletto', 'Padenghe sul Garda',\n",
       "       'Paderno Franciacorta', \"Palazzolo sull'Oglio\", 'Passirano',\n",
       "       'San Paolo', 'Pian Camuno', 'Pisogne', 'Pompiano', 'Poncarale',\n",
       "       'Ponte di Legno', 'Pontoglio', 'Pozzolengo', 'Prevalle',\n",
       "       \"Quinzano d'Oglio\", 'Rezzato', 'Roccafranca', 'Roè Volciano',\n",
       "       'Roncadelle', 'Sabbio Chiese', 'Sale Marasino', 'Salò',\n",
       "       'San Felice del Benaco', 'San Gervasio Bresciano', 'Sarezzo',\n",
       "       'Torbole Casaglia', 'Travagliato', 'Trenzano', 'Verolanuova',\n",
       "       'Verolavecchia', 'Villa Carcina', 'Villanuova sul Clisi',\n",
       "       'Vobarno', 'Piancogno', 'Albuzzano', 'Arena Po', 'Belgioioso',\n",
       "       'Brallo di Pregola', 'Breme', 'Bressana Bottarone', 'Broni',\n",
       "       'Casei Gerola', 'Casorate Primo', 'Cassolnovo', 'Cava Manara',\n",
       "       'Chignolo Po', 'Cigognola', 'Cura Carpignano', 'Gambolò',\n",
       "       'Giussago', 'Godiasco Salice Terme', 'Gravellona Lomellina',\n",
       "       'Gropello Cairoli', 'Landriano', 'Linarolo', 'Lomello',\n",
       "       'Miradolo Terme', 'Montebello della Battaglia', 'Montù Beccaria',\n",
       "       'Mortara', 'Ottobiano', 'Parona', 'Pavia', 'Pieve del Cairo',\n",
       "       'Pieve Porto Morone', 'Pinarolo Po', 'Retorbido', 'Robbio',\n",
       "       'Romagnese', 'Sartirana Lomellina', 'Siziano', 'Stradella',\n",
       "       'Varzi', 'Vidigulfo', 'Villanterio', 'Voghera', 'Zavattarello',\n",
       "       'Acquanegra Cremonese', 'Agnadello', 'Annicco', 'Bagnolo Cremasco',\n",
       "       'Capergnanica', 'Capralba', 'Casalbuttano ed Uniti',\n",
       "       'Casalmaggiore', 'Casalmorano', 'Castelleone', 'Castelverde',\n",
       "       \"Cingia de' Botti\", 'Crema', 'Cremona', 'Dovera', 'Gussola',\n",
       "       'Madignano', 'Malagnino', 'Offanengo', 'Ostiano',\n",
       "       'Paderno Ponchielli', 'Palazzo Pignano', 'Pandino',\n",
       "       'Pizzighettone', 'Ripalta Cremasca', 'Rivarolo del Re ed Uniti',\n",
       "       \"Rivolta d'Adda\", 'Romanengo', 'San Bassano', 'San Daniele Po',\n",
       "       'Scandolara Ravara', 'Sesto ed Uniti', 'Soncino', 'Soresina',\n",
       "       'Stagno Lombardo', 'Trescore Cremasco', 'Vaiano Cremasco',\n",
       "       'Vailate', 'Vescovato', 'Piadena Drizzona',\n",
       "       'Acquanegra sul Chiese', 'Asola', 'Bagnolo San Vito', 'Casalmoro',\n",
       "       'Casaloldo', 'Castelbelforte', 'Castel Goffredo',\n",
       "       'Castiglione delle Stiviere', 'Ceresara', 'Dosolo',\n",
       "       'Gazoldo degli Ippoliti', 'Goito', 'Guidizzolo', 'Magnacavallo',\n",
       "       'Mantova', 'Marmirolo', 'Moglia', 'Monzambano', 'Motteggiana',\n",
       "       'Pegognaga', 'Porto Mantovano', 'Quistello', 'Rivarolo Mantovano',\n",
       "       'Rodigo', 'Roncoferraro', 'Roverbella', 'Sabbioneta',\n",
       "       'San Benedetto Po', 'San Giorgio Bigarello', 'Schivenoglia',\n",
       "       'Sermide e Felonica', 'Solferino', 'Viadana', 'Villimpenta',\n",
       "       'Borgo Mantovano', 'Borgocarbonara', 'Barzanò', 'Brivio', 'Calco',\n",
       "       'Calolziocorte', 'Casatenovo', 'Cernusco Lombardone', 'Civate',\n",
       "       'Colico', 'Costa Masnaga', 'Galbiate', 'Lecco', 'Lomagna',\n",
       "       'Mandello del Lario', 'Missaglia', 'Molteno', 'Monticello Brianza',\n",
       "       'Olgiate Molgora', 'Olginate', 'Osnago', \"Paderno d'Adda\",\n",
       "       'Robbiate', 'Vercurago', 'Verderio', 'Borghetto Lodigiano',\n",
       "       'Brembio', 'Casaletto Lodigiano', 'Casalpusterlengo',\n",
       "       'Caselle Landi', \"Castelnuovo Bocca d'Adda\", \"Castiglione d'Adda\",\n",
       "       \"Cervignano d'Adda\", 'Codogno', 'Corno Giovine', 'Crespiatica',\n",
       "       'Fombio', 'Graffignana', 'Guardamiglio', 'Livraga', 'Lodi',\n",
       "       'Lodi Vecchio', 'Maleo', 'Massalengo', 'Montanaso Lombardo',\n",
       "       'Mulazzano', 'San Fiorano', 'San Martino in Strada',\n",
       "       'San Rocco al Porto', \"Sant'Angelo Lodigiano\", 'Senna Lodigiana',\n",
       "       'Somaglia', 'Sordio', 'Tavazzano con Villavesco',\n",
       "       'Turano Lodigiano', 'Agrate Brianza', 'Albiate', 'Arcore',\n",
       "       'Barlassina', 'Bellusco', 'Bernareggio', 'Biassono',\n",
       "       'Bovisio-Masciago', 'Briosco', 'Carnate', 'Cavenago di Brianza',\n",
       "       'Cogliate', 'Concorezzo', 'Giussano', 'Lissone', 'Macherio',\n",
       "       'Meda', 'Mezzago', 'Monza', 'Nova Milanese', 'Ornago',\n",
       "       'Ronco Briantino', 'Seveso', 'Sovico', 'Triuggio', 'Varedo',\n",
       "       'Vedano al Lambro', 'Veduggio con Colzano', 'Villasanta',\n",
       "       'Vimercate', 'Busnago', 'Caponago', \"Cornate d'Adda\"], dtype=object)"
      ]
     },
     "execution_count": 30,
     "metadata": {},
     "output_type": "execute_result"
    }
   ],
   "source": [
    "morti_2020[morti_2020.NOME_REGIONE=='Lombardia'].NOME_COMUNE.unique()"
   ]
  },
  {
   "cell_type": "code",
   "execution_count": null,
   "metadata": {},
   "outputs": [],
   "source": []
  },
  {
   "cell_type": "code",
   "execution_count": null,
   "metadata": {},
   "outputs": [],
   "source": []
  },
  {
   "cell_type": "code",
   "execution_count": 6,
   "metadata": {},
   "outputs": [
    {
     "data": {
      "text/html": [
       "<div>\n",
       "<style scoped>\n",
       "    .dataframe tbody tr th:only-of-type {\n",
       "        vertical-align: middle;\n",
       "    }\n",
       "\n",
       "    .dataframe tbody tr th {\n",
       "        vertical-align: top;\n",
       "    }\n",
       "\n",
       "    .dataframe thead th {\n",
       "        text-align: right;\n",
       "    }\n",
       "</style>\n",
       "<table border=\"1\" class=\"dataframe\">\n",
       "  <thead>\n",
       "    <tr style=\"text-align: right;\">\n",
       "      <th></th>\n",
       "      <th>COMUNE</th>\n",
       "      <th>NOME_COMUNE</th>\n",
       "      <th>PROVINCIA</th>\n",
       "      <th>NOME_PROVINCIA</th>\n",
       "      <th>REGIONE</th>\n",
       "      <th>NOME_REGIONE</th>\n",
       "      <th>MESE_DECESSO</th>\n",
       "      <th>GIORNO_DECESSO</th>\n",
       "      <th>DECESSI_2015</th>\n",
       "      <th>DECESSI_2016</th>\n",
       "      <th>DECESSI_2017</th>\n",
       "      <th>DECESSI_2018</th>\n",
       "      <th>DECESSI_2019</th>\n",
       "    </tr>\n",
       "  </thead>\n",
       "  <tbody>\n",
       "    <tr>\n",
       "      <td>0</td>\n",
       "      <td>1001</td>\n",
       "      <td>Agliè</td>\n",
       "      <td>1</td>\n",
       "      <td>Torino</td>\n",
       "      <td>1</td>\n",
       "      <td>Piemonte</td>\n",
       "      <td>1</td>\n",
       "      <td>1</td>\n",
       "      <td>0</td>\n",
       "      <td>0</td>\n",
       "      <td>0</td>\n",
       "      <td>0</td>\n",
       "      <td>0</td>\n",
       "    </tr>\n",
       "    <tr>\n",
       "      <td>1</td>\n",
       "      <td>1001</td>\n",
       "      <td>Agliè</td>\n",
       "      <td>1</td>\n",
       "      <td>Torino</td>\n",
       "      <td>1</td>\n",
       "      <td>Piemonte</td>\n",
       "      <td>1</td>\n",
       "      <td>2</td>\n",
       "      <td>0</td>\n",
       "      <td>0</td>\n",
       "      <td>0</td>\n",
       "      <td>1</td>\n",
       "      <td>0</td>\n",
       "    </tr>\n",
       "    <tr>\n",
       "      <td>2</td>\n",
       "      <td>1001</td>\n",
       "      <td>Agliè</td>\n",
       "      <td>1</td>\n",
       "      <td>Torino</td>\n",
       "      <td>1</td>\n",
       "      <td>Piemonte</td>\n",
       "      <td>1</td>\n",
       "      <td>3</td>\n",
       "      <td>0</td>\n",
       "      <td>0</td>\n",
       "      <td>0</td>\n",
       "      <td>0</td>\n",
       "      <td>0</td>\n",
       "    </tr>\n",
       "    <tr>\n",
       "      <td>3</td>\n",
       "      <td>1001</td>\n",
       "      <td>Agliè</td>\n",
       "      <td>1</td>\n",
       "      <td>Torino</td>\n",
       "      <td>1</td>\n",
       "      <td>Piemonte</td>\n",
       "      <td>1</td>\n",
       "      <td>4</td>\n",
       "      <td>0</td>\n",
       "      <td>1</td>\n",
       "      <td>0</td>\n",
       "      <td>0</td>\n",
       "      <td>0</td>\n",
       "    </tr>\n",
       "    <tr>\n",
       "      <td>4</td>\n",
       "      <td>1001</td>\n",
       "      <td>Agliè</td>\n",
       "      <td>1</td>\n",
       "      <td>Torino</td>\n",
       "      <td>1</td>\n",
       "      <td>Piemonte</td>\n",
       "      <td>1</td>\n",
       "      <td>5</td>\n",
       "      <td>0</td>\n",
       "      <td>0</td>\n",
       "      <td>0</td>\n",
       "      <td>0</td>\n",
       "      <td>0</td>\n",
       "    </tr>\n",
       "  </tbody>\n",
       "</table>\n",
       "</div>"
      ],
      "text/plain": [
       "   COMUNE NOME_COMUNE  PROVINCIA NOME_PROVINCIA  REGIONE NOME_REGIONE  \\\n",
       "0    1001       Agliè          1         Torino        1     Piemonte   \n",
       "1    1001       Agliè          1         Torino        1     Piemonte   \n",
       "2    1001       Agliè          1         Torino        1     Piemonte   \n",
       "3    1001       Agliè          1         Torino        1     Piemonte   \n",
       "4    1001       Agliè          1         Torino        1     Piemonte   \n",
       "\n",
       "   MESE_DECESSO  GIORNO_DECESSO  DECESSI_2015  DECESSI_2016  DECESSI_2017  \\\n",
       "0             1               1             0             0             0   \n",
       "1             1               2             0             0             0   \n",
       "2             1               3             0             0             0   \n",
       "3             1               4             0             1             0   \n",
       "4             1               5             0             0             0   \n",
       "\n",
       "   DECESSI_2018  DECESSI_2019  \n",
       "0             0             0  \n",
       "1             1             0  \n",
       "2             0             0  \n",
       "3             0             0  \n",
       "4             0             0  "
      ]
     },
     "execution_count": 6,
     "metadata": {},
     "output_type": "execute_result"
    }
   ],
   "source": [
    "morti_storico = pd.read_excel(\"/Users/mrp/Desktop/CovidDemo/mortalità-per-giorno-periodo-01_01-30_04-anni-2015-2019-totali/totali_comunali.xlsx\")\n",
    "morti_storico.head()"
   ]
  },
  {
   "cell_type": "code",
   "execution_count": 8,
   "metadata": {},
   "outputs": [
    {
     "data": {
      "text/plain": [
       "Index(['COMUNE', 'NOME_COMUNE', 'PROVINCIA', 'NOME_PROVINCIA', 'REGIONE',\n",
       "       'NOME_REGIONE', 'MESE_DECESSO', 'GIORNO_DECESSO', 'DECESSI_2015',\n",
       "       'DECESSI_2016', 'DECESSI_2017', 'DECESSI_2018', 'DECESSI_2019'],\n",
       "      dtype='object')"
      ]
     },
     "execution_count": 8,
     "metadata": {},
     "output_type": "execute_result"
    }
   ],
   "source": [
    "morti_storico.columns"
   ]
  },
  {
   "cell_type": "code",
   "execution_count": 57,
   "metadata": {},
   "outputs": [
    {
     "data": {
      "text/plain": [
       "4"
      ]
     },
     "execution_count": 57,
     "metadata": {},
     "output_type": "execute_result"
    }
   ],
   "source": [
    "morti_storico.MESE_DECESSO.max()"
   ]
  },
  {
   "cell_type": "code",
   "execution_count": null,
   "metadata": {},
   "outputs": [],
   "source": []
  }
 ],
 "metadata": {
  "kernelspec": {
   "display_name": "Python 3",
   "language": "python",
   "name": "python3"
  },
  "language_info": {
   "codemirror_mode": {
    "name": "ipython",
    "version": 3
   },
   "file_extension": ".py",
   "mimetype": "text/x-python",
   "name": "python",
   "nbconvert_exporter": "python",
   "pygments_lexer": "ipython3",
   "version": "3.7.4"
  }
 },
 "nbformat": 4,
 "nbformat_minor": 4
}
