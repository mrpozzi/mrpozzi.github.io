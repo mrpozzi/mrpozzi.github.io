{
 "cells": [
  {
   "cell_type": "code",
   "execution_count": 1,
   "metadata": {},
   "outputs": [],
   "source": [
    "%matplotlib inline\n",
    "%load_ext autoreload\n",
    "%autoreload 2\n",
    "import sys\n",
    "from os.path import expanduser\n",
    "\n",
    "sys.path.append(\"{0}/repos/polso/strava/\".format(expanduser(\"~\")))\n",
    "\n",
    "import pandas as pd\n",
    "import datetime\n",
    "\n",
    "from IPython.display import Markdown\n",
    "\n",
    "from strava_dash import StravaScraper\n"
   ]
  },
  {
   "cell_type": "code",
   "execution_count": 2,
   "metadata": {},
   "outputs": [],
   "source": [
    "YD_2_MILES = 0.0006"
   ]
  },
  {
   "cell_type": "code",
   "execution_count": 3,
   "metadata": {},
   "outputs": [],
   "source": [
    "def filter_pbear(training):\n",
    "    training.swims = training.swims.query(\"temperature <= 56\")\n",
    "    training.total_yards = int(training.swims.distance.sum())\n",
    "    return training"
   ]
  },
  {
   "cell_type": "code",
   "execution_count": 4,
   "metadata": {},
   "outputs": [
    {
     "name": "stderr",
     "output_type": "stream",
     "text": [
      "2021-01-18 18:33:59.286 | INFO     | stravaio:strava_oauth2:343 - serving at port 8000\n",
      "2021-01-18 18:34:02.217 | DEBUG    | stravaio:run_server_and_wait_for_token:397 - code: 961aa6dcf7036ad9301810007686bad56fae577f\n",
      "2021-01-18 18:34:07.669 | DEBUG    | stravaio:run_server_and_wait_for_token:406 - Authorized athlete: 33eb5f1107488e88250d8b4e5fbb69389623c844\n"
     ]
    }
   ],
   "source": [
    "%%capture\n",
    "training = StravaScraper()\n",
    "training.get_swims(after='2020-12-21', before='2021-03-21')\n",
    "training = filter_pbear(training)"
   ]
  },
  {
   "cell_type": "markdown",
   "metadata": {},
   "source": [
    "# Distance"
   ]
  },
  {
   "cell_type": "code",
   "execution_count": 5,
   "metadata": {},
   "outputs": [
    {
     "data": {
      "text/markdown": [
       "\n",
       "##### Total Miles: 28.243199999999998 \n"
      ],
      "text/plain": [
       "<IPython.core.display.Markdown object>"
      ]
     },
     "execution_count": 5,
     "metadata": {},
     "output_type": "execute_result"
    }
   ],
   "source": [
    "from IPython.display import Markdown\n",
    "\n",
    "Markdown(\"\"\"\n",
    "##### Total Miles: {0} \n",
    "\"\"\".format(training.total_yards * YD_2_MILES))"
   ]
  },
  {
   "cell_type": "markdown",
   "metadata": {},
   "source": [
    "# Time"
   ]
  },
  {
   "cell_type": "code",
   "execution_count": 6,
   "metadata": {},
   "outputs": [
    {
     "data": {
      "text/markdown": [
       "\n",
       "##### Total Hours: 19.730277777777783 \n"
      ],
      "text/plain": [
       "<IPython.core.display.Markdown object>"
      ]
     },
     "execution_count": 6,
     "metadata": {},
     "output_type": "execute_result"
    }
   ],
   "source": [
    "Markdown(\"\"\"\n",
    "##### Total Hours: {0} \n",
    "\"\"\".format(training.swims.hours.sum()))"
   ]
  },
  {
   "cell_type": "code",
   "execution_count": 7,
   "metadata": {},
   "outputs": [
    {
     "data": {
      "text/html": [
       "<div>\n",
       "<style scoped>\n",
       "    .dataframe tbody tr th:only-of-type {\n",
       "        vertical-align: middle;\n",
       "    }\n",
       "\n",
       "    .dataframe tbody tr th {\n",
       "        vertical-align: top;\n",
       "    }\n",
       "\n",
       "    .dataframe thead th {\n",
       "        text-align: right;\n",
       "    }\n",
       "</style>\n",
       "<table border=\"1\" class=\"dataframe\">\n",
       "  <thead>\n",
       "    <tr style=\"text-align: right;\">\n",
       "      <th></th>\n",
       "      <th>name</th>\n",
       "      <th>temperature</th>\n",
       "      <th>elapsed_time</th>\n",
       "      <th>average_speed</th>\n",
       "    </tr>\n",
       "    <tr>\n",
       "      <th>start_date</th>\n",
       "      <th></th>\n",
       "      <th></th>\n",
       "      <th></th>\n",
       "      <th></th>\n",
       "    </tr>\n",
       "  </thead>\n",
       "  <tbody>\n",
       "    <tr>\n",
       "      <td>2021-01-17 07:58:06-08:00</td>\n",
       "      <td>Not Coughlan</td>\n",
       "      <td>51.8</td>\n",
       "      <td>01:25:26</td>\n",
       "      <td>0.724</td>\n",
       "    </tr>\n",
       "    <tr>\n",
       "      <td>2021-01-16 07:44:56-08:00</td>\n",
       "      <td>Last famous words: that flood aint shit...</td>\n",
       "      <td>51.8</td>\n",
       "      <td>04:03:56</td>\n",
       "      <td>0.481</td>\n",
       "    </tr>\n",
       "    <tr>\n",
       "      <td>2021-01-14 06:30:32-08:00</td>\n",
       "      <td>Nice and foggy...</td>\n",
       "      <td>51.8</td>\n",
       "      <td>01:45:11</td>\n",
       "      <td>0.728</td>\n",
       "    </tr>\n",
       "    <tr>\n",
       "      <td>2021-01-13 06:50:04-08:00</td>\n",
       "      <td>Talk less... swim more...</td>\n",
       "      <td>51.8</td>\n",
       "      <td>01:09:59</td>\n",
       "      <td>0.845</td>\n",
       "    </tr>\n",
       "    <tr>\n",
       "      <td>2021-01-11 06:56:59-08:00</td>\n",
       "      <td>Bump...</td>\n",
       "      <td>51.8</td>\n",
       "      <td>00:59:53</td>\n",
       "      <td>0.782</td>\n",
       "    </tr>\n",
       "    <tr>\n",
       "      <td>2021-01-09 08:07:06-08:00</td>\n",
       "      <td>In the (Sea)Lion den...</td>\n",
       "      <td>51.8</td>\n",
       "      <td>03:03:55</td>\n",
       "      <td>0.670</td>\n",
       "    </tr>\n",
       "    <tr>\n",
       "      <td>2021-01-08 06:50:57-08:00</td>\n",
       "      <td>Pink lantern</td>\n",
       "      <td>51.8</td>\n",
       "      <td>00:52:28</td>\n",
       "      <td>0.624</td>\n",
       "    </tr>\n",
       "    <tr>\n",
       "      <td>2021-01-06 06:27:43-08:00</td>\n",
       "      <td>GPS is kinda dodgy....</td>\n",
       "      <td>51.8</td>\n",
       "      <td>00:47:45</td>\n",
       "      <td>0.954</td>\n",
       "    </tr>\n",
       "    <tr>\n",
       "      <td>2021-01-04 06:33:25-08:00</td>\n",
       "      <td>Dark and rainy ebb</td>\n",
       "      <td>51.8</td>\n",
       "      <td>00:41:25</td>\n",
       "      <td>0.607</td>\n",
       "    </tr>\n",
       "    <tr>\n",
       "      <td>2021-01-03 08:25:27-08:00</td>\n",
       "      <td>Turning blue</td>\n",
       "      <td>51.8</td>\n",
       "      <td>02:05:10</td>\n",
       "      <td>0.655</td>\n",
       "    </tr>\n",
       "    <tr>\n",
       "      <td>2021-01-01 09:40:51-08:00</td>\n",
       "      <td>Happy 2021!!!!</td>\n",
       "      <td>51.8</td>\n",
       "      <td>01:00:05</td>\n",
       "      <td>0.658</td>\n",
       "    </tr>\n",
       "    <tr>\n",
       "      <td>2020-12-31 10:20:18-08:00</td>\n",
       "      <td>Last swim of 2020</td>\n",
       "      <td>51.8</td>\n",
       "      <td>00:27:29</td>\n",
       "      <td>0.766</td>\n",
       "    </tr>\n",
       "    <tr>\n",
       "      <td>2020-12-22 07:02:34-08:00</td>\n",
       "      <td>Last one for the road!</td>\n",
       "      <td>51.8</td>\n",
       "      <td>00:46:02</td>\n",
       "      <td>0.652</td>\n",
       "    </tr>\n",
       "    <tr>\n",
       "      <td>2020-12-21 12:43:16-08:00</td>\n",
       "      <td>Let the polar bear begin!</td>\n",
       "      <td>51.8</td>\n",
       "      <td>00:35:05</td>\n",
       "      <td>0.739</td>\n",
       "    </tr>\n",
       "  </tbody>\n",
       "</table>\n",
       "</div>"
      ],
      "text/plain": [
       "                                                                 name  \\\n",
       "start_date                                                              \n",
       "2021-01-17 07:58:06-08:00                                Not Coughlan   \n",
       "2021-01-16 07:44:56-08:00  Last famous words: that flood aint shit...   \n",
       "2021-01-14 06:30:32-08:00                           Nice and foggy...   \n",
       "2021-01-13 06:50:04-08:00                   Talk less... swim more...   \n",
       "2021-01-11 06:56:59-08:00                                     Bump...   \n",
       "2021-01-09 08:07:06-08:00                     In the (Sea)Lion den...   \n",
       "2021-01-08 06:50:57-08:00                               Pink lantern    \n",
       "2021-01-06 06:27:43-08:00                      GPS is kinda dodgy....   \n",
       "2021-01-04 06:33:25-08:00                          Dark and rainy ebb   \n",
       "2021-01-03 08:25:27-08:00                                Turning blue   \n",
       "2021-01-01 09:40:51-08:00                              Happy 2021!!!!   \n",
       "2020-12-31 10:20:18-08:00                           Last swim of 2020   \n",
       "2020-12-22 07:02:34-08:00                      Last one for the road!   \n",
       "2020-12-21 12:43:16-08:00                   Let the polar bear begin!   \n",
       "\n",
       "                           temperature elapsed_time  average_speed  \n",
       "start_date                                                          \n",
       "2021-01-17 07:58:06-08:00         51.8     01:25:26          0.724  \n",
       "2021-01-16 07:44:56-08:00         51.8     04:03:56          0.481  \n",
       "2021-01-14 06:30:32-08:00         51.8     01:45:11          0.728  \n",
       "2021-01-13 06:50:04-08:00         51.8     01:09:59          0.845  \n",
       "2021-01-11 06:56:59-08:00         51.8     00:59:53          0.782  \n",
       "2021-01-09 08:07:06-08:00         51.8     03:03:55          0.670  \n",
       "2021-01-08 06:50:57-08:00         51.8     00:52:28          0.624  \n",
       "2021-01-06 06:27:43-08:00         51.8     00:47:45          0.954  \n",
       "2021-01-04 06:33:25-08:00         51.8     00:41:25          0.607  \n",
       "2021-01-03 08:25:27-08:00         51.8     02:05:10          0.655  \n",
       "2021-01-01 09:40:51-08:00         51.8     01:00:05          0.658  \n",
       "2020-12-31 10:20:18-08:00         51.8     00:27:29          0.766  \n",
       "2020-12-22 07:02:34-08:00         51.8     00:46:02          0.652  \n",
       "2020-12-21 12:43:16-08:00         51.8     00:35:05          0.739  "
      ]
     },
     "execution_count": 7,
     "metadata": {},
     "output_type": "execute_result"
    }
   ],
   "source": [
    "training.swims[['name', 'temperature', 'elapsed_time', 'average_speed']]"
   ]
  },
  {
   "cell_type": "code",
   "execution_count": 14,
   "metadata": {},
   "outputs": [
    {
     "data": {
      "image/png": "[encoded data removed]",
      "text/plain": [
       "<Figure size 1800x1080 with 2 Axes>"
      ]
     },
     "metadata": {
      "needs_background": "light"
     },
     "output_type": "display_data"
    }
   ],
   "source": [
    "tmp = training.plot_summary(yardage_goal=25000)\n"
   ]
  },
  {
   "cell_type": "code",
   "execution_count": null,
   "metadata": {},
   "outputs": [],
   "source": []
  }
 ],
 "metadata": {
  "kernelspec": {
   "display_name": "Python 3",
   "language": "python",
   "name": "python3"
  },
  "language_info": {
   "codemirror_mode": {
    "name": "ipython",
    "version": 3
   },
   "file_extension": ".py",
   "mimetype": "text/x-python",
   "name": "python",
   "nbconvert_exporter": "python",
   "pygments_lexer": "ipython3",
   "version": "3.7.4"
  }
 },
 "nbformat": 4,
 "nbformat_minor": 4
}
