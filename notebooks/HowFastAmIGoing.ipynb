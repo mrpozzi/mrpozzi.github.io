{
 "cells": [
  {
   "cell_type": "raw",
   "metadata": {},
   "source": [
    "---\n",
    "layout: post\n",
    "title: \"How Fast am I Swimming?\"\n",
    "date: 2018-09-20 8:30:00\n",
    "categories: marathonswimming\n",
    "featured_image: /images/cover.jpg\n",
    "---"
   ]
  },
  {
   "cell_type": "markdown",
   "metadata": {},
   "source": [
    "I personally always have trouble converting from my hundred yards pace to my mile time, or to go from my total time to my 100 yards pace. This is particularly important in marathon swimming, when your pace is crucial to time your crossing and do the dance with the tides.\n",
    "\n",
    "A very important metric is the pace per mile, but I tend to reason better in terms of 100 yards (meters) pace (also thanks to my GPS watch).\n",
    "\n",
    "To help me with that I wrote down some `Python` [utility](https://github.com/mrpozzi/polso/blob/master/miscellanea/pace_calculator.py) to go from the split time to the total time and viceversa, and to calculate my pace per mile"
   ]
  },
  {
   "cell_type": "code",
   "execution_count": 1,
   "metadata": {},
   "outputs": [],
   "source": [
    "import sys\n",
    "sys.path.append(\"/Users/lpozzi/Documents/GitHub/polso/miscellanea/\")\n",
    "from pace_calculator import (hundred_split_to_total, total_to_hundred_split, \n",
    "                             hundred_pace_to_mile_pace, total_to_mph)"
   ]
  },
  {
   "cell_type": "markdown",
   "metadata": {},
   "source": [
    "### Split to total"
   ]
  },
  {
   "cell_type": "markdown",
   "metadata": {},
   "source": [
    "First let's ballpark how long it would take me to swim a mile at some plausible open water times"
   ]
  },
  {
   "cell_type": "code",
   "execution_count": 7,
   "metadata": {},
   "outputs": [
    {
     "name": "stdout",
     "output_type": "stream",
     "text": [
      "0:30:15\n",
      "0:26:7\n",
      "0:27:30\n"
     ]
    }
   ],
   "source": [
    "# mile pace\n",
    "hundred_split_to_total(1, 50, 16.5)\n",
    "hundred_split_to_total(1, 35, 16.5)\n",
    "hundred_split_to_total(1, 40, 16.5)"
   ]
  },
  {
   "cell_type": "markdown",
   "metadata": {},
   "source": [
    "All cool, but how many miles per hour is that?"
   ]
  },
  {
   "cell_type": "code",
   "execution_count": 8,
   "metadata": {},
   "outputs": [
    {
     "name": "stdout",
     "output_type": "stream",
     "text": [
      "1.9834710743801653 miles/h\n",
      "2.2966507177033493 miles/h\n",
      "2.1818181818181817 miles/h\n"
     ]
    }
   ],
   "source": [
    "# miles per hour\n",
    "hundred_pace_to_mile_pace(1, 50)\n",
    "hundred_pace_to_mile_pace(1, 35)\n",
    "hundred_pace_to_mile_pace(1, 40)"
   ]
  },
  {
   "cell_type": "markdown",
   "metadata": {},
   "source": [
    "### Tahoe"
   ]
  },
  {
   "cell_type": "markdown",
   "metadata": {},
   "source": [
    "Now let's look back at my recent [Tahoe Length](https://db.marathonswimmers.org/events/lake-tahoe/) crossing:"
   ]
  },
  {
   "cell_type": "code",
   "execution_count": 5,
   "metadata": {},
   "outputs": [
    {
     "name": "stdout",
     "output_type": "stream",
     "text": [
      "0:1:46\n"
     ]
    }
   ],
   "source": [
    "total_to_hundred_split(10, 31, 0, 21.5*16.5)"
   ]
  },
  {
   "cell_type": "code",
   "execution_count": 6,
   "metadata": {},
   "outputs": [
    {
     "name": "stdout",
     "output_type": "stream",
     "text": [
      "2.0443740095087164\n"
     ]
    }
   ],
   "source": [
    "total_to_mph(10, 31, 0, 21.5)"
   ]
  },
  {
   "cell_type": "markdown",
   "metadata": {},
   "source": [
    "I clearly have to work more on my feeds: talk less and eat quick ;)"
   ]
  },
  {
   "cell_type": "markdown",
   "metadata": {},
   "source": [
    "[source](https://github.com/mrpozzi/mrpozzi.github.io/blob/master/notebooks/HowFastAmIGoing.ipynb)"
   ]
  }
 ],
 "metadata": {
  "kernelspec": {
   "display_name": "Python 3",
   "language": "python",
   "name": "python3"
  },
  "language_info": {
   "codemirror_mode": {
    "name": "ipython",
    "version": 3
   },
   "file_extension": ".py",
   "mimetype": "text/x-python",
   "name": "python",
   "nbconvert_exporter": "python",
   "pygments_lexer": "ipython3",
   "version": "3.6.4"
  }
 },
 "nbformat": 4,
 "nbformat_minor": 2
}
