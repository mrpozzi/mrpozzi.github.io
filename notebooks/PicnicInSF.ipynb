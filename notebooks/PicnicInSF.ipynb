{
 "cells": [
  {
   "cell_type": "raw",
   "metadata": {},
   "source": [
    "--- \n",
    "layout: \n",
    "post title: \"Picnic in San Francisco\" \n",
    "date: 2018-04-07 8:30:00 \n",
    "categories: applications, data mining \n",
    "featured_image: /images/cover.jpg \n",
    "---"
   ]
  },
  {
   "cell_type": "markdown",
   "metadata": {},
   "source": [
    "My beloved [SF Tsunami Master Team](http://sftsunami.org/) had planned a great picnic for this week end. For the second year in a row the plan had to be canceled due to inclement weather. \n",
    "\n",
    "I admit I sneered at the idea of having the picnic the same month as last year, considering that it got canceled once. However, forming opinions based on a sample size of two with a sprinkle of gut feeling is not the way a Scientist does things, so I thought it would be interesting and constructive to pull some data to validate or disprove my prejudice and to provide a valid alternative."
   ]
  },
  {
   "cell_type": "markdown",
   "metadata": {},
   "source": [
    "My hypothesis is quite simple: in April chances of rain are way higher than in May, while temperatures are pretty constant, so the latter would be a better option to plan outdoor activities."
   ]
  },
  {
   "cell_type": "code",
   "execution_count": 7,
   "metadata": {},
   "outputs": [
    {
     "name": "stdout",
     "output_type": "stream",
     "text": [
      "The autoreload extension is already loaded. To reload it, use:\n",
      "  %reload_ext autoreload\n"
     ]
    }
   ],
   "source": [
    "%matplotlib inline\n",
    "%load_ext autoreload\n",
    "%autoreload 2\n",
    "import pandas as pd\n",
    "\n",
    "import urllib.request\n",
    "from bs4 import BeautifulSoup\n",
    "\n",
    "import matplotlib\n",
    "from matplotlib import pyplot as plt\n",
    "plt.style.use('ggplot')\n",
    "\n",
    "matplotlib.rcParams['figure.figsize'] = (20.0, 10.0)"
   ]
  },
  {
   "cell_type": "markdown",
   "metadata": {},
   "source": [
    "With a quick Google search I ran into [this](ggweather.com) site which reports monthly and daily information about temperature and precipitations. \n",
    "\n",
    "The format is quite easy to scrape. The data I'm interested in are the monthly average temperatures and the number of rainy days per month."
   ]
  },
  {
   "cell_type": "code",
   "execution_count": 3,
   "metadata": {},
   "outputs": [],
   "source": [
    "class PicNicPlanner(object):\n",
    "    \n",
    "    RAIN_URL = 'http://ggweather.com/sf/daily.html'\n",
    "    TEMP_URL = 'http://ggweather.com/sf/monthly%20mean%20temps.html'\n",
    "    \n",
    "    def __init__(self):\n",
    "        self.rain_table = None\n",
    "        self.temperature_table = None\n",
    "    \n",
    "    def _read_soup(self, url, split='\\t'):\n",
    "        flob = urllib.request.urlopen(url)\n",
    "        s = flob.read()\n",
    "        flob.close()\n",
    "        soup = BeautifulSoup(s, \"lxml\")\n",
    "        return [s for s in soup.findAll('table')[1].get_text().split(split) if len(s)>0]\n",
    "    \n",
    "    def _clean_rain(self, row):\n",
    "        return pd.Series(row.strip().split('\\n')[1:]).astype(float) \n",
    "    \n",
    "    def get_rains(self):\n",
    "        if self.rain_table is None:\n",
    "            raw_rows = self._read_soup(self.RAIN_URL, '\\xa0')\n",
    "            cleaned_rows = pd.concat(\n",
    "                [self._clean_rain(row) for row in raw_rows if 'Days' in row and 'Rain' not in row], \n",
    "                axis=1)\n",
    "            cleaned_rows.index = ['Jul', 'Aug', 'Sep', 'Oct', 'Nov', 'Dec', \n",
    "                                  'Jan', 'Feb', 'Mar', 'Apr', 'May', 'Jun']\n",
    "            self.rain_table = cleaned_rows.transpose()\n",
    "            self.rain_table.index = list(range(2008,2018))\n",
    "        return self.rain_table\n",
    "        \n",
    "    def _clean_temperatures(self, row):\n",
    "        if len(row) > 1 and not (\n",
    "            'Copyright' in row or \n",
    "            'Reproduction' in row or \n",
    "            'San Francisco' in row):\n",
    "            return pd.Series(row.strip().split('\\n'))\n",
    "    \n",
    "    def get_temperatures(self):\n",
    "        if self.temperature_table is None:\n",
    "            raw_rows = self._read_soup(self.TEMP_URL)\n",
    "            cleaned_rows = pd.concat([self._clean_temperatures(row) \n",
    "                                      for row in raw_rows[2:]],axis=1)\n",
    "            cleaned_rows.columns = cleaned_rows.iloc[0]\n",
    "            cleaned_rows = cleaned_rows.drop(0).dropna(axis=0)\n",
    "            cleaned_rows.index = ['Jan', 'Feb', 'Mar', 'Apr', 'May', 'Jun', \n",
    "                                  'Jul', 'Aug', 'Sep', 'Oct', 'Nov', 'Dec', 'Annual']\n",
    "            self.temperature_table = cleaned_rows.transpose()\n",
    "            self.temperature_table = self.temperature_table.astype(float)\n",
    "        return self.temperature_table\n",
    "        \n",
    "        \n",
    "def num_days(month):\n",
    "    if month in ['Nov', 'Apr', 'Jun', 'Sep']:\n",
    "        return 30\n",
    "    if month == 'Feb':\n",
    "        return 28\n",
    "    return 31\n",
    "    "
   ]
  },
  {
   "cell_type": "code",
   "execution_count": 4,
   "metadata": {},
   "outputs": [],
   "source": [
    "planner = PicNicPlanner()\n",
    "temp = planner.get_temperatures()\n",
    "rains = planner.get_rains()"
   ]
  },
  {
   "cell_type": "markdown",
   "metadata": {},
   "source": [
    "The data seems to \n",
    "\n"
   ]
  },
  {
   "cell_type": "markdown",
   "metadata": {},
   "source": [
    "So, it turns out that the data confirms that having a picnic in SF in April is probably not the best idea if you want to frolic in the Sun, while your chances of having a successful event in May are almost **three times higher!** In the figure belowwe can see how April has a 23% chances of rain! Basically one day out of 4. As late as November we can have better conditions than in April, and yet I doubt people would consider reasonable to organize a picnic in November."
   ]
  },
  {
   "cell_type": "code",
   "execution_count": 14,
   "metadata": {},
   "outputs": [
    {
     "data": {
      "text/plain": [
       "(50, 65)"
      ]
     },
     "execution_count": 14,
     "metadata": {},
     "output_type": "execute_result"
    },
    {
     "data": {
      "image/png": "[encoded data removed]",
      "text/plain": [
       "<matplotlib.figure.Figure at 0x10a06a550>"
      ]
     },
     "metadata": {},
     "output_type": "display_data"
    }
   ],
   "source": [
    "fig, axes = plt.subplots(nrows=2, ncols=1)\n",
    "months = ['Jan', 'Feb', 'Mar', 'Apr', 'May', 'Jun',  'Jul', 'Aug', 'Sep', 'Oct', 'Nov', 'Dec']\n",
    "#axes[0].set_title('Average Rainy Days by Month')\n",
    "axes[0].set_title('Changes of Rain by Month')\n",
    "axes[1].set_title('Monthly Average Temperatures')\n",
    "axes[0].axhline(10, color='r', linestyle='--')\n",
    "\n",
    "(100*rains.mean() / rains.columns.map(num_days))[months].plot(kind='bar', ax=axes[0], sharex=True, color='#000099')\n",
    "axes[0].set_ylabel('Days')\n",
    "temp.mean()[months].plot(kind='bar', ax=axes[1], color='#7f0000')\n",
    "axes[1].set_ylabel('Hours')\n",
    "axes[1].set_xlabel('Month')\n",
    "axes[1].set_ylim([50,65]) # never too hot, never too warm"
   ]
  },
  {
   "cell_type": "code",
   "execution_count": 290,
   "metadata": {},
   "outputs": [
    {
     "data": {
      "text/html": [
       "<div>\n",
       "<style scoped>\n",
       "    .dataframe tbody tr th:only-of-type {\n",
       "        vertical-align: middle;\n",
       "    }\n",
       "\n",
       "    .dataframe tbody tr th {\n",
       "        vertical-align: top;\n",
       "    }\n",
       "\n",
       "    .dataframe thead th {\n",
       "        text-align: right;\n",
       "    }\n",
       "</style>\n",
       "<table border=\"1\" class=\"dataframe\">\n",
       "  <thead>\n",
       "    <tr style=\"text-align: right;\">\n",
       "      <th></th>\n",
       "      <th>Daily Chances of Rain</th>\n",
       "    </tr>\n",
       "  </thead>\n",
       "  <tbody>\n",
       "    <tr>\n",
       "      <th>Jan</th>\n",
       "      <td>27.741935</td>\n",
       "    </tr>\n",
       "    <tr>\n",
       "      <th>Feb</th>\n",
       "      <td>31.428571</td>\n",
       "    </tr>\n",
       "    <tr>\n",
       "      <th>Mar</th>\n",
       "      <td>32.580645</td>\n",
       "    </tr>\n",
       "    <tr>\n",
       "      <th>Apr</th>\n",
       "      <td>23.666667</td>\n",
       "    </tr>\n",
       "    <tr>\n",
       "      <th>May</th>\n",
       "      <td>8.709677</td>\n",
       "    </tr>\n",
       "    <tr>\n",
       "      <th>Jun</th>\n",
       "      <td>5.416667</td>\n",
       "    </tr>\n",
       "    <tr>\n",
       "      <th>Jul</th>\n",
       "      <td>4.193548</td>\n",
       "    </tr>\n",
       "    <tr>\n",
       "      <th>Aug</th>\n",
       "      <td>3.548387</td>\n",
       "    </tr>\n",
       "    <tr>\n",
       "      <th>Sep</th>\n",
       "      <td>3.666667</td>\n",
       "    </tr>\n",
       "    <tr>\n",
       "      <th>Oct</th>\n",
       "      <td>13.870968</td>\n",
       "    </tr>\n",
       "    <tr>\n",
       "      <th>Nov</th>\n",
       "      <td>24.333333</td>\n",
       "    </tr>\n",
       "    <tr>\n",
       "      <th>Dec</th>\n",
       "      <td>33.870968</td>\n",
       "    </tr>\n",
       "  </tbody>\n",
       "</table>\n",
       "</div>"
      ],
      "text/plain": [
       "     Daily Chances of Rain\n",
       "Jan              27.741935\n",
       "Feb              31.428571\n",
       "Mar              32.580645\n",
       "Apr              23.666667\n",
       "May               8.709677\n",
       "Jun               5.416667\n",
       "Jul               4.193548\n",
       "Aug               3.548387\n",
       "Sep               3.666667\n",
       "Oct              13.870968\n",
       "Nov              24.333333\n",
       "Dec              33.870968"
      ]
     },
     "execution_count": 290,
     "metadata": {},
     "output_type": "execute_result"
    }
   ],
   "source": [
    "pd.DataFrame({'Daily Chances of Rain': 100*rains.mean() / rains.columns.map(num_days)}).loc[months]"
   ]
  },
  {
   "cell_type": "markdown",
   "metadata": {},
   "source": [
    "The takehome message should be:\n",
    "- April is too soon to plan a picnic\n",
    "- May is quite dry\n",
    "- SF's weather is good enough to allow you to hang out outside as late as November!"
   ]
  },
  {
   "cell_type": "markdown",
   "metadata": {},
   "source": [
    "[source](https://github.com/mrpozzi/mrpozzi.github.io/blob/master/notebooks/PicnicInSF.ipynb)"
   ]
  }
 ],
 "metadata": {
  "kernelspec": {
   "display_name": "Python 3",
   "language": "python",
   "name": "python3"
  },
  "language_info": {
   "codemirror_mode": {
    "name": "ipython",
    "version": 3
   },
   "file_extension": ".py",
   "mimetype": "text/x-python",
   "name": "python",
   "nbconvert_exporter": "python",
   "pygments_lexer": "ipython3",
   "version": "3.6.4"
  }
 },
 "nbformat": 4,
 "nbformat_minor": 2
}
